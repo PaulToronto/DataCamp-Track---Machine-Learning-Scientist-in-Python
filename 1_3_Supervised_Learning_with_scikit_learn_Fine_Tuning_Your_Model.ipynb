{
  "nbformat": 4,
  "nbformat_minor": 0,
  "metadata": {
    "colab": {
      "provenance": [],
      "toc_visible": true,
      "authorship_tag": "ABX9TyMDBZ82Ah2nXan/8pONGR9e",
      "include_colab_link": true
    },
    "kernelspec": {
      "name": "python3",
      "display_name": "Python 3"
    },
    "language_info": {
      "name": "python"
    }
  },
  "cells": [
    {
      "cell_type": "markdown",
      "metadata": {
        "id": "view-in-github",
        "colab_type": "text"
      },
      "source": [
        "<a href=\"https://colab.research.google.com/github/PaulToronto/DataCamp-Track---Machine-Learning-Scientist-in-Python/blob/main/1_3_Supervised_Learning_with_scikit_learn_Fine_Tuning_Your_Model.ipynb\" target=\"_parent\"><img src=\"https://colab.research.google.com/assets/colab-badge.svg\" alt=\"Open In Colab\"/></a>"
      ]
    },
    {
      "cell_type": "markdown",
      "source": [
        "# 1-3 Supervised Learning with scikit-learn - Fine-Tuning Your Model"
      ],
      "metadata": {
        "id": "D_wld3jSqeB-"
      }
    },
    {
      "cell_type": "markdown",
      "source": [
        "## Imports"
      ],
      "metadata": {
        "id": "vXNA25Fdqh-0"
      }
    },
    {
      "cell_type": "code",
      "execution_count": 1,
      "metadata": {
        "id": "4h8BpmCoqO7r"
      },
      "outputs": [],
      "source": [
        "import pandas as pd\n",
        "import numpy as np\n",
        "import matplotlib.pyplot as plt\n",
        "\n",
        "from sklearn.model_selection import train_test_split\n",
        "from sklearn.model_selection import GridSearchCV, KFold, RandomizedSearchCV\n",
        "from sklearn.metrics import classification_report, confusion_matrix\n",
        "from sklearn.metrics import roc_curve, roc_auc_score\n",
        "from sklearn.neighbors import KNeighborsClassifier\n",
        "from sklearn.linear_model import LogisticRegression, Ridge, Lasso"
      ]
    },
    {
      "cell_type": "code",
      "source": [
        "plt.style.use('ggplot')"
      ],
      "metadata": {
        "id": "Cob__d2jrFG5"
      },
      "execution_count": 2,
      "outputs": []
    },
    {
      "cell_type": "markdown",
      "source": [
        "## Data"
      ],
      "metadata": {
        "id": "drlamt3BweIl"
      }
    },
    {
      "cell_type": "markdown",
      "source": [
        "### Diabetes"
      ],
      "metadata": {
        "id": "KNL1L6Eq8Ouy"
      }
    },
    {
      "cell_type": "code",
      "source": [
        "data_url = 'https://drive.google.com/uc?id=147311XR5gBBU7zRpI4qEvAOO4jr54pG-'\n",
        "\n",
        "diabetes = pd.read_csv(data_url)\n",
        "diabetes.info()"
      ],
      "metadata": {
        "colab": {
          "base_uri": "https://localhost:8080/"
        },
        "id": "OzXXCJlwwfzv",
        "outputId": "9c66b4f4-3bbf-48cc-fd30-cda53484837b"
      },
      "execution_count": 3,
      "outputs": [
        {
          "output_type": "stream",
          "name": "stdout",
          "text": [
            "<class 'pandas.core.frame.DataFrame'>\n",
            "RangeIndex: 768 entries, 0 to 767\n",
            "Data columns (total 9 columns):\n",
            " #   Column       Non-Null Count  Dtype  \n",
            "---  ------       --------------  -----  \n",
            " 0   pregnancies  768 non-null    int64  \n",
            " 1   glucose      768 non-null    int64  \n",
            " 2   diastolic    768 non-null    int64  \n",
            " 3   triceps      768 non-null    int64  \n",
            " 4   insulin      768 non-null    int64  \n",
            " 5   bmi          768 non-null    float64\n",
            " 6   dpf          768 non-null    float64\n",
            " 7   age          768 non-null    int64  \n",
            " 8   diabetes     768 non-null    int64  \n",
            "dtypes: float64(2), int64(7)\n",
            "memory usage: 54.1 KB\n"
          ]
        }
      ]
    },
    {
      "cell_type": "markdown",
      "source": [
        "## How good is your model?"
      ],
      "metadata": {
        "id": "Mi_1mm8NwgxK"
      }
    },
    {
      "cell_type": "markdown",
      "source": [
        "### Classification metrics\n",
        "\n",
        "- Measuring model peformance with **accuracy**:\n",
        "    - Proportion of correctly classified samples\n",
        "    - Not always a useful metric"
      ],
      "metadata": {
        "id": "FtMgXZDcw03J"
      }
    },
    {
      "cell_type": "markdown",
      "source": [
        "### Class imbalance\n",
        "\n",
        "- Classification for predicting fraudulent bank transactions\n",
        "    - 99% of transactions are legitimate\n",
        "    - 1% are fraudulent\n",
        "- A model that precicts NONE as fraudulent\n",
        "    - 99% accurate\n",
        "    - But terrible at predicting fraudulent transactions\n",
        "    - Fails at its original purpose\n",
        "- **Class imbalance**: uneven frequency of classes\n",
        "    - Need a different way to assess performance"
      ],
      "metadata": {
        "id": "aDnBLUnNxobi"
      }
    },
    {
      "cell_type": "markdown",
      "source": [
        "### Confusion Matrix\n",
        "\n",
        "- Fraudulent is the postive class\n",
        "- Usually, the class of interest is called the positive class\n",
        "\n",
        "|                 | **Predicted: Legitimate** | **Predicted: Fraudulent** |\n",
        "|---------------|---------------------|---------------------|\n",
        "| **Actual: Legitimate** | **True Negative (TN)**  | **False Positive (FP)**  |\n",
        "| **Actual: Fraudulent** | **False Negative (FN)** | **True Positive (TP)**  |"
      ],
      "metadata": {
        "id": "hlYYGoDK0SdH"
      }
    },
    {
      "cell_type": "markdown",
      "source": [
        "### Accuracy\n",
        "\n",
        "$$\n",
        "Accuracy = \\frac{TP + TN}{TP + TN + FP + FN}\n",
        "$$"
      ],
      "metadata": {
        "id": "M8zyIvGw1Nuu"
      }
    },
    {
      "cell_type": "markdown",
      "source": [
        "### Precision\n",
        "\n",
        "- aka the **postivive predictive value**\n",
        "- High precision means having a lower false positive rate\n",
        "- In our example, high precision means not having many legitimate transactions that are predicted to be fraudulent\n",
        "\n",
        "$$\n",
        "Precision = \\frac{TP}{TP + FP}\n",
        "$$"
      ],
      "metadata": {
        "id": "49slYC-E2Z1K"
      }
    },
    {
      "cell_type": "markdown",
      "source": [
        "### Recall\n",
        "\n",
        "- aka **sensitivity**\n",
        "- High recall means having a lower false negative rate\n",
        "- In our example, high recall means not having many fraudulent transactions that are predicted to be legitimate\n",
        "\n",
        "$$\n",
        "Recall = \\frac{TP}{TP + FN}\n",
        "$$"
      ],
      "metadata": {
        "id": "9Lok1ZDW4Gsi"
      }
    },
    {
      "cell_type": "markdown",
      "source": [
        "### F1 score\n",
        "\n",
        "- The harmonic mean of precision and recall\n",
        "- This metric gives equal weight to precision and recall\n",
        "- Favours models with similar precision and recall\n",
        "\n",
        "$$\n",
        "F1 = 2 \\times \\frac{precision \\times recall}{precision + recall}\n",
        "$$"
      ],
      "metadata": {
        "id": "WTRw1PSa5_Mj"
      }
    },
    {
      "cell_type": "markdown",
      "source": [
        "```python\n",
        "from sklearn.metrics import classification_report, confusion_matrix\n",
        "\n",
        "knn = KNeighborsClassifier(n_neighbors=7)\n",
        "\n",
        "X_train, X_test, y_train, y_test = train_test_split(X, y, test_size=0.4, random_state=42)\n",
        "\n",
        "knn.fit(X_train, y_train)\n",
        "y_pred = knn.precicti(X_test)\n",
        "\n",
        "print(confusion_matrix(y_test, y_pred))\n",
        "print(classification_report(y_test, y_pred))\n",
        "```"
      ],
      "metadata": {
        "id": "FoSmyws86iYX"
      }
    },
    {
      "cell_type": "markdown",
      "source": [
        "### Assessing a diabetes prediction classifier"
      ],
      "metadata": {
        "id": "ij6y5zps-6M-"
      }
    },
    {
      "cell_type": "code",
      "source": [
        "X = diabetes[['bmi', 'age']]\n",
        "y = diabetes['diabetes']\n",
        "\n",
        "X_train, X_test, y_train, y_test = train_test_split(X, y, test_size=0.3, random_state=42)\n",
        "\n",
        "X_train.shape, X_test.shape, y_train.shape, y_test.shape"
      ],
      "metadata": {
        "colab": {
          "base_uri": "https://localhost:8080/"
        },
        "id": "P8oFVoZ08v6c",
        "outputId": "778eed0a-616f-417b-fb63-85c1ee11a94d"
      },
      "execution_count": 4,
      "outputs": [
        {
          "output_type": "execute_result",
          "data": {
            "text/plain": [
              "((537, 2), (231, 2), (537,), (231,))"
            ]
          },
          "metadata": {},
          "execution_count": 4
        }
      ]
    },
    {
      "cell_type": "code",
      "source": [
        "knn = KNeighborsClassifier(n_neighbors=6)"
      ],
      "metadata": {
        "id": "xNmXZ_-BAFta"
      },
      "execution_count": 5,
      "outputs": []
    },
    {
      "cell_type": "code",
      "source": [
        "knn.fit(X_train, y_train)"
      ],
      "metadata": {
        "colab": {
          "base_uri": "https://localhost:8080/",
          "height": 80
        },
        "id": "V-NfdpLHAA-j",
        "outputId": "43a71f75-a3a5-4a72-df58-34e440dc2b15"
      },
      "execution_count": 6,
      "outputs": [
        {
          "output_type": "execute_result",
          "data": {
            "text/plain": [
              "KNeighborsClassifier(n_neighbors=6)"
            ],
            "text/html": [
              "<style>#sk-container-id-1 {\n",
              "  /* Definition of color scheme common for light and dark mode */\n",
              "  --sklearn-color-text: #000;\n",
              "  --sklearn-color-text-muted: #666;\n",
              "  --sklearn-color-line: gray;\n",
              "  /* Definition of color scheme for unfitted estimators */\n",
              "  --sklearn-color-unfitted-level-0: #fff5e6;\n",
              "  --sklearn-color-unfitted-level-1: #f6e4d2;\n",
              "  --sklearn-color-unfitted-level-2: #ffe0b3;\n",
              "  --sklearn-color-unfitted-level-3: chocolate;\n",
              "  /* Definition of color scheme for fitted estimators */\n",
              "  --sklearn-color-fitted-level-0: #f0f8ff;\n",
              "  --sklearn-color-fitted-level-1: #d4ebff;\n",
              "  --sklearn-color-fitted-level-2: #b3dbfd;\n",
              "  --sklearn-color-fitted-level-3: cornflowerblue;\n",
              "\n",
              "  /* Specific color for light theme */\n",
              "  --sklearn-color-text-on-default-background: var(--sg-text-color, var(--theme-code-foreground, var(--jp-content-font-color1, black)));\n",
              "  --sklearn-color-background: var(--sg-background-color, var(--theme-background, var(--jp-layout-color0, white)));\n",
              "  --sklearn-color-border-box: var(--sg-text-color, var(--theme-code-foreground, var(--jp-content-font-color1, black)));\n",
              "  --sklearn-color-icon: #696969;\n",
              "\n",
              "  @media (prefers-color-scheme: dark) {\n",
              "    /* Redefinition of color scheme for dark theme */\n",
              "    --sklearn-color-text-on-default-background: var(--sg-text-color, var(--theme-code-foreground, var(--jp-content-font-color1, white)));\n",
              "    --sklearn-color-background: var(--sg-background-color, var(--theme-background, var(--jp-layout-color0, #111)));\n",
              "    --sklearn-color-border-box: var(--sg-text-color, var(--theme-code-foreground, var(--jp-content-font-color1, white)));\n",
              "    --sklearn-color-icon: #878787;\n",
              "  }\n",
              "}\n",
              "\n",
              "#sk-container-id-1 {\n",
              "  color: var(--sklearn-color-text);\n",
              "}\n",
              "\n",
              "#sk-container-id-1 pre {\n",
              "  padding: 0;\n",
              "}\n",
              "\n",
              "#sk-container-id-1 input.sk-hidden--visually {\n",
              "  border: 0;\n",
              "  clip: rect(1px 1px 1px 1px);\n",
              "  clip: rect(1px, 1px, 1px, 1px);\n",
              "  height: 1px;\n",
              "  margin: -1px;\n",
              "  overflow: hidden;\n",
              "  padding: 0;\n",
              "  position: absolute;\n",
              "  width: 1px;\n",
              "}\n",
              "\n",
              "#sk-container-id-1 div.sk-dashed-wrapped {\n",
              "  border: 1px dashed var(--sklearn-color-line);\n",
              "  margin: 0 0.4em 0.5em 0.4em;\n",
              "  box-sizing: border-box;\n",
              "  padding-bottom: 0.4em;\n",
              "  background-color: var(--sklearn-color-background);\n",
              "}\n",
              "\n",
              "#sk-container-id-1 div.sk-container {\n",
              "  /* jupyter's `normalize.less` sets `[hidden] { display: none; }`\n",
              "     but bootstrap.min.css set `[hidden] { display: none !important; }`\n",
              "     so we also need the `!important` here to be able to override the\n",
              "     default hidden behavior on the sphinx rendered scikit-learn.org.\n",
              "     See: https://github.com/scikit-learn/scikit-learn/issues/21755 */\n",
              "  display: inline-block !important;\n",
              "  position: relative;\n",
              "}\n",
              "\n",
              "#sk-container-id-1 div.sk-text-repr-fallback {\n",
              "  display: none;\n",
              "}\n",
              "\n",
              "div.sk-parallel-item,\n",
              "div.sk-serial,\n",
              "div.sk-item {\n",
              "  /* draw centered vertical line to link estimators */\n",
              "  background-image: linear-gradient(var(--sklearn-color-text-on-default-background), var(--sklearn-color-text-on-default-background));\n",
              "  background-size: 2px 100%;\n",
              "  background-repeat: no-repeat;\n",
              "  background-position: center center;\n",
              "}\n",
              "\n",
              "/* Parallel-specific style estimator block */\n",
              "\n",
              "#sk-container-id-1 div.sk-parallel-item::after {\n",
              "  content: \"\";\n",
              "  width: 100%;\n",
              "  border-bottom: 2px solid var(--sklearn-color-text-on-default-background);\n",
              "  flex-grow: 1;\n",
              "}\n",
              "\n",
              "#sk-container-id-1 div.sk-parallel {\n",
              "  display: flex;\n",
              "  align-items: stretch;\n",
              "  justify-content: center;\n",
              "  background-color: var(--sklearn-color-background);\n",
              "  position: relative;\n",
              "}\n",
              "\n",
              "#sk-container-id-1 div.sk-parallel-item {\n",
              "  display: flex;\n",
              "  flex-direction: column;\n",
              "}\n",
              "\n",
              "#sk-container-id-1 div.sk-parallel-item:first-child::after {\n",
              "  align-self: flex-end;\n",
              "  width: 50%;\n",
              "}\n",
              "\n",
              "#sk-container-id-1 div.sk-parallel-item:last-child::after {\n",
              "  align-self: flex-start;\n",
              "  width: 50%;\n",
              "}\n",
              "\n",
              "#sk-container-id-1 div.sk-parallel-item:only-child::after {\n",
              "  width: 0;\n",
              "}\n",
              "\n",
              "/* Serial-specific style estimator block */\n",
              "\n",
              "#sk-container-id-1 div.sk-serial {\n",
              "  display: flex;\n",
              "  flex-direction: column;\n",
              "  align-items: center;\n",
              "  background-color: var(--sklearn-color-background);\n",
              "  padding-right: 1em;\n",
              "  padding-left: 1em;\n",
              "}\n",
              "\n",
              "\n",
              "/* Toggleable style: style used for estimator/Pipeline/ColumnTransformer box that is\n",
              "clickable and can be expanded/collapsed.\n",
              "- Pipeline and ColumnTransformer use this feature and define the default style\n",
              "- Estimators will overwrite some part of the style using the `sk-estimator` class\n",
              "*/\n",
              "\n",
              "/* Pipeline and ColumnTransformer style (default) */\n",
              "\n",
              "#sk-container-id-1 div.sk-toggleable {\n",
              "  /* Default theme specific background. It is overwritten whether we have a\n",
              "  specific estimator or a Pipeline/ColumnTransformer */\n",
              "  background-color: var(--sklearn-color-background);\n",
              "}\n",
              "\n",
              "/* Toggleable label */\n",
              "#sk-container-id-1 label.sk-toggleable__label {\n",
              "  cursor: pointer;\n",
              "  display: flex;\n",
              "  width: 100%;\n",
              "  margin-bottom: 0;\n",
              "  padding: 0.5em;\n",
              "  box-sizing: border-box;\n",
              "  text-align: center;\n",
              "  align-items: start;\n",
              "  justify-content: space-between;\n",
              "  gap: 0.5em;\n",
              "}\n",
              "\n",
              "#sk-container-id-1 label.sk-toggleable__label .caption {\n",
              "  font-size: 0.6rem;\n",
              "  font-weight: lighter;\n",
              "  color: var(--sklearn-color-text-muted);\n",
              "}\n",
              "\n",
              "#sk-container-id-1 label.sk-toggleable__label-arrow:before {\n",
              "  /* Arrow on the left of the label */\n",
              "  content: \"▸\";\n",
              "  float: left;\n",
              "  margin-right: 0.25em;\n",
              "  color: var(--sklearn-color-icon);\n",
              "}\n",
              "\n",
              "#sk-container-id-1 label.sk-toggleable__label-arrow:hover:before {\n",
              "  color: var(--sklearn-color-text);\n",
              "}\n",
              "\n",
              "/* Toggleable content - dropdown */\n",
              "\n",
              "#sk-container-id-1 div.sk-toggleable__content {\n",
              "  max-height: 0;\n",
              "  max-width: 0;\n",
              "  overflow: hidden;\n",
              "  text-align: left;\n",
              "  /* unfitted */\n",
              "  background-color: var(--sklearn-color-unfitted-level-0);\n",
              "}\n",
              "\n",
              "#sk-container-id-1 div.sk-toggleable__content.fitted {\n",
              "  /* fitted */\n",
              "  background-color: var(--sklearn-color-fitted-level-0);\n",
              "}\n",
              "\n",
              "#sk-container-id-1 div.sk-toggleable__content pre {\n",
              "  margin: 0.2em;\n",
              "  border-radius: 0.25em;\n",
              "  color: var(--sklearn-color-text);\n",
              "  /* unfitted */\n",
              "  background-color: var(--sklearn-color-unfitted-level-0);\n",
              "}\n",
              "\n",
              "#sk-container-id-1 div.sk-toggleable__content.fitted pre {\n",
              "  /* unfitted */\n",
              "  background-color: var(--sklearn-color-fitted-level-0);\n",
              "}\n",
              "\n",
              "#sk-container-id-1 input.sk-toggleable__control:checked~div.sk-toggleable__content {\n",
              "  /* Expand drop-down */\n",
              "  max-height: 200px;\n",
              "  max-width: 100%;\n",
              "  overflow: auto;\n",
              "}\n",
              "\n",
              "#sk-container-id-1 input.sk-toggleable__control:checked~label.sk-toggleable__label-arrow:before {\n",
              "  content: \"▾\";\n",
              "}\n",
              "\n",
              "/* Pipeline/ColumnTransformer-specific style */\n",
              "\n",
              "#sk-container-id-1 div.sk-label input.sk-toggleable__control:checked~label.sk-toggleable__label {\n",
              "  color: var(--sklearn-color-text);\n",
              "  background-color: var(--sklearn-color-unfitted-level-2);\n",
              "}\n",
              "\n",
              "#sk-container-id-1 div.sk-label.fitted input.sk-toggleable__control:checked~label.sk-toggleable__label {\n",
              "  background-color: var(--sklearn-color-fitted-level-2);\n",
              "}\n",
              "\n",
              "/* Estimator-specific style */\n",
              "\n",
              "/* Colorize estimator box */\n",
              "#sk-container-id-1 div.sk-estimator input.sk-toggleable__control:checked~label.sk-toggleable__label {\n",
              "  /* unfitted */\n",
              "  background-color: var(--sklearn-color-unfitted-level-2);\n",
              "}\n",
              "\n",
              "#sk-container-id-1 div.sk-estimator.fitted input.sk-toggleable__control:checked~label.sk-toggleable__label {\n",
              "  /* fitted */\n",
              "  background-color: var(--sklearn-color-fitted-level-2);\n",
              "}\n",
              "\n",
              "#sk-container-id-1 div.sk-label label.sk-toggleable__label,\n",
              "#sk-container-id-1 div.sk-label label {\n",
              "  /* The background is the default theme color */\n",
              "  color: var(--sklearn-color-text-on-default-background);\n",
              "}\n",
              "\n",
              "/* On hover, darken the color of the background */\n",
              "#sk-container-id-1 div.sk-label:hover label.sk-toggleable__label {\n",
              "  color: var(--sklearn-color-text);\n",
              "  background-color: var(--sklearn-color-unfitted-level-2);\n",
              "}\n",
              "\n",
              "/* Label box, darken color on hover, fitted */\n",
              "#sk-container-id-1 div.sk-label.fitted:hover label.sk-toggleable__label.fitted {\n",
              "  color: var(--sklearn-color-text);\n",
              "  background-color: var(--sklearn-color-fitted-level-2);\n",
              "}\n",
              "\n",
              "/* Estimator label */\n",
              "\n",
              "#sk-container-id-1 div.sk-label label {\n",
              "  font-family: monospace;\n",
              "  font-weight: bold;\n",
              "  display: inline-block;\n",
              "  line-height: 1.2em;\n",
              "}\n",
              "\n",
              "#sk-container-id-1 div.sk-label-container {\n",
              "  text-align: center;\n",
              "}\n",
              "\n",
              "/* Estimator-specific */\n",
              "#sk-container-id-1 div.sk-estimator {\n",
              "  font-family: monospace;\n",
              "  border: 1px dotted var(--sklearn-color-border-box);\n",
              "  border-radius: 0.25em;\n",
              "  box-sizing: border-box;\n",
              "  margin-bottom: 0.5em;\n",
              "  /* unfitted */\n",
              "  background-color: var(--sklearn-color-unfitted-level-0);\n",
              "}\n",
              "\n",
              "#sk-container-id-1 div.sk-estimator.fitted {\n",
              "  /* fitted */\n",
              "  background-color: var(--sklearn-color-fitted-level-0);\n",
              "}\n",
              "\n",
              "/* on hover */\n",
              "#sk-container-id-1 div.sk-estimator:hover {\n",
              "  /* unfitted */\n",
              "  background-color: var(--sklearn-color-unfitted-level-2);\n",
              "}\n",
              "\n",
              "#sk-container-id-1 div.sk-estimator.fitted:hover {\n",
              "  /* fitted */\n",
              "  background-color: var(--sklearn-color-fitted-level-2);\n",
              "}\n",
              "\n",
              "/* Specification for estimator info (e.g. \"i\" and \"?\") */\n",
              "\n",
              "/* Common style for \"i\" and \"?\" */\n",
              "\n",
              ".sk-estimator-doc-link,\n",
              "a:link.sk-estimator-doc-link,\n",
              "a:visited.sk-estimator-doc-link {\n",
              "  float: right;\n",
              "  font-size: smaller;\n",
              "  line-height: 1em;\n",
              "  font-family: monospace;\n",
              "  background-color: var(--sklearn-color-background);\n",
              "  border-radius: 1em;\n",
              "  height: 1em;\n",
              "  width: 1em;\n",
              "  text-decoration: none !important;\n",
              "  margin-left: 0.5em;\n",
              "  text-align: center;\n",
              "  /* unfitted */\n",
              "  border: var(--sklearn-color-unfitted-level-1) 1pt solid;\n",
              "  color: var(--sklearn-color-unfitted-level-1);\n",
              "}\n",
              "\n",
              ".sk-estimator-doc-link.fitted,\n",
              "a:link.sk-estimator-doc-link.fitted,\n",
              "a:visited.sk-estimator-doc-link.fitted {\n",
              "  /* fitted */\n",
              "  border: var(--sklearn-color-fitted-level-1) 1pt solid;\n",
              "  color: var(--sklearn-color-fitted-level-1);\n",
              "}\n",
              "\n",
              "/* On hover */\n",
              "div.sk-estimator:hover .sk-estimator-doc-link:hover,\n",
              ".sk-estimator-doc-link:hover,\n",
              "div.sk-label-container:hover .sk-estimator-doc-link:hover,\n",
              ".sk-estimator-doc-link:hover {\n",
              "  /* unfitted */\n",
              "  background-color: var(--sklearn-color-unfitted-level-3);\n",
              "  color: var(--sklearn-color-background);\n",
              "  text-decoration: none;\n",
              "}\n",
              "\n",
              "div.sk-estimator.fitted:hover .sk-estimator-doc-link.fitted:hover,\n",
              ".sk-estimator-doc-link.fitted:hover,\n",
              "div.sk-label-container:hover .sk-estimator-doc-link.fitted:hover,\n",
              ".sk-estimator-doc-link.fitted:hover {\n",
              "  /* fitted */\n",
              "  background-color: var(--sklearn-color-fitted-level-3);\n",
              "  color: var(--sklearn-color-background);\n",
              "  text-decoration: none;\n",
              "}\n",
              "\n",
              "/* Span, style for the box shown on hovering the info icon */\n",
              ".sk-estimator-doc-link span {\n",
              "  display: none;\n",
              "  z-index: 9999;\n",
              "  position: relative;\n",
              "  font-weight: normal;\n",
              "  right: .2ex;\n",
              "  padding: .5ex;\n",
              "  margin: .5ex;\n",
              "  width: min-content;\n",
              "  min-width: 20ex;\n",
              "  max-width: 50ex;\n",
              "  color: var(--sklearn-color-text);\n",
              "  box-shadow: 2pt 2pt 4pt #999;\n",
              "  /* unfitted */\n",
              "  background: var(--sklearn-color-unfitted-level-0);\n",
              "  border: .5pt solid var(--sklearn-color-unfitted-level-3);\n",
              "}\n",
              "\n",
              ".sk-estimator-doc-link.fitted span {\n",
              "  /* fitted */\n",
              "  background: var(--sklearn-color-fitted-level-0);\n",
              "  border: var(--sklearn-color-fitted-level-3);\n",
              "}\n",
              "\n",
              ".sk-estimator-doc-link:hover span {\n",
              "  display: block;\n",
              "}\n",
              "\n",
              "/* \"?\"-specific style due to the `<a>` HTML tag */\n",
              "\n",
              "#sk-container-id-1 a.estimator_doc_link {\n",
              "  float: right;\n",
              "  font-size: 1rem;\n",
              "  line-height: 1em;\n",
              "  font-family: monospace;\n",
              "  background-color: var(--sklearn-color-background);\n",
              "  border-radius: 1rem;\n",
              "  height: 1rem;\n",
              "  width: 1rem;\n",
              "  text-decoration: none;\n",
              "  /* unfitted */\n",
              "  color: var(--sklearn-color-unfitted-level-1);\n",
              "  border: var(--sklearn-color-unfitted-level-1) 1pt solid;\n",
              "}\n",
              "\n",
              "#sk-container-id-1 a.estimator_doc_link.fitted {\n",
              "  /* fitted */\n",
              "  border: var(--sklearn-color-fitted-level-1) 1pt solid;\n",
              "  color: var(--sklearn-color-fitted-level-1);\n",
              "}\n",
              "\n",
              "/* On hover */\n",
              "#sk-container-id-1 a.estimator_doc_link:hover {\n",
              "  /* unfitted */\n",
              "  background-color: var(--sklearn-color-unfitted-level-3);\n",
              "  color: var(--sklearn-color-background);\n",
              "  text-decoration: none;\n",
              "}\n",
              "\n",
              "#sk-container-id-1 a.estimator_doc_link.fitted:hover {\n",
              "  /* fitted */\n",
              "  background-color: var(--sklearn-color-fitted-level-3);\n",
              "}\n",
              "</style><div id=\"sk-container-id-1\" class=\"sk-top-container\"><div class=\"sk-text-repr-fallback\"><pre>KNeighborsClassifier(n_neighbors=6)</pre><b>In a Jupyter environment, please rerun this cell to show the HTML representation or trust the notebook. <br />On GitHub, the HTML representation is unable to render, please try loading this page with nbviewer.org.</b></div><div class=\"sk-container\" hidden><div class=\"sk-item\"><div class=\"sk-estimator fitted sk-toggleable\"><input class=\"sk-toggleable__control sk-hidden--visually\" id=\"sk-estimator-id-1\" type=\"checkbox\" checked><label for=\"sk-estimator-id-1\" class=\"sk-toggleable__label fitted sk-toggleable__label-arrow\"><div><div>KNeighborsClassifier</div></div><div><a class=\"sk-estimator-doc-link fitted\" rel=\"noreferrer\" target=\"_blank\" href=\"https://scikit-learn.org/1.6/modules/generated/sklearn.neighbors.KNeighborsClassifier.html\">?<span>Documentation for KNeighborsClassifier</span></a><span class=\"sk-estimator-doc-link fitted\">i<span>Fitted</span></span></div></label><div class=\"sk-toggleable__content fitted\"><pre>KNeighborsClassifier(n_neighbors=6)</pre></div> </div></div></div></div>"
            ]
          },
          "metadata": {},
          "execution_count": 6
        }
      ]
    },
    {
      "cell_type": "code",
      "source": [
        "y_pred = knn.predict(X_test)\n",
        "y_pred"
      ],
      "metadata": {
        "colab": {
          "base_uri": "https://localhost:8080/"
        },
        "id": "GEP6wvIN9Ktr",
        "outputId": "23254d65-ed3c-44af-c027-6300f262497a"
      },
      "execution_count": 7,
      "outputs": [
        {
          "output_type": "execute_result",
          "data": {
            "text/plain": [
              "array([1, 0, 0, 0, 1, 1, 0, 1, 0, 1, 0, 1, 0, 1, 0, 0, 0, 0, 0, 1, 1, 0,\n",
              "       0, 0, 1, 1, 0, 0, 0, 0, 1, 1, 0, 1, 1, 0, 1, 0, 0, 0, 0, 0, 1, 0,\n",
              "       0, 1, 1, 0, 0, 1, 0, 1, 1, 0, 0, 0, 0, 0, 0, 0, 1, 0, 0, 1, 0, 1,\n",
              "       0, 0, 0, 0, 1, 0, 0, 0, 0, 1, 0, 0, 0, 0, 0, 0, 0, 0, 0, 1, 1, 0,\n",
              "       1, 0, 0, 0, 0, 0, 1, 0, 0, 0, 0, 0, 0, 0, 0, 0, 1, 0, 0, 1, 0, 1,\n",
              "       0, 0, 0, 1, 0, 0, 0, 0, 0, 0, 0, 0, 0, 0, 0, 1, 0, 0, 1, 0, 0, 1,\n",
              "       0, 0, 0, 1, 0, 1, 1, 0, 0, 0, 0, 0, 0, 1, 1, 0, 1, 1, 0, 1, 0, 1,\n",
              "       0, 1, 0, 0, 1, 0, 0, 0, 0, 0, 0, 0, 0, 0, 0, 0, 0, 0, 1, 1, 1, 0,\n",
              "       1, 1, 0, 1, 0, 0, 1, 1, 1, 0, 0, 0, 0, 0, 1, 0, 1, 0, 1, 0, 0, 0,\n",
              "       0, 0, 0, 0, 1, 0, 1, 0, 0, 0, 0, 0, 0, 0, 0, 0, 1, 0, 0, 0, 1, 1,\n",
              "       0, 0, 0, 1, 0, 1, 0, 0, 0, 0, 1])"
            ]
          },
          "metadata": {},
          "execution_count": 7
        }
      ]
    },
    {
      "cell_type": "code",
      "source": [
        "cf = confusion_matrix(y_test, y_pred)\n",
        "print(cf)"
      ],
      "metadata": {
        "colab": {
          "base_uri": "https://localhost:8080/"
        },
        "id": "4M8SNAN_ASYY",
        "outputId": "fd492aa0-7b57-4620-8a50-c8ede070300a"
      },
      "execution_count": 8,
      "outputs": [
        {
          "output_type": "stream",
          "name": "stdout",
          "text": [
            "[[116  35]\n",
            " [ 46  34]]\n"
          ]
        }
      ]
    },
    {
      "cell_type": "code",
      "source": [
        "print(classification_report(y_test, y_pred))"
      ],
      "metadata": {
        "colab": {
          "base_uri": "https://localhost:8080/"
        },
        "id": "dlXOXybbAkwZ",
        "outputId": "448e8453-5e0d-47a2-db2a-32e06d771e3a"
      },
      "execution_count": 9,
      "outputs": [
        {
          "output_type": "stream",
          "name": "stdout",
          "text": [
            "              precision    recall  f1-score   support\n",
            "\n",
            "           0       0.72      0.77      0.74       151\n",
            "           1       0.49      0.42      0.46        80\n",
            "\n",
            "    accuracy                           0.65       231\n",
            "   macro avg       0.60      0.60      0.60       231\n",
            "weighted avg       0.64      0.65      0.64       231\n",
            "\n"
          ]
        }
      ]
    },
    {
      "cell_type": "code",
      "source": [
        "# precision\n",
        "prec = 34 / (34 + 35)\n",
        "prec"
      ],
      "metadata": {
        "colab": {
          "base_uri": "https://localhost:8080/"
        },
        "id": "_jGeSM8oBBWd",
        "outputId": "64d085d7-0345-4931-8acd-6fff83b60e16"
      },
      "execution_count": 10,
      "outputs": [
        {
          "output_type": "execute_result",
          "data": {
            "text/plain": [
              "0.4927536231884058"
            ]
          },
          "metadata": {},
          "execution_count": 10
        }
      ]
    },
    {
      "cell_type": "code",
      "source": [
        "# recall\n",
        "recall = 34 / (34 + 46)\n",
        "recall"
      ],
      "metadata": {
        "colab": {
          "base_uri": "https://localhost:8080/"
        },
        "id": "aVKRfzk9B-_i",
        "outputId": "6eafa1de-066d-4208-9bba-3bd5fc4d0d79"
      },
      "execution_count": 11,
      "outputs": [
        {
          "output_type": "execute_result",
          "data": {
            "text/plain": [
              "0.425"
            ]
          },
          "metadata": {},
          "execution_count": 11
        }
      ]
    },
    {
      "cell_type": "code",
      "source": [
        "# f1-score\n",
        "f1 = 2 * (prec * recall) / (prec + recall)\n",
        "f1"
      ],
      "metadata": {
        "colab": {
          "base_uri": "https://localhost:8080/"
        },
        "id": "XUCE2FctCaPK",
        "outputId": "d0aa2a35-2657-4c33-b4c7-a18c081e497f"
      },
      "execution_count": 12,
      "outputs": [
        {
          "output_type": "execute_result",
          "data": {
            "text/plain": [
              "0.4563758389261745"
            ]
          },
          "metadata": {},
          "execution_count": 12
        }
      ]
    },
    {
      "cell_type": "code",
      "source": [
        "# accuracy\n",
        "acc = (34 + 116) / (34 + 116 + 35 + 46)\n",
        "acc"
      ],
      "metadata": {
        "colab": {
          "base_uri": "https://localhost:8080/"
        },
        "id": "4VzGZzHiCnf6",
        "outputId": "e7eb715c-1bd3-472a-bd4c-88dcce63d989"
      },
      "execution_count": 13,
      "outputs": [
        {
          "output_type": "execute_result",
          "data": {
            "text/plain": [
              "0.6493506493506493"
            ]
          },
          "metadata": {},
          "execution_count": 13
        }
      ]
    },
    {
      "cell_type": "markdown",
      "source": [
        "## Logistic regression and the ROC curve"
      ],
      "metadata": {
        "id": "-c2DZOJpErI-"
      }
    },
    {
      "cell_type": "markdown",
      "source": [
        "### Logistic regression for binary classification\n",
        "\n",
        "- Logistic regression outputs probabilities\n",
        "- The classifiction depends on the **probability threshold**\n",
        "  - if $p \\gt 0.5$ then 1 else 0\n",
        "  - 0.5 is the default probability threshold\n",
        "- Logistic regression produces a **linear decision boundary**\n",
        "\n",
        "```python\n",
        "from sklearn.linear_model import LogisticRegression\n",
        "\n",
        "logreg = LogisticRegression()\n",
        "\n",
        "X_train, X_test, y_train, y_test = train_test_split(X, y, test_size=0.3, random_state=42)\n",
        "\n",
        "logreg.fit(X_train, y_train)\n",
        "\n",
        "y_pred = logreg.predict(X_test)\n",
        "```"
      ],
      "metadata": {
        "id": "ul8_l8cGI1RJ"
      }
    },
    {
      "cell_type": "markdown",
      "source": [
        "### Predicting probabilities\n",
        "\n",
        "```python\n",
        "# we slice the second column which represents\n",
        "#. the probability of the positive class\n",
        "y_pred_probs = logreg.predict_proba(X_test)[:, 1]\n",
        "```"
      ],
      "metadata": {
        "id": "j2H28yHbM6__"
      }
    },
    {
      "cell_type": "markdown",
      "source": [
        "### Probability thresholds\n",
        "\n",
        "- By default, the logistic regression threshold is 0.5\n",
        "- Not specific to logistic regression\n",
        "    - KNN classifiers also have thresholds\n",
        "- What happens if we vary the threshold?\n",
        "    - We can use the ROC Curve to visualize the impact of threshold values"
      ],
      "metadata": {
        "id": "FPDBkts6ODue"
      }
    },
    {
      "cell_type": "markdown",
      "source": [
        "### Plotting the ROC curve\n",
        "\n",
        "```python\n",
        "from sklearn.metrics import roc_curve\n",
        "\n",
        "fpr, tpr, thresholds = roc_curve(y_test, y_pred_probs)\n",
        "\n",
        "plt.plot([0, 1], [0, 1], 'k--')\n",
        "plt.plot(fpr, tpr)\n",
        "plt.xlabel('False Positive Rate')\n",
        "plt.ylabel('True Postivie Rate')\n",
        "plt.title('Logistic Regression ROC Curve')\n",
        "plt.show()\n",
        "```"
      ],
      "metadata": {
        "id": "HG5Z-5TwO-Lv"
      }
    },
    {
      "cell_type": "markdown",
      "source": [
        "### ROC AUC\n",
        "\n",
        "- The area under the ROC curve\n",
        "    - scores range from 0 to 1, with 1 being ideal\n",
        "\n",
        "```python\n",
        "from sklearn.metrics import roc_auc_score\n",
        "\n",
        "print(roc_auc_score(y_test, y_pred_probs))\n",
        "```"
      ],
      "metadata": {
        "id": "AX3G-SkiXTrB"
      }
    },
    {
      "cell_type": "markdown",
      "source": [
        "### Building a logistic regressionm model"
      ],
      "metadata": {
        "id": "wEN708G6ZZDN"
      }
    },
    {
      "cell_type": "code",
      "source": [
        "X = diabetes.drop('diabetes', axis=1)\n",
        "y = diabetes['diabetes']"
      ],
      "metadata": {
        "id": "V-AjoKQ1Zhwl"
      },
      "execution_count": 14,
      "outputs": []
    },
    {
      "cell_type": "code",
      "source": [
        "X_train, X_test, y_train, y_test = train_test_split(X, y, test_size=0.3, random_state=42)\n",
        "\n",
        "X_train.shape, X_test.shape, y_train.shape, y_test.shape"
      ],
      "metadata": {
        "colab": {
          "base_uri": "https://localhost:8080/"
        },
        "id": "tcmvfWE-Zt0E",
        "outputId": "f43a9986-3357-4a98-9aab-b73b6ba74cfa"
      },
      "execution_count": 15,
      "outputs": [
        {
          "output_type": "execute_result",
          "data": {
            "text/plain": [
              "((537, 8), (231, 8), (537,), (231,))"
            ]
          },
          "metadata": {},
          "execution_count": 15
        }
      ]
    },
    {
      "cell_type": "code",
      "source": [
        "logreg = LogisticRegression()\n",
        "logreg.fit(X_train, y_train)"
      ],
      "metadata": {
        "colab": {
          "base_uri": "https://localhost:8080/",
          "height": 223
        },
        "id": "Xae2hY7XaKbi",
        "outputId": "9caa02d4-f67e-4630-e6db-b95a27b675c8"
      },
      "execution_count": 16,
      "outputs": [
        {
          "output_type": "stream",
          "name": "stderr",
          "text": [
            "/usr/local/lib/python3.11/dist-packages/sklearn/linear_model/_logistic.py:465: ConvergenceWarning: lbfgs failed to converge (status=1):\n",
            "STOP: TOTAL NO. of ITERATIONS REACHED LIMIT.\n",
            "\n",
            "Increase the number of iterations (max_iter) or scale the data as shown in:\n",
            "    https://scikit-learn.org/stable/modules/preprocessing.html\n",
            "Please also refer to the documentation for alternative solver options:\n",
            "    https://scikit-learn.org/stable/modules/linear_model.html#logistic-regression\n",
            "  n_iter_i = _check_optimize_result(\n"
          ]
        },
        {
          "output_type": "execute_result",
          "data": {
            "text/plain": [
              "LogisticRegression()"
            ],
            "text/html": [
              "<style>#sk-container-id-2 {\n",
              "  /* Definition of color scheme common for light and dark mode */\n",
              "  --sklearn-color-text: #000;\n",
              "  --sklearn-color-text-muted: #666;\n",
              "  --sklearn-color-line: gray;\n",
              "  /* Definition of color scheme for unfitted estimators */\n",
              "  --sklearn-color-unfitted-level-0: #fff5e6;\n",
              "  --sklearn-color-unfitted-level-1: #f6e4d2;\n",
              "  --sklearn-color-unfitted-level-2: #ffe0b3;\n",
              "  --sklearn-color-unfitted-level-3: chocolate;\n",
              "  /* Definition of color scheme for fitted estimators */\n",
              "  --sklearn-color-fitted-level-0: #f0f8ff;\n",
              "  --sklearn-color-fitted-level-1: #d4ebff;\n",
              "  --sklearn-color-fitted-level-2: #b3dbfd;\n",
              "  --sklearn-color-fitted-level-3: cornflowerblue;\n",
              "\n",
              "  /* Specific color for light theme */\n",
              "  --sklearn-color-text-on-default-background: var(--sg-text-color, var(--theme-code-foreground, var(--jp-content-font-color1, black)));\n",
              "  --sklearn-color-background: var(--sg-background-color, var(--theme-background, var(--jp-layout-color0, white)));\n",
              "  --sklearn-color-border-box: var(--sg-text-color, var(--theme-code-foreground, var(--jp-content-font-color1, black)));\n",
              "  --sklearn-color-icon: #696969;\n",
              "\n",
              "  @media (prefers-color-scheme: dark) {\n",
              "    /* Redefinition of color scheme for dark theme */\n",
              "    --sklearn-color-text-on-default-background: var(--sg-text-color, var(--theme-code-foreground, var(--jp-content-font-color1, white)));\n",
              "    --sklearn-color-background: var(--sg-background-color, var(--theme-background, var(--jp-layout-color0, #111)));\n",
              "    --sklearn-color-border-box: var(--sg-text-color, var(--theme-code-foreground, var(--jp-content-font-color1, white)));\n",
              "    --sklearn-color-icon: #878787;\n",
              "  }\n",
              "}\n",
              "\n",
              "#sk-container-id-2 {\n",
              "  color: var(--sklearn-color-text);\n",
              "}\n",
              "\n",
              "#sk-container-id-2 pre {\n",
              "  padding: 0;\n",
              "}\n",
              "\n",
              "#sk-container-id-2 input.sk-hidden--visually {\n",
              "  border: 0;\n",
              "  clip: rect(1px 1px 1px 1px);\n",
              "  clip: rect(1px, 1px, 1px, 1px);\n",
              "  height: 1px;\n",
              "  margin: -1px;\n",
              "  overflow: hidden;\n",
              "  padding: 0;\n",
              "  position: absolute;\n",
              "  width: 1px;\n",
              "}\n",
              "\n",
              "#sk-container-id-2 div.sk-dashed-wrapped {\n",
              "  border: 1px dashed var(--sklearn-color-line);\n",
              "  margin: 0 0.4em 0.5em 0.4em;\n",
              "  box-sizing: border-box;\n",
              "  padding-bottom: 0.4em;\n",
              "  background-color: var(--sklearn-color-background);\n",
              "}\n",
              "\n",
              "#sk-container-id-2 div.sk-container {\n",
              "  /* jupyter's `normalize.less` sets `[hidden] { display: none; }`\n",
              "     but bootstrap.min.css set `[hidden] { display: none !important; }`\n",
              "     so we also need the `!important` here to be able to override the\n",
              "     default hidden behavior on the sphinx rendered scikit-learn.org.\n",
              "     See: https://github.com/scikit-learn/scikit-learn/issues/21755 */\n",
              "  display: inline-block !important;\n",
              "  position: relative;\n",
              "}\n",
              "\n",
              "#sk-container-id-2 div.sk-text-repr-fallback {\n",
              "  display: none;\n",
              "}\n",
              "\n",
              "div.sk-parallel-item,\n",
              "div.sk-serial,\n",
              "div.sk-item {\n",
              "  /* draw centered vertical line to link estimators */\n",
              "  background-image: linear-gradient(var(--sklearn-color-text-on-default-background), var(--sklearn-color-text-on-default-background));\n",
              "  background-size: 2px 100%;\n",
              "  background-repeat: no-repeat;\n",
              "  background-position: center center;\n",
              "}\n",
              "\n",
              "/* Parallel-specific style estimator block */\n",
              "\n",
              "#sk-container-id-2 div.sk-parallel-item::after {\n",
              "  content: \"\";\n",
              "  width: 100%;\n",
              "  border-bottom: 2px solid var(--sklearn-color-text-on-default-background);\n",
              "  flex-grow: 1;\n",
              "}\n",
              "\n",
              "#sk-container-id-2 div.sk-parallel {\n",
              "  display: flex;\n",
              "  align-items: stretch;\n",
              "  justify-content: center;\n",
              "  background-color: var(--sklearn-color-background);\n",
              "  position: relative;\n",
              "}\n",
              "\n",
              "#sk-container-id-2 div.sk-parallel-item {\n",
              "  display: flex;\n",
              "  flex-direction: column;\n",
              "}\n",
              "\n",
              "#sk-container-id-2 div.sk-parallel-item:first-child::after {\n",
              "  align-self: flex-end;\n",
              "  width: 50%;\n",
              "}\n",
              "\n",
              "#sk-container-id-2 div.sk-parallel-item:last-child::after {\n",
              "  align-self: flex-start;\n",
              "  width: 50%;\n",
              "}\n",
              "\n",
              "#sk-container-id-2 div.sk-parallel-item:only-child::after {\n",
              "  width: 0;\n",
              "}\n",
              "\n",
              "/* Serial-specific style estimator block */\n",
              "\n",
              "#sk-container-id-2 div.sk-serial {\n",
              "  display: flex;\n",
              "  flex-direction: column;\n",
              "  align-items: center;\n",
              "  background-color: var(--sklearn-color-background);\n",
              "  padding-right: 1em;\n",
              "  padding-left: 1em;\n",
              "}\n",
              "\n",
              "\n",
              "/* Toggleable style: style used for estimator/Pipeline/ColumnTransformer box that is\n",
              "clickable and can be expanded/collapsed.\n",
              "- Pipeline and ColumnTransformer use this feature and define the default style\n",
              "- Estimators will overwrite some part of the style using the `sk-estimator` class\n",
              "*/\n",
              "\n",
              "/* Pipeline and ColumnTransformer style (default) */\n",
              "\n",
              "#sk-container-id-2 div.sk-toggleable {\n",
              "  /* Default theme specific background. It is overwritten whether we have a\n",
              "  specific estimator or a Pipeline/ColumnTransformer */\n",
              "  background-color: var(--sklearn-color-background);\n",
              "}\n",
              "\n",
              "/* Toggleable label */\n",
              "#sk-container-id-2 label.sk-toggleable__label {\n",
              "  cursor: pointer;\n",
              "  display: flex;\n",
              "  width: 100%;\n",
              "  margin-bottom: 0;\n",
              "  padding: 0.5em;\n",
              "  box-sizing: border-box;\n",
              "  text-align: center;\n",
              "  align-items: start;\n",
              "  justify-content: space-between;\n",
              "  gap: 0.5em;\n",
              "}\n",
              "\n",
              "#sk-container-id-2 label.sk-toggleable__label .caption {\n",
              "  font-size: 0.6rem;\n",
              "  font-weight: lighter;\n",
              "  color: var(--sklearn-color-text-muted);\n",
              "}\n",
              "\n",
              "#sk-container-id-2 label.sk-toggleable__label-arrow:before {\n",
              "  /* Arrow on the left of the label */\n",
              "  content: \"▸\";\n",
              "  float: left;\n",
              "  margin-right: 0.25em;\n",
              "  color: var(--sklearn-color-icon);\n",
              "}\n",
              "\n",
              "#sk-container-id-2 label.sk-toggleable__label-arrow:hover:before {\n",
              "  color: var(--sklearn-color-text);\n",
              "}\n",
              "\n",
              "/* Toggleable content - dropdown */\n",
              "\n",
              "#sk-container-id-2 div.sk-toggleable__content {\n",
              "  max-height: 0;\n",
              "  max-width: 0;\n",
              "  overflow: hidden;\n",
              "  text-align: left;\n",
              "  /* unfitted */\n",
              "  background-color: var(--sklearn-color-unfitted-level-0);\n",
              "}\n",
              "\n",
              "#sk-container-id-2 div.sk-toggleable__content.fitted {\n",
              "  /* fitted */\n",
              "  background-color: var(--sklearn-color-fitted-level-0);\n",
              "}\n",
              "\n",
              "#sk-container-id-2 div.sk-toggleable__content pre {\n",
              "  margin: 0.2em;\n",
              "  border-radius: 0.25em;\n",
              "  color: var(--sklearn-color-text);\n",
              "  /* unfitted */\n",
              "  background-color: var(--sklearn-color-unfitted-level-0);\n",
              "}\n",
              "\n",
              "#sk-container-id-2 div.sk-toggleable__content.fitted pre {\n",
              "  /* unfitted */\n",
              "  background-color: var(--sklearn-color-fitted-level-0);\n",
              "}\n",
              "\n",
              "#sk-container-id-2 input.sk-toggleable__control:checked~div.sk-toggleable__content {\n",
              "  /* Expand drop-down */\n",
              "  max-height: 200px;\n",
              "  max-width: 100%;\n",
              "  overflow: auto;\n",
              "}\n",
              "\n",
              "#sk-container-id-2 input.sk-toggleable__control:checked~label.sk-toggleable__label-arrow:before {\n",
              "  content: \"▾\";\n",
              "}\n",
              "\n",
              "/* Pipeline/ColumnTransformer-specific style */\n",
              "\n",
              "#sk-container-id-2 div.sk-label input.sk-toggleable__control:checked~label.sk-toggleable__label {\n",
              "  color: var(--sklearn-color-text);\n",
              "  background-color: var(--sklearn-color-unfitted-level-2);\n",
              "}\n",
              "\n",
              "#sk-container-id-2 div.sk-label.fitted input.sk-toggleable__control:checked~label.sk-toggleable__label {\n",
              "  background-color: var(--sklearn-color-fitted-level-2);\n",
              "}\n",
              "\n",
              "/* Estimator-specific style */\n",
              "\n",
              "/* Colorize estimator box */\n",
              "#sk-container-id-2 div.sk-estimator input.sk-toggleable__control:checked~label.sk-toggleable__label {\n",
              "  /* unfitted */\n",
              "  background-color: var(--sklearn-color-unfitted-level-2);\n",
              "}\n",
              "\n",
              "#sk-container-id-2 div.sk-estimator.fitted input.sk-toggleable__control:checked~label.sk-toggleable__label {\n",
              "  /* fitted */\n",
              "  background-color: var(--sklearn-color-fitted-level-2);\n",
              "}\n",
              "\n",
              "#sk-container-id-2 div.sk-label label.sk-toggleable__label,\n",
              "#sk-container-id-2 div.sk-label label {\n",
              "  /* The background is the default theme color */\n",
              "  color: var(--sklearn-color-text-on-default-background);\n",
              "}\n",
              "\n",
              "/* On hover, darken the color of the background */\n",
              "#sk-container-id-2 div.sk-label:hover label.sk-toggleable__label {\n",
              "  color: var(--sklearn-color-text);\n",
              "  background-color: var(--sklearn-color-unfitted-level-2);\n",
              "}\n",
              "\n",
              "/* Label box, darken color on hover, fitted */\n",
              "#sk-container-id-2 div.sk-label.fitted:hover label.sk-toggleable__label.fitted {\n",
              "  color: var(--sklearn-color-text);\n",
              "  background-color: var(--sklearn-color-fitted-level-2);\n",
              "}\n",
              "\n",
              "/* Estimator label */\n",
              "\n",
              "#sk-container-id-2 div.sk-label label {\n",
              "  font-family: monospace;\n",
              "  font-weight: bold;\n",
              "  display: inline-block;\n",
              "  line-height: 1.2em;\n",
              "}\n",
              "\n",
              "#sk-container-id-2 div.sk-label-container {\n",
              "  text-align: center;\n",
              "}\n",
              "\n",
              "/* Estimator-specific */\n",
              "#sk-container-id-2 div.sk-estimator {\n",
              "  font-family: monospace;\n",
              "  border: 1px dotted var(--sklearn-color-border-box);\n",
              "  border-radius: 0.25em;\n",
              "  box-sizing: border-box;\n",
              "  margin-bottom: 0.5em;\n",
              "  /* unfitted */\n",
              "  background-color: var(--sklearn-color-unfitted-level-0);\n",
              "}\n",
              "\n",
              "#sk-container-id-2 div.sk-estimator.fitted {\n",
              "  /* fitted */\n",
              "  background-color: var(--sklearn-color-fitted-level-0);\n",
              "}\n",
              "\n",
              "/* on hover */\n",
              "#sk-container-id-2 div.sk-estimator:hover {\n",
              "  /* unfitted */\n",
              "  background-color: var(--sklearn-color-unfitted-level-2);\n",
              "}\n",
              "\n",
              "#sk-container-id-2 div.sk-estimator.fitted:hover {\n",
              "  /* fitted */\n",
              "  background-color: var(--sklearn-color-fitted-level-2);\n",
              "}\n",
              "\n",
              "/* Specification for estimator info (e.g. \"i\" and \"?\") */\n",
              "\n",
              "/* Common style for \"i\" and \"?\" */\n",
              "\n",
              ".sk-estimator-doc-link,\n",
              "a:link.sk-estimator-doc-link,\n",
              "a:visited.sk-estimator-doc-link {\n",
              "  float: right;\n",
              "  font-size: smaller;\n",
              "  line-height: 1em;\n",
              "  font-family: monospace;\n",
              "  background-color: var(--sklearn-color-background);\n",
              "  border-radius: 1em;\n",
              "  height: 1em;\n",
              "  width: 1em;\n",
              "  text-decoration: none !important;\n",
              "  margin-left: 0.5em;\n",
              "  text-align: center;\n",
              "  /* unfitted */\n",
              "  border: var(--sklearn-color-unfitted-level-1) 1pt solid;\n",
              "  color: var(--sklearn-color-unfitted-level-1);\n",
              "}\n",
              "\n",
              ".sk-estimator-doc-link.fitted,\n",
              "a:link.sk-estimator-doc-link.fitted,\n",
              "a:visited.sk-estimator-doc-link.fitted {\n",
              "  /* fitted */\n",
              "  border: var(--sklearn-color-fitted-level-1) 1pt solid;\n",
              "  color: var(--sklearn-color-fitted-level-1);\n",
              "}\n",
              "\n",
              "/* On hover */\n",
              "div.sk-estimator:hover .sk-estimator-doc-link:hover,\n",
              ".sk-estimator-doc-link:hover,\n",
              "div.sk-label-container:hover .sk-estimator-doc-link:hover,\n",
              ".sk-estimator-doc-link:hover {\n",
              "  /* unfitted */\n",
              "  background-color: var(--sklearn-color-unfitted-level-3);\n",
              "  color: var(--sklearn-color-background);\n",
              "  text-decoration: none;\n",
              "}\n",
              "\n",
              "div.sk-estimator.fitted:hover .sk-estimator-doc-link.fitted:hover,\n",
              ".sk-estimator-doc-link.fitted:hover,\n",
              "div.sk-label-container:hover .sk-estimator-doc-link.fitted:hover,\n",
              ".sk-estimator-doc-link.fitted:hover {\n",
              "  /* fitted */\n",
              "  background-color: var(--sklearn-color-fitted-level-3);\n",
              "  color: var(--sklearn-color-background);\n",
              "  text-decoration: none;\n",
              "}\n",
              "\n",
              "/* Span, style for the box shown on hovering the info icon */\n",
              ".sk-estimator-doc-link span {\n",
              "  display: none;\n",
              "  z-index: 9999;\n",
              "  position: relative;\n",
              "  font-weight: normal;\n",
              "  right: .2ex;\n",
              "  padding: .5ex;\n",
              "  margin: .5ex;\n",
              "  width: min-content;\n",
              "  min-width: 20ex;\n",
              "  max-width: 50ex;\n",
              "  color: var(--sklearn-color-text);\n",
              "  box-shadow: 2pt 2pt 4pt #999;\n",
              "  /* unfitted */\n",
              "  background: var(--sklearn-color-unfitted-level-0);\n",
              "  border: .5pt solid var(--sklearn-color-unfitted-level-3);\n",
              "}\n",
              "\n",
              ".sk-estimator-doc-link.fitted span {\n",
              "  /* fitted */\n",
              "  background: var(--sklearn-color-fitted-level-0);\n",
              "  border: var(--sklearn-color-fitted-level-3);\n",
              "}\n",
              "\n",
              ".sk-estimator-doc-link:hover span {\n",
              "  display: block;\n",
              "}\n",
              "\n",
              "/* \"?\"-specific style due to the `<a>` HTML tag */\n",
              "\n",
              "#sk-container-id-2 a.estimator_doc_link {\n",
              "  float: right;\n",
              "  font-size: 1rem;\n",
              "  line-height: 1em;\n",
              "  font-family: monospace;\n",
              "  background-color: var(--sklearn-color-background);\n",
              "  border-radius: 1rem;\n",
              "  height: 1rem;\n",
              "  width: 1rem;\n",
              "  text-decoration: none;\n",
              "  /* unfitted */\n",
              "  color: var(--sklearn-color-unfitted-level-1);\n",
              "  border: var(--sklearn-color-unfitted-level-1) 1pt solid;\n",
              "}\n",
              "\n",
              "#sk-container-id-2 a.estimator_doc_link.fitted {\n",
              "  /* fitted */\n",
              "  border: var(--sklearn-color-fitted-level-1) 1pt solid;\n",
              "  color: var(--sklearn-color-fitted-level-1);\n",
              "}\n",
              "\n",
              "/* On hover */\n",
              "#sk-container-id-2 a.estimator_doc_link:hover {\n",
              "  /* unfitted */\n",
              "  background-color: var(--sklearn-color-unfitted-level-3);\n",
              "  color: var(--sklearn-color-background);\n",
              "  text-decoration: none;\n",
              "}\n",
              "\n",
              "#sk-container-id-2 a.estimator_doc_link.fitted:hover {\n",
              "  /* fitted */\n",
              "  background-color: var(--sklearn-color-fitted-level-3);\n",
              "}\n",
              "</style><div id=\"sk-container-id-2\" class=\"sk-top-container\"><div class=\"sk-text-repr-fallback\"><pre>LogisticRegression()</pre><b>In a Jupyter environment, please rerun this cell to show the HTML representation or trust the notebook. <br />On GitHub, the HTML representation is unable to render, please try loading this page with nbviewer.org.</b></div><div class=\"sk-container\" hidden><div class=\"sk-item\"><div class=\"sk-estimator fitted sk-toggleable\"><input class=\"sk-toggleable__control sk-hidden--visually\" id=\"sk-estimator-id-2\" type=\"checkbox\" checked><label for=\"sk-estimator-id-2\" class=\"sk-toggleable__label fitted sk-toggleable__label-arrow\"><div><div>LogisticRegression</div></div><div><a class=\"sk-estimator-doc-link fitted\" rel=\"noreferrer\" target=\"_blank\" href=\"https://scikit-learn.org/1.6/modules/generated/sklearn.linear_model.LogisticRegression.html\">?<span>Documentation for LogisticRegression</span></a><span class=\"sk-estimator-doc-link fitted\">i<span>Fitted</span></span></div></label><div class=\"sk-toggleable__content fitted\"><pre>LogisticRegression()</pre></div> </div></div></div></div>"
            ]
          },
          "metadata": {},
          "execution_count": 16
        }
      ]
    },
    {
      "cell_type": "code",
      "source": [
        "y_pred_probs = logreg.predict_proba(X_test)\n",
        "y_pred_probs"
      ],
      "metadata": {
        "colab": {
          "base_uri": "https://localhost:8080/"
        },
        "id": "8SG4P6DFdDb7",
        "outputId": "ad19f0ad-1648-434b-fb40-303d3be21765"
      },
      "execution_count": 17,
      "outputs": [
        {
          "output_type": "execute_result",
          "data": {
            "text/plain": [
              "array([[0.73448976, 0.26551024],\n",
              "       [0.81663397, 0.18336603],\n",
              "       [0.87880364, 0.12119636],\n",
              "       [0.84386463, 0.15613537],\n",
              "       [0.50388782, 0.49611218],\n",
              "       [0.55417793, 0.44582207],\n",
              "       [0.98640756, 0.01359244],\n",
              "       [0.38353896, 0.61646104],\n",
              "       [0.44359464, 0.55640536],\n",
              "       [0.20688189, 0.79311811],\n",
              "       [0.77188715, 0.22811285],\n",
              "       [0.09960942, 0.90039058],\n",
              "       [0.61558409, 0.38441591],\n",
              "       [0.71437854, 0.28562146],\n",
              "       [0.93046406, 0.06953594],\n",
              "       [0.64019253, 0.35980747],\n",
              "       [0.872845  , 0.127155  ],\n",
              "       [0.93133654, 0.06866346],\n",
              "       [0.14132066, 0.85867934],\n",
              "       [0.40641788, 0.59358212],\n",
              "       [0.78804596, 0.21195404],\n",
              "       [0.92446153, 0.07553847],\n",
              "       [0.52986699, 0.47013301],\n",
              "       [0.90654767, 0.09345233],\n",
              "       [0.4564243 , 0.5435757 ],\n",
              "       [0.11356321, 0.88643679],\n",
              "       [0.89170429, 0.10829571],\n",
              "       [0.96976566, 0.03023434],\n",
              "       [0.72707024, 0.27292976],\n",
              "       [0.88597861, 0.11402139],\n",
              "       [0.08577791, 0.91422209],\n",
              "       [0.11940128, 0.88059872],\n",
              "       [0.19446257, 0.80553743],\n",
              "       [0.17623339, 0.82376661],\n",
              "       [0.36063144, 0.63936856],\n",
              "       [0.31454272, 0.68545728],\n",
              "       [0.04520198, 0.95479802],\n",
              "       [0.77140759, 0.22859241],\n",
              "       [0.51919226, 0.48080774],\n",
              "       [0.27040285, 0.72959715],\n",
              "       [0.93723909, 0.06276091],\n",
              "       [0.41661835, 0.58338165],\n",
              "       [0.44573407, 0.55426593],\n",
              "       [0.68473154, 0.31526846],\n",
              "       [0.97167772, 0.02832228],\n",
              "       [0.47071455, 0.52928545],\n",
              "       [0.39171057, 0.60828943],\n",
              "       [0.794404  , 0.205596  ],\n",
              "       [0.6634048 , 0.3365952 ],\n",
              "       [0.036034  , 0.963966  ],\n",
              "       [0.9559839 , 0.0440161 ],\n",
              "       [0.34075383, 0.65924617],\n",
              "       [0.17478179, 0.82521821],\n",
              "       [0.74131946, 0.25868054],\n",
              "       [0.89264435, 0.10735565],\n",
              "       [0.96262354, 0.03737646],\n",
              "       [0.20995839, 0.79004161],\n",
              "       [0.99590964, 0.00409036],\n",
              "       [0.59599782, 0.40400218],\n",
              "       [0.22200884, 0.77799116],\n",
              "       [0.27553311, 0.72446689],\n",
              "       [0.65488852, 0.34511148],\n",
              "       [0.77054268, 0.22945732],\n",
              "       [0.79396518, 0.20603482],\n",
              "       [0.9180337 , 0.0819663 ],\n",
              "       [0.38202835, 0.61797165],\n",
              "       [0.95516719, 0.04483281],\n",
              "       [0.21616104, 0.78383896],\n",
              "       [0.96318676, 0.03681324],\n",
              "       [0.21083052, 0.78916948],\n",
              "       [0.30441839, 0.69558161],\n",
              "       [0.93360216, 0.06639784],\n",
              "       [0.83152547, 0.16847453],\n",
              "       [0.88093276, 0.11906724],\n",
              "       [0.9105074 , 0.0894926 ],\n",
              "       [0.49425824, 0.50574176],\n",
              "       [0.83991619, 0.16008381],\n",
              "       [0.88482817, 0.11517183],\n",
              "       [0.86126397, 0.13873603],\n",
              "       [0.73691438, 0.26308562],\n",
              "       [0.33029563, 0.66970437],\n",
              "       [0.86348679, 0.13651321],\n",
              "       [0.94428603, 0.05571397],\n",
              "       [0.5952765 , 0.4047235 ],\n",
              "       [0.73421113, 0.26578887],\n",
              "       [0.13527482, 0.86472518],\n",
              "       [0.09754997, 0.90245003],\n",
              "       [0.68656592, 0.31343408],\n",
              "       [0.88744897, 0.11255103],\n",
              "       [0.91615985, 0.08384015],\n",
              "       [0.93787406, 0.06212594],\n",
              "       [0.74205766, 0.25794234],\n",
              "       [0.99698999, 0.00301001],\n",
              "       [0.4956628 , 0.5043372 ],\n",
              "       [0.47726977, 0.52273023],\n",
              "       [0.3562043 , 0.6437957 ],\n",
              "       [0.6489174 , 0.3510826 ],\n",
              "       [0.88049531, 0.11950469],\n",
              "       [0.3169691 , 0.6830309 ],\n",
              "       [0.92094952, 0.07905048],\n",
              "       [0.27567281, 0.72432719],\n",
              "       [0.93780618, 0.06219382],\n",
              "       [0.20925105, 0.79074895],\n",
              "       [0.46045387, 0.53954613],\n",
              "       [0.33602603, 0.66397397],\n",
              "       [0.76796098, 0.23203902],\n",
              "       [0.753848  , 0.246152  ],\n",
              "       [0.25165062, 0.74834938],\n",
              "       [0.88760749, 0.11239251],\n",
              "       [0.511928  , 0.488072  ],\n",
              "       [0.91307765, 0.08692235],\n",
              "       [0.64206515, 0.35793485],\n",
              "       [0.98578232, 0.01421768],\n",
              "       [0.22908339, 0.77091661],\n",
              "       [0.81541672, 0.18458328],\n",
              "       [0.68082089, 0.31917911],\n",
              "       [0.24703894, 0.75296106],\n",
              "       [0.77724429, 0.22275571],\n",
              "       [0.93778128, 0.06221872],\n",
              "       [0.45642276, 0.54357724],\n",
              "       [0.94066911, 0.05933089],\n",
              "       [0.73526766, 0.26473234],\n",
              "       [0.78291093, 0.21708907],\n",
              "       [0.93311501, 0.06688499],\n",
              "       [0.71565176, 0.28434824],\n",
              "       [0.60704885, 0.39295115],\n",
              "       [0.9712954 , 0.0287046 ],\n",
              "       [0.13692169, 0.86307831],\n",
              "       [0.0323238 , 0.9676762 ],\n",
              "       [0.25776909, 0.74223091],\n",
              "       [0.29250502, 0.70749498],\n",
              "       [0.14084948, 0.85915052],\n",
              "       [0.91057193, 0.08942807],\n",
              "       [0.58611732, 0.41388268],\n",
              "       [0.16180102, 0.83819898],\n",
              "       [0.88206065, 0.11793935],\n",
              "       [0.83530616, 0.16469384],\n",
              "       [0.12030362, 0.87969638],\n",
              "       [0.19737123, 0.80262877],\n",
              "       [0.98844267, 0.01155733],\n",
              "       [0.91202085, 0.08797915],\n",
              "       [0.96095198, 0.03904802],\n",
              "       [0.78004791, 0.21995209],\n",
              "       [0.54922794, 0.45077206],\n",
              "       [0.87010924, 0.12989076],\n",
              "       [0.74108126, 0.25891874],\n",
              "       [0.88280187, 0.11719813],\n",
              "       [0.98094121, 0.01905879],\n",
              "       [0.59249101, 0.40750899],\n",
              "       [0.22838998, 0.77161002],\n",
              "       [0.90147502, 0.09852498],\n",
              "       [0.52118499, 0.47881501],\n",
              "       [0.73869804, 0.26130196],\n",
              "       [0.8349888 , 0.1650112 ],\n",
              "       [0.99539933, 0.00460067],\n",
              "       [0.58266484, 0.41733516],\n",
              "       [0.68679261, 0.31320739],\n",
              "       [0.35139518, 0.64860482],\n",
              "       [0.23889139, 0.76110861],\n",
              "       [0.85497658, 0.14502342],\n",
              "       [0.48619657, 0.51380343],\n",
              "       [0.35638701, 0.64361299],\n",
              "       [0.81827255, 0.18172745],\n",
              "       [0.98437019, 0.01562981],\n",
              "       [0.87798017, 0.12201983],\n",
              "       [0.11800276, 0.88199724],\n",
              "       [0.95296703, 0.04703297],\n",
              "       [0.70366184, 0.29633816],\n",
              "       [0.20095484, 0.79904516],\n",
              "       [0.45024488, 0.54975512],\n",
              "       [0.37696723, 0.62303277],\n",
              "       [0.82695062, 0.17304938],\n",
              "       [0.65615793, 0.34384207],\n",
              "       [0.23445105, 0.76554895],\n",
              "       [0.35824213, 0.64175787],\n",
              "       [0.91265167, 0.08734833],\n",
              "       [0.70319497, 0.29680503],\n",
              "       [0.74996588, 0.25003412],\n",
              "       [0.78201455, 0.21798545],\n",
              "       [0.67921916, 0.32078084],\n",
              "       [0.49282837, 0.50717163],\n",
              "       [0.41049519, 0.58950481],\n",
              "       [0.60774958, 0.39225042],\n",
              "       [0.22081665, 0.77918335],\n",
              "       [0.35573589, 0.64426411],\n",
              "       [0.90971628, 0.09028372],\n",
              "       [0.95600996, 0.04399004],\n",
              "       [0.87819398, 0.12180602],\n",
              "       [0.15269512, 0.84730488],\n",
              "       [0.63366395, 0.36633605],\n",
              "       [0.9391394 , 0.0608606 ],\n",
              "       [0.91530719, 0.08469281],\n",
              "       [0.11413727, 0.88586273],\n",
              "       [0.74844092, 0.25155908],\n",
              "       [0.92521698, 0.07478302],\n",
              "       [0.94579184, 0.05420816],\n",
              "       [0.99618925, 0.00381075],\n",
              "       [0.9375769 , 0.0624231 ],\n",
              "       [0.76018249, 0.23981751],\n",
              "       [0.30636057, 0.69363943],\n",
              "       [0.86976133, 0.13023867],\n",
              "       [0.88826208, 0.11173792],\n",
              "       [0.6546249 , 0.3453751 ],\n",
              "       [0.72899001, 0.27100999],\n",
              "       [0.3014795 , 0.6985205 ],\n",
              "       [0.90824374, 0.09175626],\n",
              "       [0.90105989, 0.09894011],\n",
              "       [0.75161726, 0.24838274],\n",
              "       [0.09902783, 0.90097217],\n",
              "       [0.37897782, 0.62102218],\n",
              "       [0.7238258 , 0.2761742 ],\n",
              "       [0.788988  , 0.211012  ],\n",
              "       [0.85974425, 0.14025575],\n",
              "       [0.88536844, 0.11463156],\n",
              "       [0.27039954, 0.72960046],\n",
              "       [0.91524697, 0.08475303],\n",
              "       [0.19063602, 0.80936398],\n",
              "       [0.7092931 , 0.2907069 ],\n",
              "       [0.6545143 , 0.3454857 ],\n",
              "       [0.12021688, 0.87978312],\n",
              "       [0.39279484, 0.60720516],\n",
              "       [0.8967907 , 0.1032093 ],\n",
              "       [0.92657687, 0.07342313],\n",
              "       [0.8398555 , 0.1601445 ],\n",
              "       [0.93769292, 0.06230708],\n",
              "       [0.25276478, 0.74723522],\n",
              "       [0.67609414, 0.32390586],\n",
              "       [0.73267127, 0.26732873],\n",
              "       [0.70352474, 0.29647526],\n",
              "       [0.81715619, 0.18284381],\n",
              "       [0.89905979, 0.10094021]])"
            ]
          },
          "metadata": {},
          "execution_count": 17
        }
      ]
    },
    {
      "cell_type": "code",
      "source": [
        "y_pred_probs.sum(axis=1)"
      ],
      "metadata": {
        "colab": {
          "base_uri": "https://localhost:8080/"
        },
        "id": "q0k7igrhdRDi",
        "outputId": "adcdd2c8-f059-414d-b96c-bdd3b79402da"
      },
      "execution_count": 18,
      "outputs": [
        {
          "output_type": "execute_result",
          "data": {
            "text/plain": [
              "array([1., 1., 1., 1., 1., 1., 1., 1., 1., 1., 1., 1., 1., 1., 1., 1., 1.,\n",
              "       1., 1., 1., 1., 1., 1., 1., 1., 1., 1., 1., 1., 1., 1., 1., 1., 1.,\n",
              "       1., 1., 1., 1., 1., 1., 1., 1., 1., 1., 1., 1., 1., 1., 1., 1., 1.,\n",
              "       1., 1., 1., 1., 1., 1., 1., 1., 1., 1., 1., 1., 1., 1., 1., 1., 1.,\n",
              "       1., 1., 1., 1., 1., 1., 1., 1., 1., 1., 1., 1., 1., 1., 1., 1., 1.,\n",
              "       1., 1., 1., 1., 1., 1., 1., 1., 1., 1., 1., 1., 1., 1., 1., 1., 1.,\n",
              "       1., 1., 1., 1., 1., 1., 1., 1., 1., 1., 1., 1., 1., 1., 1., 1., 1.,\n",
              "       1., 1., 1., 1., 1., 1., 1., 1., 1., 1., 1., 1., 1., 1., 1., 1., 1.,\n",
              "       1., 1., 1., 1., 1., 1., 1., 1., 1., 1., 1., 1., 1., 1., 1., 1., 1.,\n",
              "       1., 1., 1., 1., 1., 1., 1., 1., 1., 1., 1., 1., 1., 1., 1., 1., 1.,\n",
              "       1., 1., 1., 1., 1., 1., 1., 1., 1., 1., 1., 1., 1., 1., 1., 1., 1.,\n",
              "       1., 1., 1., 1., 1., 1., 1., 1., 1., 1., 1., 1., 1., 1., 1., 1., 1.,\n",
              "       1., 1., 1., 1., 1., 1., 1., 1., 1., 1., 1., 1., 1., 1., 1., 1., 1.,\n",
              "       1., 1., 1., 1., 1., 1., 1., 1., 1., 1.])"
            ]
          },
          "metadata": {},
          "execution_count": 18
        }
      ]
    },
    {
      "cell_type": "code",
      "source": [
        "y_pred_probs = y_pred_probs[:, 1]\n",
        "y_pred_probs"
      ],
      "metadata": {
        "colab": {
          "base_uri": "https://localhost:8080/"
        },
        "id": "t_K22TqwdVGw",
        "outputId": "5e87a308-d361-4fa2-f042-3c565af1c283"
      },
      "execution_count": 19,
      "outputs": [
        {
          "output_type": "execute_result",
          "data": {
            "text/plain": [
              "array([0.26551024, 0.18336603, 0.12119636, 0.15613537, 0.49611218,\n",
              "       0.44582207, 0.01359244, 0.61646104, 0.55640536, 0.79311811,\n",
              "       0.22811285, 0.90039058, 0.38441591, 0.28562146, 0.06953594,\n",
              "       0.35980747, 0.127155  , 0.06866346, 0.85867934, 0.59358212,\n",
              "       0.21195404, 0.07553847, 0.47013301, 0.09345233, 0.5435757 ,\n",
              "       0.88643679, 0.10829571, 0.03023434, 0.27292976, 0.11402139,\n",
              "       0.91422209, 0.88059872, 0.80553743, 0.82376661, 0.63936856,\n",
              "       0.68545728, 0.95479802, 0.22859241, 0.48080774, 0.72959715,\n",
              "       0.06276091, 0.58338165, 0.55426593, 0.31526846, 0.02832228,\n",
              "       0.52928545, 0.60828943, 0.205596  , 0.3365952 , 0.963966  ,\n",
              "       0.0440161 , 0.65924617, 0.82521821, 0.25868054, 0.10735565,\n",
              "       0.03737646, 0.79004161, 0.00409036, 0.40400218, 0.77799116,\n",
              "       0.72446689, 0.34511148, 0.22945732, 0.20603482, 0.0819663 ,\n",
              "       0.61797165, 0.04483281, 0.78383896, 0.03681324, 0.78916948,\n",
              "       0.69558161, 0.06639784, 0.16847453, 0.11906724, 0.0894926 ,\n",
              "       0.50574176, 0.16008381, 0.11517183, 0.13873603, 0.26308562,\n",
              "       0.66970437, 0.13651321, 0.05571397, 0.4047235 , 0.26578887,\n",
              "       0.86472518, 0.90245003, 0.31343408, 0.11255103, 0.08384015,\n",
              "       0.06212594, 0.25794234, 0.00301001, 0.5043372 , 0.52273023,\n",
              "       0.6437957 , 0.3510826 , 0.11950469, 0.6830309 , 0.07905048,\n",
              "       0.72432719, 0.06219382, 0.79074895, 0.53954613, 0.66397397,\n",
              "       0.23203902, 0.246152  , 0.74834938, 0.11239251, 0.488072  ,\n",
              "       0.08692235, 0.35793485, 0.01421768, 0.77091661, 0.18458328,\n",
              "       0.31917911, 0.75296106, 0.22275571, 0.06221872, 0.54357724,\n",
              "       0.05933089, 0.26473234, 0.21708907, 0.06688499, 0.28434824,\n",
              "       0.39295115, 0.0287046 , 0.86307831, 0.9676762 , 0.74223091,\n",
              "       0.70749498, 0.85915052, 0.08942807, 0.41388268, 0.83819898,\n",
              "       0.11793935, 0.16469384, 0.87969638, 0.80262877, 0.01155733,\n",
              "       0.08797915, 0.03904802, 0.21995209, 0.45077206, 0.12989076,\n",
              "       0.25891874, 0.11719813, 0.01905879, 0.40750899, 0.77161002,\n",
              "       0.09852498, 0.47881501, 0.26130196, 0.1650112 , 0.00460067,\n",
              "       0.41733516, 0.31320739, 0.64860482, 0.76110861, 0.14502342,\n",
              "       0.51380343, 0.64361299, 0.18172745, 0.01562981, 0.12201983,\n",
              "       0.88199724, 0.04703297, 0.29633816, 0.79904516, 0.54975512,\n",
              "       0.62303277, 0.17304938, 0.34384207, 0.76554895, 0.64175787,\n",
              "       0.08734833, 0.29680503, 0.25003412, 0.21798545, 0.32078084,\n",
              "       0.50717163, 0.58950481, 0.39225042, 0.77918335, 0.64426411,\n",
              "       0.09028372, 0.04399004, 0.12180602, 0.84730488, 0.36633605,\n",
              "       0.0608606 , 0.08469281, 0.88586273, 0.25155908, 0.07478302,\n",
              "       0.05420816, 0.00381075, 0.0624231 , 0.23981751, 0.69363943,\n",
              "       0.13023867, 0.11173792, 0.3453751 , 0.27100999, 0.6985205 ,\n",
              "       0.09175626, 0.09894011, 0.24838274, 0.90097217, 0.62102218,\n",
              "       0.2761742 , 0.211012  , 0.14025575, 0.11463156, 0.72960046,\n",
              "       0.08475303, 0.80936398, 0.2907069 , 0.3454857 , 0.87978312,\n",
              "       0.60720516, 0.1032093 , 0.07342313, 0.1601445 , 0.06230708,\n",
              "       0.74723522, 0.32390586, 0.26732873, 0.29647526, 0.18284381,\n",
              "       0.10094021])"
            ]
          },
          "metadata": {},
          "execution_count": 19
        }
      ]
    },
    {
      "cell_type": "markdown",
      "source": [
        "### The ROC Curve"
      ],
      "metadata": {
        "id": "To8Z9w6ieHSk"
      }
    },
    {
      "cell_type": "code",
      "source": [
        "fpr, tpr, thresholds = roc_curve(y_test, y_pred_probs)"
      ],
      "metadata": {
        "id": "h7l8UdwYeXWt"
      },
      "execution_count": 20,
      "outputs": []
    },
    {
      "cell_type": "code",
      "source": [
        "fpr"
      ],
      "metadata": {
        "colab": {
          "base_uri": "https://localhost:8080/"
        },
        "id": "ZLQKOQrTei5Y",
        "outputId": "c9a07e4e-5ae0-4f2c-c2bb-6a1d491c00c2"
      },
      "execution_count": 21,
      "outputs": [
        {
          "output_type": "execute_result",
          "data": {
            "text/plain": [
              "array([0.        , 0.        , 0.00662252, 0.00662252, 0.01324503,\n",
              "       0.01324503, 0.01986755, 0.01986755, 0.02649007, 0.02649007,\n",
              "       0.0397351 , 0.0397351 , 0.04635762, 0.04635762, 0.05298013,\n",
              "       0.05298013, 0.06622517, 0.06622517, 0.07284768, 0.07284768,\n",
              "       0.08609272, 0.08609272, 0.09271523, 0.09271523, 0.09933775,\n",
              "       0.09933775, 0.1192053 , 0.1192053 , 0.13245033, 0.13245033,\n",
              "       0.1589404 , 0.1589404 , 0.17880795, 0.17880795, 0.18543046,\n",
              "       0.18543046, 0.1986755 , 0.1986755 , 0.20529801, 0.20529801,\n",
              "       0.2384106 , 0.2384106 , 0.27152318, 0.27152318, 0.2781457 ,\n",
              "       0.2781457 , 0.29801325, 0.29801325, 0.30463576, 0.30463576,\n",
              "       0.31125828, 0.31125828, 0.31788079, 0.31788079, 0.34437086,\n",
              "       0.34437086, 0.36423841, 0.36423841, 0.37086093, 0.37086093,\n",
              "       0.39735099, 0.39735099, 0.40397351, 0.40397351, 0.43708609,\n",
              "       0.43708609, 0.45033113, 0.45033113, 0.46357616, 0.46357616,\n",
              "       0.47682119, 0.47682119, 0.50993377, 0.50993377, 0.52317881,\n",
              "       0.52317881, 0.56291391, 0.56291391, 0.60927152, 0.60927152,\n",
              "       0.61589404, 0.61589404, 0.64238411, 0.64238411, 0.86092715,\n",
              "       0.86092715, 0.93377483, 0.93377483, 1.        ])"
            ]
          },
          "metadata": {},
          "execution_count": 21
        }
      ]
    },
    {
      "cell_type": "code",
      "source": [
        "tpr"
      ],
      "metadata": {
        "colab": {
          "base_uri": "https://localhost:8080/"
        },
        "id": "6B3S5NNgekC2",
        "outputId": "e4b752dc-727a-4719-a278-944a6cf94aae"
      },
      "execution_count": 22,
      "outputs": [
        {
          "output_type": "execute_result",
          "data": {
            "text/plain": [
              "array([0.    , 0.0125, 0.0125, 0.0625, 0.0625, 0.1125, 0.1125, 0.225 ,\n",
              "       0.225 , 0.25  , 0.25  , 0.2625, 0.2625, 0.3375, 0.3375, 0.375 ,\n",
              "       0.375 , 0.4125, 0.4125, 0.425 , 0.425 , 0.5   , 0.5   , 0.5125,\n",
              "       0.5125, 0.525 , 0.525 , 0.5375, 0.5375, 0.575 , 0.575 , 0.5875,\n",
              "       0.5875, 0.6   , 0.6   , 0.6125, 0.6125, 0.625 , 0.625 , 0.6375,\n",
              "       0.6375, 0.6625, 0.6625, 0.675 , 0.675 , 0.6875, 0.6875, 0.7   ,\n",
              "       0.7   , 0.7125, 0.7125, 0.7375, 0.7375, 0.7625, 0.7625, 0.775 ,\n",
              "       0.775 , 0.7875, 0.7875, 0.8   , 0.8   , 0.8125, 0.8125, 0.825 ,\n",
              "       0.825 , 0.8375, 0.8375, 0.8625, 0.8625, 0.8875, 0.8875, 0.9   ,\n",
              "       0.9   , 0.9125, 0.9125, 0.925 , 0.925 , 0.9375, 0.9375, 0.95  ,\n",
              "       0.95  , 0.9625, 0.9625, 0.975 , 0.975 , 0.9875, 0.9875, 1.    ,\n",
              "       1.    ])"
            ]
          },
          "metadata": {},
          "execution_count": 22
        }
      ]
    },
    {
      "cell_type": "code",
      "source": [
        "thresholds"
      ],
      "metadata": {
        "colab": {
          "base_uri": "https://localhost:8080/"
        },
        "id": "MzaXn16gelWH",
        "outputId": "0325abd6-0c26-4540-f479-2c180d49eed8"
      },
      "execution_count": 23,
      "outputs": [
        {
          "output_type": "execute_result",
          "data": {
            "text/plain": [
              "array([       inf, 0.9676762 , 0.963966  , 0.90097217, 0.90039058,\n",
              "       0.88059872, 0.87978312, 0.82376661, 0.80936398, 0.80262877,\n",
              "       0.79311811, 0.79074895, 0.79004161, 0.77091661, 0.76554895,\n",
              "       0.74834938, 0.74223091, 0.72446689, 0.72432719, 0.70749498,\n",
              "       0.69558161, 0.65924617, 0.64860482, 0.64426411, 0.6437957 ,\n",
              "       0.64361299, 0.62303277, 0.62102218, 0.61646104, 0.59358212,\n",
              "       0.55426593, 0.54975512, 0.53954613, 0.52928545, 0.52273023,\n",
              "       0.51380343, 0.50574176, 0.5043372 , 0.49611218, 0.488072  ,\n",
              "       0.44582207, 0.41388268, 0.39225042, 0.38441591, 0.36633605,\n",
              "       0.35980747, 0.3454857 , 0.3453751 , 0.34511148, 0.34384207,\n",
              "       0.3365952 , 0.32078084, 0.31917911, 0.31343408, 0.29633816,\n",
              "       0.2907069 , 0.2761742 , 0.27292976, 0.27100999, 0.26732873,\n",
              "       0.26308562, 0.26130196, 0.25891874, 0.25868054, 0.246152  ,\n",
              "       0.23981751, 0.22945732, 0.22811285, 0.21995209, 0.21708907,\n",
              "       0.211012  , 0.20603482, 0.18172745, 0.17304938, 0.1650112 ,\n",
              "       0.16469384, 0.13873603, 0.13651321, 0.11950469, 0.11906724,\n",
              "       0.11793935, 0.11719813, 0.11255103, 0.11239251, 0.06212594,\n",
              "       0.0608606 , 0.03023434, 0.0287046 , 0.00301001])"
            ]
          },
          "metadata": {},
          "execution_count": 23
        }
      ]
    },
    {
      "cell_type": "code",
      "source": [
        "plt.plot([0, 1], [0, 1], 'k--')\n",
        "\n",
        "plt.plot(fpr, tpr)\n",
        "plt.xlabel('False Positive Rate')\n",
        "plt.ylabel('True Positive Rate')\n",
        "plt.title('ROC Curve for Diabetes Prediction')\n",
        "\n",
        "# Annotate some thresholds\n",
        "for i in range(0, len(thresholds), len(thresholds)//10):  # Plot a few threshold points\n",
        "    plt.text(fpr[i], tpr[i], f\"{thresholds[i]:.2f}\", fontsize=8, color=\"dodgerblue\")\n",
        "\n",
        "plt.show()"
      ],
      "metadata": {
        "colab": {
          "base_uri": "https://localhost:8080/",
          "height": 477
        },
        "id": "asDyQ9IserAx",
        "outputId": "697e496d-4f94-4cea-d1c9-88044c940bb4"
      },
      "execution_count": 24,
      "outputs": [
        {
          "output_type": "display_data",
          "data": {
            "text/plain": [
              "<Figure size 640x480 with 1 Axes>"
            ],
            "image/png": "[encoded data removed]"
          },
          "metadata": {}
        }
      ]
    },
    {
      "cell_type": "markdown",
      "source": [
        "### ROC AUC"
      ],
      "metadata": {
        "id": "3tUkRZqpgvo7"
      }
    },
    {
      "cell_type": "code",
      "source": [
        "roc_auc_score(y_test, y_pred_probs)"
      ],
      "metadata": {
        "colab": {
          "base_uri": "https://localhost:8080/"
        },
        "id": "o7BrO0Lwgx4g",
        "outputId": "78dd06bb-19df-4ca1-fbb5-f453e78acdb1"
      },
      "execution_count": 25,
      "outputs": [
        {
          "output_type": "execute_result",
          "data": {
            "text/plain": [
              "0.8002483443708608"
            ]
          },
          "metadata": {},
          "execution_count": 25
        }
      ]
    },
    {
      "cell_type": "code",
      "source": [
        "y_pred = logreg.predict(X_test)\n",
        "print(confusion_matrix(y_test, y_pred))"
      ],
      "metadata": {
        "colab": {
          "base_uri": "https://localhost:8080/"
        },
        "id": "s3pKdfQVg5uN",
        "outputId": "578f7fd4-2e2e-4210-c6fb-a6c8c60882e8"
      },
      "execution_count": 26,
      "outputs": [
        {
          "output_type": "stream",
          "name": "stdout",
          "text": [
            "[[121  30]\n",
            " [ 30  50]]\n"
          ]
        }
      ]
    },
    {
      "cell_type": "code",
      "source": [
        "print(classification_report(y_test, y_pred))"
      ],
      "metadata": {
        "colab": {
          "base_uri": "https://localhost:8080/"
        },
        "id": "DGLDp7rihYD1",
        "outputId": "6e1014cd-db8a-4675-bfcd-084b40d65ba4"
      },
      "execution_count": 27,
      "outputs": [
        {
          "output_type": "stream",
          "name": "stdout",
          "text": [
            "              precision    recall  f1-score   support\n",
            "\n",
            "           0       0.80      0.80      0.80       151\n",
            "           1       0.62      0.62      0.62        80\n",
            "\n",
            "    accuracy                           0.74       231\n",
            "   macro avg       0.71      0.71      0.71       231\n",
            "weighted avg       0.74      0.74      0.74       231\n",
            "\n"
          ]
        }
      ]
    },
    {
      "cell_type": "code",
      "source": [
        "(y_pred_probs > 0.5) == y_pred"
      ],
      "metadata": {
        "colab": {
          "base_uri": "https://localhost:8080/"
        },
        "id": "DuuK5foGhbgy",
        "outputId": "01800ad3-a648-4a12-e1dc-182a6ef0593c"
      },
      "execution_count": 28,
      "outputs": [
        {
          "output_type": "execute_result",
          "data": {
            "text/plain": [
              "array([ True,  True,  True,  True,  True,  True,  True,  True,  True,\n",
              "        True,  True,  True,  True,  True,  True,  True,  True,  True,\n",
              "        True,  True,  True,  True,  True,  True,  True,  True,  True,\n",
              "        True,  True,  True,  True,  True,  True,  True,  True,  True,\n",
              "        True,  True,  True,  True,  True,  True,  True,  True,  True,\n",
              "        True,  True,  True,  True,  True,  True,  True,  True,  True,\n",
              "        True,  True,  True,  True,  True,  True,  True,  True,  True,\n",
              "        True,  True,  True,  True,  True,  True,  True,  True,  True,\n",
              "        True,  True,  True,  True,  True,  True,  True,  True,  True,\n",
              "        True,  True,  True,  True,  True,  True,  True,  True,  True,\n",
              "        True,  True,  True,  True,  True,  True,  True,  True,  True,\n",
              "        True,  True,  True,  True,  True,  True,  True,  True,  True,\n",
              "        True,  True,  True,  True,  True,  True,  True,  True,  True,\n",
              "        True,  True,  True,  True,  True,  True,  True,  True,  True,\n",
              "        True,  True,  True,  True,  True,  True,  True,  True,  True,\n",
              "        True,  True,  True,  True,  True,  True,  True,  True,  True,\n",
              "        True,  True,  True,  True,  True,  True,  True,  True,  True,\n",
              "        True,  True,  True,  True,  True,  True,  True,  True,  True,\n",
              "        True,  True,  True,  True,  True,  True,  True,  True,  True,\n",
              "        True,  True,  True,  True,  True,  True,  True,  True,  True,\n",
              "        True,  True,  True,  True,  True,  True,  True,  True,  True,\n",
              "        True,  True,  True,  True,  True,  True,  True,  True,  True,\n",
              "        True,  True,  True,  True,  True,  True,  True,  True,  True,\n",
              "        True,  True,  True,  True,  True,  True,  True,  True,  True,\n",
              "        True,  True,  True,  True,  True,  True,  True,  True,  True,\n",
              "        True,  True,  True,  True,  True,  True])"
            ]
          },
          "metadata": {},
          "execution_count": 28
        }
      ]
    },
    {
      "cell_type": "markdown",
      "source": [
        "## Hyperparameter tuning\n",
        "\n",
        "- Ridge/lass regression: choosing `alpha`\n",
        "- KNN: choosing `n_neighbors`\n",
        "\n",
        "A **hyperparameter** is a parameter we specify ***BEFORE*** fitting the model."
      ],
      "metadata": {
        "id": "XbFkTTdGhnzk"
      }
    },
    {
      "cell_type": "markdown",
      "source": [
        "### Choosing the correct hyperparameters\n",
        "\n",
        "1. Try lots of different hyperparameter values\n",
        "2. Fit all of them separately\n",
        "3. See how well they perform\n",
        "4. Choose the best performing values\n",
        "\n",
        "- This is called **hyperparameter tuning**\n",
        "- It is essential to use cross-validation to avoid overfitting to the test set\n",
        "- We can split the data and perform cross-validation on the training set\n",
        "- We withhold the test set for the final evaluation"
      ],
      "metadata": {
        "id": "1uET-vT8jIcN"
      }
    },
    {
      "cell_type": "markdown",
      "source": [
        "### Grid search cross-validation\n",
        "\n",
        "<img src=\"https://drive.google.com/uc?export=view&id=10egd8pI_Ba-M0Sx7Bh8whbMT4l7Nw-0u\"/>\n",
        "\n",
        "```python\n",
        "from sklearn.model_selection import GridSearchCV\n",
        "\n",
        "kf = KFold(n_splits=5, shuffle=True, random_state=42)\n",
        "\n",
        "param_grid = {'alpha': np.arange(0.0001, 10, 1),\n",
        "              'solver': ['sag', 'lsqr']}\n",
        "ridge = Ridge()\n",
        "ridge_cv = GridSearchCV(ridge, param_grid, cv=kf)\n",
        "ridge_cv.fit(X_train, y_train)\n",
        "\n",
        "print(ridge_cv.best_params_, ridge_cv.best_score_)\n",
        "```"
      ],
      "metadata": {
        "id": "UD2BGIcdfmx3"
      }
    },
    {
      "cell_type": "markdown",
      "source": [
        "### Limitations and an alternative approach\n",
        "\n",
        "- Grid search is great, but the number of fits is equal to\n",
        "\n",
        "$$\n",
        "\\text{num_hyperparameters} \\times \\text{num_values} \\times \\text{num_folds}\n",
        "$$\n",
        "\n",
        "- That means it doesn't scale well\n",
        "- an alternative is `RandomizedSearchCV`, which picks random hyperparameter values rather than exhaustively saerching through all options\n",
        "\n",
        "```python\n",
        "from sklearn,model_selection import RandomizedSearchCV\n",
        "\n",
        "kf = KFold(n_splits=5, shuffle=True, random_state=42)\n",
        "\n",
        "param_grid = {'alpha': np.arange(0.0001, 10, 1),\n",
        "              'solver': ['sag', 'lsqr']}\n",
        "ridge = Ridge()\n",
        "\n",
        "# optionally set the n_iter argument, which\n",
        "#. determines the number of hyperparameter values tested\n",
        "#. so 5-fold with n_iter=2 performs 10 fits\n",
        "ridge_cv = RandomizedSearchCV(ridge, param_grid, cv=kf, n_iter=2)\n",
        "ridge_cv.fin(X_train, y_train)\n",
        "\n",
        "print(ridge_cv.best_params_, ridge_cv.best_score_)\n",
        "```\n",
        "\n",
        "- After the hyperparameters are chosen, we can evaluate the model performance on the test set\n",
        "\n",
        "```python\n",
        "test_score = ridge_cv.score(X_test, y_test)\n",
        "```"
      ],
      "metadata": {
        "id": "nMdLX0y3kQIV"
      }
    },
    {
      "cell_type": "markdown",
      "source": [
        "### Hyperparameter tuning with GridSearchCV"
      ],
      "metadata": {
        "id": "sF5RBFI3n_Fn"
      }
    },
    {
      "cell_type": "code",
      "source": [
        "X = diabetes.drop('diabetes', axis=1)\n",
        "y = diabetes['diabetes']\n",
        "\n",
        "X_train, X_test, y_train, y_test = train_test_split(X, y, test_size=0.2, random_state=42)\n",
        "\n",
        "X_train.shape, X_test.shape, y_train.shape, y_test.shape"
      ],
      "metadata": {
        "colab": {
          "base_uri": "https://localhost:8080/"
        },
        "id": "v9L7KORwoDcs",
        "outputId": "26696594-4a52-4f5b-f49e-0d35f8d2527a"
      },
      "execution_count": 29,
      "outputs": [
        {
          "output_type": "execute_result",
          "data": {
            "text/plain": [
              "((614, 8), (154, 8), (614,), (154,))"
            ]
          },
          "metadata": {},
          "execution_count": 29
        }
      ]
    },
    {
      "cell_type": "code",
      "source": [
        "kf = KFold(n_splits=5, random_state=42, shuffle=True)\n",
        "\n",
        "param_grid = {'alpha': np.linspace(0.00001, 1, 20)}\n",
        "lasso = Lasso()\n",
        "\n",
        "lasso_cv = GridSearchCV(lasso, param_grid, cv=kf)\n",
        "\n",
        "lasso_cv.fit(X_train, y_train)\n",
        "print(\"Tuned lasso paramaters: {}\".format(lasso_cv.best_params_))\n",
        "\n",
        "# the default score for Lasso is R-squared\n",
        "print(\"Tuned lasso score: {}\".format(lasso_cv.best_score_))"
      ],
      "metadata": {
        "colab": {
          "base_uri": "https://localhost:8080/"
        },
        "id": "_OhA3Xh-oh3w",
        "outputId": "f0f8b0c4-b250-4447-c591-06e9270ea654"
      },
      "execution_count": 30,
      "outputs": [
        {
          "output_type": "stream",
          "name": "stdout",
          "text": [
            "Tuned lasso paramaters: {'alpha': 0.15790315789473686}\n",
            "Tuned lasso score: 0.2680563190579576\n"
          ]
        }
      ]
    },
    {
      "cell_type": "code",
      "source": [
        "lasso_cv.score(X_test, y_test)"
      ],
      "metadata": {
        "colab": {
          "base_uri": "https://localhost:8080/"
        },
        "id": "gySUAEcrvPYU",
        "outputId": "a3753adb-d520-40ae-9b4c-731efddc2930"
      },
      "execution_count": 31,
      "outputs": [
        {
          "output_type": "execute_result",
          "data": {
            "text/plain": [
              "0.21895839262930017"
            ]
          },
          "metadata": {},
          "execution_count": 31
        }
      ]
    },
    {
      "cell_type": "markdown",
      "source": [
        "### Hyperparameter tuning with RandomizedSearchCV"
      ],
      "metadata": {
        "id": "7sP17Pwys-sx"
      }
    },
    {
      "cell_type": "code",
      "source": [
        "kf = KFold(n_splits=5, random_state=42, shuffle=True)\n",
        "\n",
        "# Create the parameter space\n",
        "params = {\"penalty\": [\"l2\"],\n",
        "         \"tol\": np.linspace(0.0001, 1.0, 50),\n",
        "         \"C\": np.linspace(0.1, 1, 50),\n",
        "         \"class_weight\": [\"balanced\", {0:0.8, 1:0.2}]}\n",
        "\n",
        "logreg = LogisticRegression()\n",
        "\n",
        "# Instantiate the RandomizedSearchCV object\n",
        "logreg_cv = RandomizedSearchCV(logreg, params, cv=kf)\n",
        "\n",
        "# Fit the data to the model\n",
        "logreg_cv.fit(X_train, y_train)\n",
        "\n",
        "# Print the tuned parameters and score\n",
        "print(\"Tuned Logistic Regression Parameters: {}\".format(logreg_cv.best_params_))\n",
        "print(\"Tuned Logistic Regression Best Accuracy Score: {}\".format(logreg_cv.best_score_))"
      ],
      "metadata": {
        "colab": {
          "base_uri": "https://localhost:8080/"
        },
        "id": "oVlDcn-QtHZZ",
        "outputId": "fbde4929-3c46-45f6-ec62-647a9b0689c2"
      },
      "execution_count": 32,
      "outputs": [
        {
          "output_type": "stream",
          "name": "stdout",
          "text": [
            "Tuned Logistic Regression Parameters: {'tol': 0.7143142857142857, 'penalty': 'l2', 'class_weight': {0: 0.8, 1: 0.2}, 'C': 0.6510204081632653}\n",
            "Tuned Logistic Regression Best Accuracy Score: 0.6498733839797415\n"
          ]
        }
      ]
    },
    {
      "cell_type": "code",
      "source": [
        "logreg_cv.score(X_test, y_test)"
      ],
      "metadata": {
        "colab": {
          "base_uri": "https://localhost:8080/"
        },
        "id": "Bpb8kqUyvEtY",
        "outputId": "6f4910ce-58a6-4730-e557-c944eaa1478a"
      },
      "execution_count": 33,
      "outputs": [
        {
          "output_type": "execute_result",
          "data": {
            "text/plain": [
              "0.6493506493506493"
            ]
          },
          "metadata": {},
          "execution_count": 33
        }
      ]
    }
  ]
}