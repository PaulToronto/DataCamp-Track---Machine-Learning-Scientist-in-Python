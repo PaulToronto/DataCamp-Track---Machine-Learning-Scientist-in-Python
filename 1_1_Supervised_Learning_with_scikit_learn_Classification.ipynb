{
  "nbformat": 4,
  "nbformat_minor": 0,
  "metadata": {
    "colab": {
      "provenance": [],
      "toc_visible": true,
      "authorship_tag": "ABX9TyOhykqaDS5twuKFdQ2mBbec",
      "include_colab_link": true
    },
    "kernelspec": {
      "name": "python3",
      "display_name": "Python 3"
    },
    "language_info": {
      "name": "python"
    }
  },
  "cells": [
    {
      "cell_type": "markdown",
      "metadata": {
        "id": "view-in-github",
        "colab_type": "text"
      },
      "source": [
        "<a href=\"https://colab.research.google.com/github/PaulToronto/DataCamp-Track---Machine-Learning-Scientist-in-Python/blob/main/1_1_Supervised_Learning_with_scikit_learn_Classification.ipynb\" target=\"_parent\"><img src=\"https://colab.research.google.com/assets/colab-badge.svg\" alt=\"Open In Colab\"/></a>"
      ]
    },
    {
      "cell_type": "markdown",
      "source": [
        "# 1-1 Supervised Learning with scikit-learn - Classification"
      ],
      "metadata": {
        "id": "wYUrBMDmPMpy"
      }
    },
    {
      "cell_type": "markdown",
      "source": [
        "## Machine learning with scikit-learn"
      ],
      "metadata": {
        "id": "Be_nCweCPFV5"
      }
    },
    {
      "cell_type": "markdown",
      "source": [
        "- Feature: predictor variable, independent variable\n",
        "- Target variable: response variable, dependent variable, label\n",
        "\n",
        "### Requirements for supervised learning\n",
        "\n",
        "- No missing vlaues\n",
        "- Data in numeric format\n",
        "- Data stored in pandas DataFrame or numpy array\n",
        "\n",
        "### scikit-learn syntax\n",
        "```python\n",
        "from sklearn.module import Model\n",
        "\n",
        "model = Model()\n",
        "model.fit(X, y)\n",
        "\n",
        "predictions = model.predict(X_new)\n",
        "```"
      ],
      "metadata": {
        "id": "-HVg53-NP3mC"
      }
    },
    {
      "cell_type": "markdown",
      "source": [
        "## The classification challenge"
      ],
      "metadata": {
        "id": "3_PZUBAnRrpr"
      }
    },
    {
      "cell_type": "markdown",
      "source": [],
      "metadata": {
        "id": "Fli474zVRwn0"
      }
    }
  ]
}