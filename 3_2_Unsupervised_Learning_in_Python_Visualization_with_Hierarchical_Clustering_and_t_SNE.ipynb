{
  "nbformat": 4,
  "nbformat_minor": 0,
  "metadata": {
    "colab": {
      "provenance": [],
      "toc_visible": true,
      "authorship_tag": "ABX9TyM8sxK1tDdHBERuEhKNoM23",
      "include_colab_link": true
    },
    "kernelspec": {
      "name": "python3",
      "display_name": "Python 3"
    },
    "language_info": {
      "name": "python"
    }
  },
  "cells": [
    {
      "cell_type": "markdown",
      "metadata": {
        "id": "view-in-github",
        "colab_type": "text"
      },
      "source": [
        "<a href=\"https://colab.research.google.com/github/PaulToronto/DataCamp-Track---Machine-Learning-Scientist-in-Python/blob/main/3_2_Unsupervised_Learning_in_Python_Visualization_with_Hierarchical_Clustering_and_t_SNE.ipynb\" target=\"_parent\"><img src=\"https://colab.research.google.com/assets/colab-badge.svg\" alt=\"Open In Colab\"/></a>"
      ]
    },
    {
      "cell_type": "markdown",
      "source": [
        "# 3-2 Unsupervised Learning in Python - Visualization with Hierarchical Clustering and t-SNE"
      ],
      "metadata": {
        "id": "q-71Ob1MvXSZ"
      }
    },
    {
      "cell_type": "markdown",
      "source": [
        "## Imports"
      ],
      "metadata": {
        "id": "ewfiNeXWvhnu"
      }
    },
    {
      "cell_type": "code",
      "execution_count": 1,
      "metadata": {
        "id": "laUSOYTtvW1x"
      },
      "outputs": [],
      "source": [
        "import pandas as pd\n",
        "import numpy as np\n",
        "\n",
        "import matplotlib.pyplot as plt\n",
        "from scipy.cluster.hierarchy import linkage, dendrogram, fcluster\n",
        "\n",
        "from sklearn.model_selection import train_test_split\n",
        "from sklearn.preprocessing import Normalizer, normalize, LabelEncoder\n",
        "from sklearn.manifold import TSNE"
      ]
    },
    {
      "cell_type": "markdown",
      "source": [
        "## Data"
      ],
      "metadata": {
        "id": "fLcSURQvvqCI"
      }
    },
    {
      "cell_type": "code",
      "source": [
        "data_base_url = 'https://drive.google.com/uc?id='\n",
        "image_base_url = 'https://drive.google.com/uc?export=view&id='"
      ],
      "metadata": {
        "id": "IhS0442zTFzo"
      },
      "execution_count": 2,
      "outputs": []
    },
    {
      "cell_type": "markdown",
      "source": [
        "### Eurovision scoring dataset\n",
        "\n",
        "https://eurovision.tv/history/full-split-results"
      ],
      "metadata": {
        "id": "u9a_OZZSTQIn"
      }
    },
    {
      "cell_type": "code",
      "source": [
        "id = '1rGY7U9BuQrbqh-K03E-lgNT_0Q_100sd'\n",
        "eurovision = pd.read_csv(data_base_url + id)\n",
        "eurovision.info()"
      ],
      "metadata": {
        "id": "Q6y-SOrgvreD",
        "colab": {
          "base_uri": "https://localhost:8080/"
        },
        "outputId": "31ac3914-fbdb-409d-a305-8eb402823590"
      },
      "execution_count": 3,
      "outputs": [
        {
          "output_type": "stream",
          "name": "stdout",
          "text": [
            "<class 'pandas.core.frame.DataFrame'>\n",
            "RangeIndex: 1066 entries, 0 to 1065\n",
            "Data columns (total 11 columns):\n",
            " #   Column           Non-Null Count  Dtype  \n",
            "---  ------           --------------  -----  \n",
            " 0   From country     1066 non-null   object \n",
            " 1   To country       1066 non-null   object \n",
            " 2   Jury A           1066 non-null   int64  \n",
            " 3   Jury B           1066 non-null   int64  \n",
            " 4   Jury C           1066 non-null   int64  \n",
            " 5   Jury D           1066 non-null   int64  \n",
            " 6   Jury E           1066 non-null   int64  \n",
            " 7   Jury Rank        1066 non-null   int64  \n",
            " 8   Televote Rank    1066 non-null   int64  \n",
            " 9   Jury Points      420 non-null    float64\n",
            " 10  Televote Points  420 non-null    float64\n",
            "dtypes: float64(2), int64(7), object(2)\n",
            "memory usage: 91.7+ KB\n"
          ]
        }
      ]
    },
    {
      "cell_type": "markdown",
      "source": [
        "### Grain data"
      ],
      "metadata": {
        "id": "Jw5PMGzYcelO"
      }
    },
    {
      "cell_type": "code",
      "source": [
        "data_url = 'https://drive.google.com/uc?id=1-sfcYNfZ3bC2K5AesWHcDiPiqTo1S_ie'\n",
        "seeds = pd.read_csv(data_url, header=None)\n",
        "seeds.info()"
      ],
      "metadata": {
        "colab": {
          "base_uri": "https://localhost:8080/"
        },
        "id": "ZXb2pDr_cf44",
        "outputId": "dee8e122-1317-4fef-bb48-440cc9eb11d0"
      },
      "execution_count": 4,
      "outputs": [
        {
          "output_type": "stream",
          "name": "stdout",
          "text": [
            "<class 'pandas.core.frame.DataFrame'>\n",
            "RangeIndex: 210 entries, 0 to 209\n",
            "Data columns (total 8 columns):\n",
            " #   Column  Non-Null Count  Dtype  \n",
            "---  ------  --------------  -----  \n",
            " 0   0       210 non-null    float64\n",
            " 1   1       210 non-null    float64\n",
            " 2   2       210 non-null    float64\n",
            " 3   3       210 non-null    float64\n",
            " 4   4       210 non-null    float64\n",
            " 5   5       210 non-null    float64\n",
            " 6   6       210 non-null    float64\n",
            " 7   7       210 non-null    int64  \n",
            "dtypes: float64(7), int64(1)\n",
            "memory usage: 13.3 KB\n"
          ]
        }
      ]
    },
    {
      "cell_type": "markdown",
      "source": [
        "### Stock Movement"
      ],
      "metadata": {
        "id": "WaAKUCUmvbzj"
      }
    },
    {
      "cell_type": "code",
      "source": [
        "data_url = 'https://drive.google.com/uc?id=1tcU2IA8NDoWO-0LHbaOSYayB3_Kw7Wlc'\n",
        "stock_movement = pd.read_csv(data_url)\n",
        "stock_movement.info()"
      ],
      "metadata": {
        "colab": {
          "base_uri": "https://localhost:8080/"
        },
        "id": "eLijZYHcvdw5",
        "outputId": "38d280aa-18f8-4e46-8210-d4a151f4cabb"
      },
      "execution_count": 5,
      "outputs": [
        {
          "output_type": "stream",
          "name": "stdout",
          "text": [
            "<class 'pandas.core.frame.DataFrame'>\n",
            "RangeIndex: 60 entries, 0 to 59\n",
            "Columns: 964 entries, Unnamed: 0 to 2013-10-29\n",
            "dtypes: float64(963), object(1)\n",
            "memory usage: 452.0+ KB\n"
          ]
        }
      ]
    },
    {
      "cell_type": "code",
      "source": [
        "stock_movement = stock_movement.rename(columns={stock_movement.columns[0]: 'Company'})\n",
        "stock_movement.head()"
      ],
      "metadata": {
        "colab": {
          "base_uri": "https://localhost:8080/",
          "height": 290
        },
        "id": "pI-uyncYvkkK",
        "outputId": "0406bf4c-e218-4cc7-ec5b-36648194f9e0"
      },
      "execution_count": 6,
      "outputs": [
        {
          "output_type": "execute_result",
          "data": {
            "text/plain": [
              "            Company  2010-01-04  2010-01-05  2010-01-06  2010-01-07  \\\n",
              "0             Apple    0.580000   -0.220005   -3.409998   -1.170000   \n",
              "1               AIG   -0.640002   -0.650000   -0.210001   -0.420000   \n",
              "2            Amazon   -2.350006    1.260009   -2.350006   -2.009995   \n",
              "3  American express    0.109997    0.000000    0.260002    0.720002   \n",
              "4            Boeing    0.459999    1.770000    1.549999    2.690003   \n",
              "\n",
              "   2010-01-08  2010-01-11  2010-01-12  2010-01-13  2010-01-14  ...  \\\n",
              "0    1.680011   -2.689994   -1.469994    2.779997   -0.680003  ...   \n",
              "1    0.710001   -0.200001   -1.130001    0.069999   -0.119999  ...   \n",
              "2    2.960006   -2.309997   -1.640007    1.209999   -1.790001  ...   \n",
              "3    0.190003   -0.270001    0.750000    0.300004    0.639999  ...   \n",
              "4    0.059997   -1.080002    0.360000    0.549999    0.530002  ...   \n",
              "\n",
              "   2013-10-16  2013-10-17  2013-10-18  2013-10-21  2013-10-22  2013-10-23  \\\n",
              "0    0.320008    4.519997    2.899987    9.590019   -6.540016    5.959976   \n",
              "1    0.919998    0.709999    0.119999   -0.480000    0.010002   -0.279998   \n",
              "2    2.109985    3.699982    9.570008   -3.450013    4.820008   -4.079986   \n",
              "3    0.680001    2.290001    0.409996   -0.069999    0.100006    0.069999   \n",
              "4    1.559997    2.480003    0.019997   -1.220001    0.480003    3.020004   \n",
              "\n",
              "   2013-10-24  2013-10-25  2013-10-28  2013-10-29  \n",
              "0    6.910011   -5.359962    0.840019  -19.589981  \n",
              "1   -0.190003   -0.040001   -0.400002    0.660000  \n",
              "2    2.579986    4.790009   -1.760009    3.740021  \n",
              "3    0.130005    1.849999    0.040001    0.540001  \n",
              "4   -0.029999    1.940002    1.130005    0.309998  \n",
              "\n",
              "[5 rows x 964 columns]"
            ],
            "text/html": [
              "\n",
              "  <div id=\"df-eac249ae-2ec1-4f6a-9a94-7806442ac425\" class=\"colab-df-container\">\n",
              "    <div>\n",
              "<style scoped>\n",
              "    .dataframe tbody tr th:only-of-type {\n",
              "        vertical-align: middle;\n",
              "    }\n",
              "\n",
              "    .dataframe tbody tr th {\n",
              "        vertical-align: top;\n",
              "    }\n",
              "\n",
              "    .dataframe thead th {\n",
              "        text-align: right;\n",
              "    }\n",
              "</style>\n",
              "<table border=\"1\" class=\"dataframe\">\n",
              "  <thead>\n",
              "    <tr style=\"text-align: right;\">\n",
              "      <th></th>\n",
              "      <th>Company</th>\n",
              "      <th>2010-01-04</th>\n",
              "      <th>2010-01-05</th>\n",
              "      <th>2010-01-06</th>\n",
              "      <th>2010-01-07</th>\n",
              "      <th>2010-01-08</th>\n",
              "      <th>2010-01-11</th>\n",
              "      <th>2010-01-12</th>\n",
              "      <th>2010-01-13</th>\n",
              "      <th>2010-01-14</th>\n",
              "      <th>...</th>\n",
              "      <th>2013-10-16</th>\n",
              "      <th>2013-10-17</th>\n",
              "      <th>2013-10-18</th>\n",
              "      <th>2013-10-21</th>\n",
              "      <th>2013-10-22</th>\n",
              "      <th>2013-10-23</th>\n",
              "      <th>2013-10-24</th>\n",
              "      <th>2013-10-25</th>\n",
              "      <th>2013-10-28</th>\n",
              "      <th>2013-10-29</th>\n",
              "    </tr>\n",
              "  </thead>\n",
              "  <tbody>\n",
              "    <tr>\n",
              "      <th>0</th>\n",
              "      <td>Apple</td>\n",
              "      <td>0.580000</td>\n",
              "      <td>-0.220005</td>\n",
              "      <td>-3.409998</td>\n",
              "      <td>-1.170000</td>\n",
              "      <td>1.680011</td>\n",
              "      <td>-2.689994</td>\n",
              "      <td>-1.469994</td>\n",
              "      <td>2.779997</td>\n",
              "      <td>-0.680003</td>\n",
              "      <td>...</td>\n",
              "      <td>0.320008</td>\n",
              "      <td>4.519997</td>\n",
              "      <td>2.899987</td>\n",
              "      <td>9.590019</td>\n",
              "      <td>-6.540016</td>\n",
              "      <td>5.959976</td>\n",
              "      <td>6.910011</td>\n",
              "      <td>-5.359962</td>\n",
              "      <td>0.840019</td>\n",
              "      <td>-19.589981</td>\n",
              "    </tr>\n",
              "    <tr>\n",
              "      <th>1</th>\n",
              "      <td>AIG</td>\n",
              "      <td>-0.640002</td>\n",
              "      <td>-0.650000</td>\n",
              "      <td>-0.210001</td>\n",
              "      <td>-0.420000</td>\n",
              "      <td>0.710001</td>\n",
              "      <td>-0.200001</td>\n",
              "      <td>-1.130001</td>\n",
              "      <td>0.069999</td>\n",
              "      <td>-0.119999</td>\n",
              "      <td>...</td>\n",
              "      <td>0.919998</td>\n",
              "      <td>0.709999</td>\n",
              "      <td>0.119999</td>\n",
              "      <td>-0.480000</td>\n",
              "      <td>0.010002</td>\n",
              "      <td>-0.279998</td>\n",
              "      <td>-0.190003</td>\n",
              "      <td>-0.040001</td>\n",
              "      <td>-0.400002</td>\n",
              "      <td>0.660000</td>\n",
              "    </tr>\n",
              "    <tr>\n",
              "      <th>2</th>\n",
              "      <td>Amazon</td>\n",
              "      <td>-2.350006</td>\n",
              "      <td>1.260009</td>\n",
              "      <td>-2.350006</td>\n",
              "      <td>-2.009995</td>\n",
              "      <td>2.960006</td>\n",
              "      <td>-2.309997</td>\n",
              "      <td>-1.640007</td>\n",
              "      <td>1.209999</td>\n",
              "      <td>-1.790001</td>\n",
              "      <td>...</td>\n",
              "      <td>2.109985</td>\n",
              "      <td>3.699982</td>\n",
              "      <td>9.570008</td>\n",
              "      <td>-3.450013</td>\n",
              "      <td>4.820008</td>\n",
              "      <td>-4.079986</td>\n",
              "      <td>2.579986</td>\n",
              "      <td>4.790009</td>\n",
              "      <td>-1.760009</td>\n",
              "      <td>3.740021</td>\n",
              "    </tr>\n",
              "    <tr>\n",
              "      <th>3</th>\n",
              "      <td>American express</td>\n",
              "      <td>0.109997</td>\n",
              "      <td>0.000000</td>\n",
              "      <td>0.260002</td>\n",
              "      <td>0.720002</td>\n",
              "      <td>0.190003</td>\n",
              "      <td>-0.270001</td>\n",
              "      <td>0.750000</td>\n",
              "      <td>0.300004</td>\n",
              "      <td>0.639999</td>\n",
              "      <td>...</td>\n",
              "      <td>0.680001</td>\n",
              "      <td>2.290001</td>\n",
              "      <td>0.409996</td>\n",
              "      <td>-0.069999</td>\n",
              "      <td>0.100006</td>\n",
              "      <td>0.069999</td>\n",
              "      <td>0.130005</td>\n",
              "      <td>1.849999</td>\n",
              "      <td>0.040001</td>\n",
              "      <td>0.540001</td>\n",
              "    </tr>\n",
              "    <tr>\n",
              "      <th>4</th>\n",
              "      <td>Boeing</td>\n",
              "      <td>0.459999</td>\n",
              "      <td>1.770000</td>\n",
              "      <td>1.549999</td>\n",
              "      <td>2.690003</td>\n",
              "      <td>0.059997</td>\n",
              "      <td>-1.080002</td>\n",
              "      <td>0.360000</td>\n",
              "      <td>0.549999</td>\n",
              "      <td>0.530002</td>\n",
              "      <td>...</td>\n",
              "      <td>1.559997</td>\n",
              "      <td>2.480003</td>\n",
              "      <td>0.019997</td>\n",
              "      <td>-1.220001</td>\n",
              "      <td>0.480003</td>\n",
              "      <td>3.020004</td>\n",
              "      <td>-0.029999</td>\n",
              "      <td>1.940002</td>\n",
              "      <td>1.130005</td>\n",
              "      <td>0.309998</td>\n",
              "    </tr>\n",
              "  </tbody>\n",
              "</table>\n",
              "<p>5 rows × 964 columns</p>\n",
              "</div>\n",
              "    <div class=\"colab-df-buttons\">\n",
              "\n",
              "  <div class=\"colab-df-container\">\n",
              "    <button class=\"colab-df-convert\" onclick=\"convertToInteractive('df-eac249ae-2ec1-4f6a-9a94-7806442ac425')\"\n",
              "            title=\"Convert this dataframe to an interactive table.\"\n",
              "            style=\"display:none;\">\n",
              "\n",
              "  <svg xmlns=\"http://www.w3.org/2000/svg\" height=\"24px\" viewBox=\"0 -960 960 960\">\n",
              "    <path d=\"M120-120v-720h720v720H120Zm60-500h600v-160H180v160Zm220 220h160v-160H400v160Zm0 220h160v-160H400v160ZM180-400h160v-160H180v160Zm440 0h160v-160H620v160ZM180-180h160v-160H180v160Zm440 0h160v-160H620v160Z\"/>\n",
              "  </svg>\n",
              "    </button>\n",
              "\n",
              "  <style>\n",
              "    .colab-df-container {\n",
              "      display:flex;\n",
              "      gap: 12px;\n",
              "    }\n",
              "\n",
              "    .colab-df-convert {\n",
              "      background-color: #E8F0FE;\n",
              "      border: none;\n",
              "      border-radius: 50%;\n",
              "      cursor: pointer;\n",
              "      display: none;\n",
              "      fill: #1967D2;\n",
              "      height: 32px;\n",
              "      padding: 0 0 0 0;\n",
              "      width: 32px;\n",
              "    }\n",
              "\n",
              "    .colab-df-convert:hover {\n",
              "      background-color: #E2EBFA;\n",
              "      box-shadow: 0px 1px 2px rgba(60, 64, 67, 0.3), 0px 1px 3px 1px rgba(60, 64, 67, 0.15);\n",
              "      fill: #174EA6;\n",
              "    }\n",
              "\n",
              "    .colab-df-buttons div {\n",
              "      margin-bottom: 4px;\n",
              "    }\n",
              "\n",
              "    [theme=dark] .colab-df-convert {\n",
              "      background-color: #3B4455;\n",
              "      fill: #D2E3FC;\n",
              "    }\n",
              "\n",
              "    [theme=dark] .colab-df-convert:hover {\n",
              "      background-color: #434B5C;\n",
              "      box-shadow: 0px 1px 3px 1px rgba(0, 0, 0, 0.15);\n",
              "      filter: drop-shadow(0px 1px 2px rgba(0, 0, 0, 0.3));\n",
              "      fill: #FFFFFF;\n",
              "    }\n",
              "  </style>\n",
              "\n",
              "    <script>\n",
              "      const buttonEl =\n",
              "        document.querySelector('#df-eac249ae-2ec1-4f6a-9a94-7806442ac425 button.colab-df-convert');\n",
              "      buttonEl.style.display =\n",
              "        google.colab.kernel.accessAllowed ? 'block' : 'none';\n",
              "\n",
              "      async function convertToInteractive(key) {\n",
              "        const element = document.querySelector('#df-eac249ae-2ec1-4f6a-9a94-7806442ac425');\n",
              "        const dataTable =\n",
              "          await google.colab.kernel.invokeFunction('convertToInteractive',\n",
              "                                                    [key], {});\n",
              "        if (!dataTable) return;\n",
              "\n",
              "        const docLinkHtml = 'Like what you see? Visit the ' +\n",
              "          '<a target=\"_blank\" href=https://colab.research.google.com/notebooks/data_table.ipynb>data table notebook</a>'\n",
              "          + ' to learn more about interactive tables.';\n",
              "        element.innerHTML = '';\n",
              "        dataTable['output_type'] = 'display_data';\n",
              "        await google.colab.output.renderOutput(dataTable, element);\n",
              "        const docLink = document.createElement('div');\n",
              "        docLink.innerHTML = docLinkHtml;\n",
              "        element.appendChild(docLink);\n",
              "      }\n",
              "    </script>\n",
              "  </div>\n",
              "\n",
              "\n",
              "<div id=\"df-df395a59-4033-4021-a412-17507699a8a3\">\n",
              "  <button class=\"colab-df-quickchart\" onclick=\"quickchart('df-df395a59-4033-4021-a412-17507699a8a3')\"\n",
              "            title=\"Suggest charts\"\n",
              "            style=\"display:none;\">\n",
              "\n",
              "<svg xmlns=\"http://www.w3.org/2000/svg\" height=\"24px\"viewBox=\"0 0 24 24\"\n",
              "     width=\"24px\">\n",
              "    <g>\n",
              "        <path d=\"M19 3H5c-1.1 0-2 .9-2 2v14c0 1.1.9 2 2 2h14c1.1 0 2-.9 2-2V5c0-1.1-.9-2-2-2zM9 17H7v-7h2v7zm4 0h-2V7h2v10zm4 0h-2v-4h2v4z\"/>\n",
              "    </g>\n",
              "</svg>\n",
              "  </button>\n",
              "\n",
              "<style>\n",
              "  .colab-df-quickchart {\n",
              "      --bg-color: #E8F0FE;\n",
              "      --fill-color: #1967D2;\n",
              "      --hover-bg-color: #E2EBFA;\n",
              "      --hover-fill-color: #174EA6;\n",
              "      --disabled-fill-color: #AAA;\n",
              "      --disabled-bg-color: #DDD;\n",
              "  }\n",
              "\n",
              "  [theme=dark] .colab-df-quickchart {\n",
              "      --bg-color: #3B4455;\n",
              "      --fill-color: #D2E3FC;\n",
              "      --hover-bg-color: #434B5C;\n",
              "      --hover-fill-color: #FFFFFF;\n",
              "      --disabled-bg-color: #3B4455;\n",
              "      --disabled-fill-color: #666;\n",
              "  }\n",
              "\n",
              "  .colab-df-quickchart {\n",
              "    background-color: var(--bg-color);\n",
              "    border: none;\n",
              "    border-radius: 50%;\n",
              "    cursor: pointer;\n",
              "    display: none;\n",
              "    fill: var(--fill-color);\n",
              "    height: 32px;\n",
              "    padding: 0;\n",
              "    width: 32px;\n",
              "  }\n",
              "\n",
              "  .colab-df-quickchart:hover {\n",
              "    background-color: var(--hover-bg-color);\n",
              "    box-shadow: 0 1px 2px rgba(60, 64, 67, 0.3), 0 1px 3px 1px rgba(60, 64, 67, 0.15);\n",
              "    fill: var(--button-hover-fill-color);\n",
              "  }\n",
              "\n",
              "  .colab-df-quickchart-complete:disabled,\n",
              "  .colab-df-quickchart-complete:disabled:hover {\n",
              "    background-color: var(--disabled-bg-color);\n",
              "    fill: var(--disabled-fill-color);\n",
              "    box-shadow: none;\n",
              "  }\n",
              "\n",
              "  .colab-df-spinner {\n",
              "    border: 2px solid var(--fill-color);\n",
              "    border-color: transparent;\n",
              "    border-bottom-color: var(--fill-color);\n",
              "    animation:\n",
              "      spin 1s steps(1) infinite;\n",
              "  }\n",
              "\n",
              "  @keyframes spin {\n",
              "    0% {\n",
              "      border-color: transparent;\n",
              "      border-bottom-color: var(--fill-color);\n",
              "      border-left-color: var(--fill-color);\n",
              "    }\n",
              "    20% {\n",
              "      border-color: transparent;\n",
              "      border-left-color: var(--fill-color);\n",
              "      border-top-color: var(--fill-color);\n",
              "    }\n",
              "    30% {\n",
              "      border-color: transparent;\n",
              "      border-left-color: var(--fill-color);\n",
              "      border-top-color: var(--fill-color);\n",
              "      border-right-color: var(--fill-color);\n",
              "    }\n",
              "    40% {\n",
              "      border-color: transparent;\n",
              "      border-right-color: var(--fill-color);\n",
              "      border-top-color: var(--fill-color);\n",
              "    }\n",
              "    60% {\n",
              "      border-color: transparent;\n",
              "      border-right-color: var(--fill-color);\n",
              "    }\n",
              "    80% {\n",
              "      border-color: transparent;\n",
              "      border-right-color: var(--fill-color);\n",
              "      border-bottom-color: var(--fill-color);\n",
              "    }\n",
              "    90% {\n",
              "      border-color: transparent;\n",
              "      border-bottom-color: var(--fill-color);\n",
              "    }\n",
              "  }\n",
              "</style>\n",
              "\n",
              "  <script>\n",
              "    async function quickchart(key) {\n",
              "      const quickchartButtonEl =\n",
              "        document.querySelector('#' + key + ' button');\n",
              "      quickchartButtonEl.disabled = true;  // To prevent multiple clicks.\n",
              "      quickchartButtonEl.classList.add('colab-df-spinner');\n",
              "      try {\n",
              "        const charts = await google.colab.kernel.invokeFunction(\n",
              "            'suggestCharts', [key], {});\n",
              "      } catch (error) {\n",
              "        console.error('Error during call to suggestCharts:', error);\n",
              "      }\n",
              "      quickchartButtonEl.classList.remove('colab-df-spinner');\n",
              "      quickchartButtonEl.classList.add('colab-df-quickchart-complete');\n",
              "    }\n",
              "    (() => {\n",
              "      let quickchartButtonEl =\n",
              "        document.querySelector('#df-df395a59-4033-4021-a412-17507699a8a3 button');\n",
              "      quickchartButtonEl.style.display =\n",
              "        google.colab.kernel.accessAllowed ? 'block' : 'none';\n",
              "    })();\n",
              "  </script>\n",
              "</div>\n",
              "\n",
              "    </div>\n",
              "  </div>\n"
            ],
            "application/vnd.google.colaboratory.intrinsic+json": {
              "type": "dataframe",
              "variable_name": "stock_movement"
            }
          },
          "metadata": {},
          "execution_count": 6
        }
      ]
    },
    {
      "cell_type": "markdown",
      "source": [
        "## Visualizing hierarchies"
      ],
      "metadata": {
        "id": "aj2028wSvsAr"
      }
    },
    {
      "cell_type": "markdown",
      "source": [
        "### Visualization communicates insight\n",
        "\n",
        "- **t-SNE (t-Distributed Stochastic Neighbor Embedding)**: Create a 2D map of a dataset\n",
        "    - Conveys useful imformation about the proximity of the samples to one anther\n",
        "- **Hierarchical clustering**: Arranges samples into a hierarchy of clusters"
      ],
      "metadata": {
        "id": "gkazIwozRecf"
      }
    },
    {
      "cell_type": "markdown",
      "source": [
        "### A hierarchy of groups\n",
        "\n",
        "- Groups of living things can form a hierarchy\n",
        "- Clusters are contained in one another\n",
        "- Can organize any sort of data into a hierarchy (not just samples plants and animals)"
      ],
      "metadata": {
        "id": "TFRn6nenSem6"
      }
    },
    {
      "cell_type": "markdown",
      "source": [
        "### Eurovision scoring\n",
        "\n",
        "- Countries gave scores to songs performed at the Eurovision 2016\n",
        "- 2D array of scores"
      ],
      "metadata": {
        "id": "Zbqwf3QAUhf5"
      }
    },
    {
      "cell_type": "markdown",
      "source": [
        "### Dendogram\n",
        "\n",
        "- Hierarchical clustering of voting customers\n",
        "\n",
        "<img src='https://drive.google.com/uc?export=view&id=1o7KutSR-JCkQEFJWb2iRoQE_8a9JGKPp'/>\n"
      ],
      "metadata": {
        "id": "95auJjmwXbHq"
      }
    },
    {
      "cell_type": "markdown",
      "source": [
        "### How does hierarchical clustering work?\n",
        "\n",
        "- Every country begins in a separate cluster\n",
        "- At each step, the two closest clusters are merged\n",
        "- Continue until all countries in a single cluster\n",
        "- This is called **agglomerative heirarchical clustering**\n",
        "- The entire process of the clustering is encoded in the dendogram\n",
        "    - At the bottom, each country is in a cluster of its own\n",
        "    - The clustering then proceeds from the bottom up\n",
        "    - Clusters are represented as vertical lines, and joining of vertical lines indicates a merging of clusters"
      ],
      "metadata": {
        "id": "3P3fRYarYr7F"
      }
    },
    {
      "cell_type": "markdown",
      "source": [
        "### Hierarchial clustering with `scipy`\n",
        "\n",
        "- Given `samples` (the array of scores), and `country_names`\n",
        "\n",
        "```python\n",
        "import matplotlib.pyplot as plt\n",
        "from scipy.cluster.hierarchy import linkage, dendogram\n",
        "\n",
        "# the linkage functionm performs the hierarchical clustering\n",
        "mergings = linkage(samples, method='complete')\n",
        "\n",
        "dendogram(mergings,\n",
        "          labels=country_names,\n",
        "          leaf_rotation=90,\n",
        "          leaf_font_size=6)\n",
        "          \n",
        "plt.show()\n",
        "```"
      ],
      "metadata": {
        "id": "ocrs_hBGaR-p"
      }
    },
    {
      "cell_type": "markdown",
      "source": [
        "### How many merges?\n",
        "\n",
        "- With $n$ data samples, there would be $n - 1$ merges."
      ],
      "metadata": {
        "id": "R1cz7CIxb3Wo"
      }
    },
    {
      "cell_type": "markdown",
      "source": [
        "## Understanding mergings\n",
        "\n",
        "The `mergings` array has shape $(n - 1, 4)$ where $n$ is the number of original data points in `samples`\n",
        "\n",
        "- Column 0: Index of the first cluster being merged\n",
        "- Column 1: Index of the second cluster being merged\n",
        "- Column 2: Distance (linkage criterion) between the two merged clusters\n",
        "- Column 3: Number of original samples (data points) contained in the new cluster after merging"
      ],
      "metadata": {
        "id": "egHCajZOeg61"
      }
    },
    {
      "cell_type": "code",
      "source": [
        "# Example data (4 samples with 2 features each)\n",
        "samples = np.array([\n",
        "    [1.0, 2.0], # Index 0\n",
        "    [1.5, 1.8], # Index 1\n",
        "    [5.0, 8.0], # Index 2\n",
        "    [8.0, 8.0]  # Index 3\n",
        "])\n",
        "\n",
        "mergings = linkage(samples, method='complete')\n",
        "mergings"
      ],
      "metadata": {
        "colab": {
          "base_uri": "https://localhost:8080/"
        },
        "id": "DU97a6iChNvm",
        "outputId": "fa5c6d1f-dc56-4b92-b9b9-03f802714b4b"
      },
      "execution_count": 7,
      "outputs": [
        {
          "output_type": "execute_result",
          "data": {
            "text/plain": [
              "array([[0.        , 1.        , 0.53851648, 2.        ],\n",
              "       [2.        , 3.        , 3.        , 2.        ],\n",
              "       [4.        , 5.        , 9.21954446, 4.        ]])"
            ]
          },
          "metadata": {},
          "execution_count": 7
        }
      ]
    },
    {
      "cell_type": "code",
      "source": [
        "col0 = samples[0]\n",
        "col1 = samples[1]\n",
        "col2 = samples[2]\n",
        "col3 = samples[3]\n",
        "\n",
        "# Eucliean distance\n",
        "np.linalg.norm(col0 - col1), np.linalg.norm(col2 - col3)"
      ],
      "metadata": {
        "colab": {
          "base_uri": "https://localhost:8080/"
        },
        "id": "cD5ay0esjiIr",
        "outputId": "cbfee85a-39d6-48fa-cbf5-ca4b1d5d9466"
      },
      "execution_count": 8,
      "outputs": [
        {
          "output_type": "execute_result",
          "data": {
            "text/plain": [
              "(0.5385164807134504, 3.0)"
            ]
          },
          "metadata": {},
          "execution_count": 8
        }
      ]
    },
    {
      "cell_type": "code",
      "source": [
        "cluster4 = samples[0:2]\n",
        "cluster5 = samples[2:]\n",
        "cluster4, cluster5"
      ],
      "metadata": {
        "colab": {
          "base_uri": "https://localhost:8080/"
        },
        "id": "HYbNP8tmlVQU",
        "outputId": "c0845dc0-9200-4cbc-f376-9a417effdfa3"
      },
      "execution_count": 9,
      "outputs": [
        {
          "output_type": "execute_result",
          "data": {
            "text/plain": [
              "(array([[1. , 2. ],\n",
              "        [1.5, 1.8]]),\n",
              " array([[5., 8.],\n",
              "        [8., 8.]]))"
            ]
          },
          "metadata": {},
          "execution_count": 9
        }
      ]
    },
    {
      "cell_type": "code",
      "source": [
        "distance_a1 = np.linalg.norm(cluster4[0] - cluster5[0])\n",
        "distance_a2 = np.linalg.norm(cluster4[0] - cluster5[1])\n",
        "distance_b1 = np.linalg.norm(cluster4[1] - cluster5[0])\n",
        "distance_b2 = np.linalg.norm(cluster4[1] - cluster5[1])\n",
        "distance_a1, distance_a2, distance_b1, distance_b2"
      ],
      "metadata": {
        "colab": {
          "base_uri": "https://localhost:8080/"
        },
        "id": "KMuWIhw1nyOl",
        "outputId": "65eb6c13-0e7f-45d3-db6e-f111eecc02c7"
      },
      "execution_count": 10,
      "outputs": [
        {
          "output_type": "execute_result",
          "data": {
            "text/plain": [
              "(7.211102550927978, 9.219544457292887, 7.119691004531026, 8.98276126811795)"
            ]
          },
          "metadata": {},
          "execution_count": 10
        }
      ]
    },
    {
      "cell_type": "code",
      "source": [
        "np.max([distance_a1, distance_a2, distance_b1, distance_b2])"
      ],
      "metadata": {
        "colab": {
          "base_uri": "https://localhost:8080/"
        },
        "id": "ibXpy-NtozsO",
        "outputId": "388bf373-714d-4c93-cf7b-829cea21ac6a"
      },
      "execution_count": 11,
      "outputs": [
        {
          "output_type": "execute_result",
          "data": {
            "text/plain": [
              "9.219544457292887"
            ]
          },
          "metadata": {},
          "execution_count": 11
        }
      ]
    },
    {
      "cell_type": "code",
      "source": [
        "# Loop over each point in cluster4\n",
        "distance_matrix = []\n",
        "for a in cluster4:\n",
        "    row_distances = []  # Store distances for this row\n",
        "    for b in cluster5:\n",
        "        distance = np.linalg.norm(a - b)  # Compute Euclidean distance\n",
        "        row_distances.append(distance)   # Append distance to row\n",
        "    distance_matrix.append(row_distances)  # Append row to matrix\n",
        "\n",
        "# Convert list of lists to NumPy array\n",
        "distances = np.array(distance_matrix)\n",
        "\n",
        "# Compute Complete Linkage distance (maximum distance in matrix)\n",
        "max_distance = np.max(distances)\n",
        "\n",
        "# Print results\n",
        "print(\"Pairwise Distance Matrix:\\n\", distances)\n",
        "print(\"Complete Linkage Distance:\", max_distance)"
      ],
      "metadata": {
        "colab": {
          "base_uri": "https://localhost:8080/"
        },
        "id": "iOsF5GEdltSk",
        "outputId": "693b00fd-7758-458b-c9d2-403b8e03cb78"
      },
      "execution_count": 12,
      "outputs": [
        {
          "output_type": "stream",
          "name": "stdout",
          "text": [
            "Pairwise Distance Matrix:\n",
            " [[7.21110255 9.21954446]\n",
            " [7.119691   8.98276127]]\n",
            "Complete Linkage Distance: 9.219544457292887\n"
          ]
        }
      ]
    },
    {
      "cell_type": "code",
      "source": [
        "distances = np.array([[np.linalg.norm(a - b) for b in cluster5] for a in cluster4])\n",
        "distances, np.max(distances)"
      ],
      "metadata": {
        "colab": {
          "base_uri": "https://localhost:8080/"
        },
        "id": "7CgZ3rivo8SB",
        "outputId": "c17e7878-63d1-425e-c83b-cc5ba80c7220"
      },
      "execution_count": 13,
      "outputs": [
        {
          "output_type": "execute_result",
          "data": {
            "text/plain": [
              "(array([[7.21110255, 9.21954446],\n",
              "        [7.119691  , 8.98276127]]),\n",
              " 9.219544457292887)"
            ]
          },
          "metadata": {},
          "execution_count": 13
        }
      ]
    },
    {
      "cell_type": "code",
      "source": [
        "dendrogram(mergings,\n",
        "           labels=[0, 1, 2, 3],\n",
        "           leaf_rotation=0,\n",
        "           leaf_font_size=12)\n",
        "\n",
        "plt.ylabel('Distances')\n",
        "plt.xlabel('Sample Index')\n",
        "plt.show()"
      ],
      "metadata": {
        "colab": {
          "base_uri": "https://localhost:8080/",
          "height": 453
        },
        "id": "v9wpMU1xpbl6",
        "outputId": "f273b41a-7be6-4717-a1d4-274bdd4f1c12"
      },
      "execution_count": 14,
      "outputs": [
        {
          "output_type": "display_data",
          "data": {
            "text/plain": [
              "<Figure size 640x480 with 1 Axes>"
            ],
            "image/png": "[encoded data removed]"
          },
          "metadata": {}
        }
      ]
    },
    {
      "cell_type": "markdown",
      "source": [
        "- For the indices, the numbers from $0$ to $n - 1$ correspond to the rows in `samples`\n",
        "- New clusters are assigned starting at $n$, then $n + 1$, etc.\n",
        "- This continues until all data points are merged into **one final cluster**"
      ],
      "metadata": {
        "id": "lMqk0hKSiO_z"
      }
    },
    {
      "cell_type": "markdown",
      "source": [
        "### Hierarchical clustering of grain data"
      ],
      "metadata": {
        "id": "avOYPkK8csIJ"
      }
    },
    {
      "cell_type": "code",
      "source": [
        "X = seeds.iloc[:, 0:-1].to_numpy()\n",
        "y = seeds.iloc[:, -1].to_numpy()\n",
        "X.shape, y.shape"
      ],
      "metadata": {
        "colab": {
          "base_uri": "https://localhost:8080/"
        },
        "id": "ob7j3Wbpcyvd",
        "outputId": "b8fe5e95-144f-4425-8820-0ad5d6aea883"
      },
      "execution_count": 15,
      "outputs": [
        {
          "output_type": "execute_result",
          "data": {
            "text/plain": [
              "((210, 7), (210,))"
            ]
          },
          "metadata": {},
          "execution_count": 15
        }
      ]
    },
    {
      "cell_type": "code",
      "source": [
        "# easier to view a dendogram with less data\n",
        "_, samples, _, varieties = train_test_split(X, y, test_size=0.2, random_state=42, stratify=y)\n",
        "samples.shape, varieties.shape"
      ],
      "metadata": {
        "colab": {
          "base_uri": "https://localhost:8080/"
        },
        "id": "_GbgMsY2sL4D",
        "outputId": "9adca0c5-02e0-4870-e055-c0468f7a4b77"
      },
      "execution_count": 16,
      "outputs": [
        {
          "output_type": "execute_result",
          "data": {
            "text/plain": [
              "((42, 7), (42,))"
            ]
          },
          "metadata": {},
          "execution_count": 16
        }
      ]
    },
    {
      "cell_type": "code",
      "source": [
        "mapping = {1: 'Kama wheat', 2: 'Rosa wheat', 3: 'Canadian wheat'}\n",
        "\n",
        "varieties = np.vectorize(mapping.get)(varieties)\n",
        "varieties"
      ],
      "metadata": {
        "colab": {
          "base_uri": "https://localhost:8080/"
        },
        "id": "KJ2epB7zr91m",
        "outputId": "be2521ea-3e24-4987-fde3-f3f5652fc830"
      },
      "execution_count": 17,
      "outputs": [
        {
          "output_type": "execute_result",
          "data": {
            "text/plain": [
              "array(['Kama wheat', 'Canadian wheat', 'Rosa wheat', 'Canadian wheat',\n",
              "       'Rosa wheat', 'Canadian wheat', 'Rosa wheat', 'Kama wheat',\n",
              "       'Rosa wheat', 'Rosa wheat', 'Kama wheat', 'Canadian wheat',\n",
              "       'Rosa wheat', 'Rosa wheat', 'Canadian wheat', 'Kama wheat',\n",
              "       'Canadian wheat', 'Kama wheat', 'Canadian wheat', 'Kama wheat',\n",
              "       'Kama wheat', 'Canadian wheat', 'Rosa wheat', 'Kama wheat',\n",
              "       'Rosa wheat', 'Kama wheat', 'Kama wheat', 'Kama wheat',\n",
              "       'Canadian wheat', 'Kama wheat', 'Canadian wheat', 'Rosa wheat',\n",
              "       'Kama wheat', 'Canadian wheat', 'Canadian wheat', 'Rosa wheat',\n",
              "       'Rosa wheat', 'Rosa wheat', 'Canadian wheat', 'Kama wheat',\n",
              "       'Canadian wheat', 'Rosa wheat'], dtype='<U14')"
            ]
          },
          "metadata": {},
          "execution_count": 17
        }
      ]
    },
    {
      "cell_type": "code",
      "source": [
        "mergings = linkage(samples, method='complete')\n",
        "type(mergings), mergings.shape"
      ],
      "metadata": {
        "colab": {
          "base_uri": "https://localhost:8080/"
        },
        "id": "ZX4Zbtr4dspK",
        "outputId": "545f03b0-721b-42c3-ca23-9fe12ba7e3e9"
      },
      "execution_count": 18,
      "outputs": [
        {
          "output_type": "execute_result",
          "data": {
            "text/plain": [
              "(numpy.ndarray, (41, 4))"
            ]
          },
          "metadata": {},
          "execution_count": 18
        }
      ]
    },
    {
      "cell_type": "code",
      "source": [
        "plt.figure(figsize=(20, 20))\n",
        "\n",
        "dendrogram(\n",
        "    mergings,\n",
        "    labels=varieties,\n",
        "    leaf_rotation=90,\n",
        "    leaf_font_size=12\n",
        ")\n",
        "\n",
        "plt.show()"
      ],
      "metadata": {
        "colab": {
          "base_uri": "https://localhost:8080/",
          "height": 1000
        },
        "id": "pIbJX59PqRxZ",
        "outputId": "27e57f77-c2d3-49df-b472-eb654bddb454"
      },
      "execution_count": 19,
      "outputs": [
        {
          "output_type": "display_data",
          "data": {
            "text/plain": [
              "<Figure size 2000x2000 with 1 Axes>"
            ],
            "image/png": "[encoded data removed]"
          },
          "metadata": {}
        }
      ]
    },
    {
      "cell_type": "markdown",
      "source": [
        "### Hierarchies of stocks"
      ],
      "metadata": {
        "id": "d1UfAGKCvJub"
      }
    },
    {
      "cell_type": "code",
      "source": [
        "movements = stock_movement.iloc[:, 1:].to_numpy()\n",
        "companies = stock_movement['Company'].to_numpy()\n",
        "movements.shape, companies.shape"
      ],
      "metadata": {
        "colab": {
          "base_uri": "https://localhost:8080/"
        },
        "id": "jmls6mQTvwUS",
        "outputId": "56017796-be20-4606-bf44-7e32945f246f"
      },
      "execution_count": 20,
      "outputs": [
        {
          "output_type": "execute_result",
          "data": {
            "text/plain": [
              "((60, 963), (60,))"
            ]
          },
          "metadata": {},
          "execution_count": 20
        }
      ]
    },
    {
      "cell_type": "code",
      "source": [
        "my_normalizer = Normalizer()\n",
        "test = my_normalizer.fit_transform(movements)\n",
        "test"
      ],
      "metadata": {
        "colab": {
          "base_uri": "https://localhost:8080/"
        },
        "id": "pu4kg6hivxs3",
        "outputId": "e60c6c89-1a55-4326-cc77-499454ab6bd3"
      },
      "execution_count": 21,
      "outputs": [
        {
          "output_type": "execute_result",
          "data": {
            "text/plain": [
              "array([[ 0.00302051, -0.00114574, -0.01775851, ..., -0.02791349,\n",
              "         0.00437463, -0.10202026],\n",
              "       [-0.02599391, -0.02639998, -0.00852927, ..., -0.00162466,\n",
              "        -0.01624623,  0.02680614],\n",
              "       [-0.02208986,  0.01184398, -0.02208986, ...,  0.04502568,\n",
              "        -0.01654394,  0.03515588],\n",
              "       ...,\n",
              "       [ 0.01981027,  0.01059598,  0.02626006, ..., -0.01197837,\n",
              "         0.01842816,  0.02211388],\n",
              "       [ 0.0200991 ,  0.00223323, -0.01786587, ..., -0.0066997 ,\n",
              "         0.00446647, -0.0066997 ],\n",
              "       [ 0.01796837,  0.00112314,  0.        , ..., -0.00673829,\n",
              "         0.02919855,  0.01123007]])"
            ]
          },
          "metadata": {},
          "execution_count": 21
        }
      ]
    },
    {
      "cell_type": "code",
      "source": [
        "normalized_movements = normalize(movements)\n",
        "normalized_movements"
      ],
      "metadata": {
        "colab": {
          "base_uri": "https://localhost:8080/"
        },
        "id": "ZURZNs_hw9Hq",
        "outputId": "a5b8c339-1fca-43a0-d2ff-417ac9f53f74"
      },
      "execution_count": 22,
      "outputs": [
        {
          "output_type": "execute_result",
          "data": {
            "text/plain": [
              "array([[ 0.00302051, -0.00114574, -0.01775851, ..., -0.02791349,\n",
              "         0.00437463, -0.10202026],\n",
              "       [-0.02599391, -0.02639998, -0.00852927, ..., -0.00162466,\n",
              "        -0.01624623,  0.02680614],\n",
              "       [-0.02208986,  0.01184398, -0.02208986, ...,  0.04502568,\n",
              "        -0.01654394,  0.03515588],\n",
              "       ...,\n",
              "       [ 0.01981027,  0.01059598,  0.02626006, ..., -0.01197837,\n",
              "         0.01842816,  0.02211388],\n",
              "       [ 0.0200991 ,  0.00223323, -0.01786587, ..., -0.0066997 ,\n",
              "         0.00446647, -0.0066997 ],\n",
              "       [ 0.01796837,  0.00112314,  0.        , ..., -0.00673829,\n",
              "         0.02919855,  0.01123007]])"
            ]
          },
          "metadata": {},
          "execution_count": 22
        }
      ]
    },
    {
      "cell_type": "code",
      "source": [
        "# the normalize method is more convenient than\n",
        "#. creating your own Normalizer\n",
        "np.sum(test - normalized_movements)"
      ],
      "metadata": {
        "colab": {
          "base_uri": "https://localhost:8080/"
        },
        "id": "9ndkaHcUxD0w",
        "outputId": "a8b183cb-7fdb-489b-9e33-ea3921d896f4"
      },
      "execution_count": 23,
      "outputs": [
        {
          "output_type": "execute_result",
          "data": {
            "text/plain": [
              "0.0"
            ]
          },
          "metadata": {},
          "execution_count": 23
        }
      ]
    },
    {
      "cell_type": "code",
      "source": [
        "mergings = linkage(normalized_movements, method='complete')"
      ],
      "metadata": {
        "id": "Fwz-4kzTx_0B"
      },
      "execution_count": 24,
      "outputs": []
    },
    {
      "cell_type": "code",
      "source": [
        "plt.figure(figsize=(16, 16))\n",
        "\n",
        "dendrogram(\n",
        "    mergings,\n",
        "    labels=companies,\n",
        "    leaf_rotation=90,\n",
        "    leaf_font_size=12\n",
        ")\n",
        "\n",
        "plt.show()"
      ],
      "metadata": {
        "colab": {
          "base_uri": "https://localhost:8080/",
          "height": 1000
        },
        "id": "71KHltmVyjAF",
        "outputId": "b6e6d338-d0c0-498c-8ee5-6146c529d139"
      },
      "execution_count": 25,
      "outputs": [
        {
          "output_type": "display_data",
          "data": {
            "text/plain": [
              "<Figure size 1600x1600 with 1 Axes>"
            ],
            "image/png": "[encoded data removed]"
          },
          "metadata": {}
        }
      ]
    },
    {
      "cell_type": "markdown",
      "source": [
        "## Cluster labels in heirarchical clustering\n",
        "\n",
        "- Not only a visualization tool\n",
        "- Cluster labels at any intermediate stage can be recovered\n",
        "    - Can be used, as an example, in **cross-tabulations**"
      ],
      "metadata": {
        "id": "cMggNQBest0p"
      }
    },
    {
      "cell_type": "markdown",
      "source": [
        "### Intermediate clustering and height on dendrogram\n",
        "\n",
        "<img src='https://drive.google.com/uc?export=view&id=1SMNH373j2aN8o_Gi8l3p583LLdifqpBJ'/>\n",
        "\n",
        "At hieght 15:\n",
        "\n",
        "- Bulgaria, Cyprus and Greece are one cluster\n",
        "- Armenia is in a cluster of it's own\n",
        "- Moldova and Russia are in another cluster\n",
        "- The height on a dendogram is the distance between merging clusters\n",
        "    - Example: The cluster that contains only Cyprus and Greece has a height of about 7, so the distance betwen Cyrpus and Greece is about 7.\n",
        "    - Note that this height is the maximum distance between merging clusters"
      ],
      "metadata": {
        "id": "Mc4JIXtXtHUu"
      }
    },
    {
      "cell_type": "markdown",
      "source": [
        "### Distance between clusters\n",
        "\n",
        "- Defined by a **linkage method**\n",
        "- In our example, we used \"complete\" linkage where the distance between clusters is the maximimum distance between their samples\n",
        "    - Different linkage methods result in different hierarchical clustering\n",
        "    - In \"single\" linkage, the distance between clusters is the minimum distance"
      ],
      "metadata": {
        "id": "Edg5Vu3OwezR"
      }
    },
    {
      "cell_type": "markdown",
      "source": [
        "### Extracting cluster labels\n",
        "\n",
        "- Use the `fcluster()` function\n",
        "\n",
        "```python\n",
        "from scipy.cluster.heirarchy imprt lingake, fcluster\n",
        "\n",
        "mergings = linkage(samples, method='complete')\n",
        "labels = fcluster(mergings, 15, criterion='distance')\n",
        "print(labels)\n",
        "```"
      ],
      "metadata": {
        "id": "FkypRCc5xU5s"
      }
    },
    {
      "cell_type": "markdown",
      "source": [
        "### Aligning cluster labels with country names\n",
        "\n",
        "```python\n",
        "pairs = pd.DataFrame({'labels': labels, 'countries': country_names})\n",
        "\n",
        "print(pairs.sort_values('labels'))\n",
        "```"
      ],
      "metadata": {
        "id": "UHnULAn0yUIV"
      }
    },
    {
      "cell_type": "markdown",
      "source": [
        "### Different linkage, different hierarchical clustering"
      ],
      "metadata": {
        "id": "TfzbmbCS0dhL"
      }
    },
    {
      "cell_type": "code",
      "source": [
        "samples = np.array([\n",
        "[ 2., 12.,  0.,  0.,  0.,  8.,  0.,  0.,  0.,  0.,  0.,  0.,  1.,  0., 10.,  0.,  4.,  0.,\n",
        "  5.,  7.,  0.,  0.,  3.,  0.,  6.,  0.] ,\n",
        "[12.,  0.,  4.,  0.,  0.,  0.,  0.,  6.,  0.,  7.,  8.,  0.,  3.,  0.,  0.,  0.,  0.,  5.,\n",
        "  1., 12.,  0.,  0.,  2.,  0., 10.,  0.] ,\n",
        "[ 0., 12.,  3.,  0., 12., 10.,  0.,  0.,  0.,  7.,  0.,  0.,  0.,  0.,  0.,  0.,  1.,  6.,\n",
        "  0.,  5.,  0.,  2.,  0.,  0.,  8.,  4.] ,\n",
        "[ 0.,  3., 12.,  0.,  0.,  5.,  0.,  0.,  0.,  1.,  0.,  2.,  0.,  0.,  0.,  0.,  0.,  0.,\n",
        " 12.,  8.,  4.,  0.,  7.,  6., 10.,  0.] ,\n",
        "[ 0.,  2.,  0., 12.,  0.,  8.,  0.,  0.,  0.,  4.,  1.,  0.,  7.,  6.,  0.,  0.,  0.,  5.,\n",
        "  3., 12.,  0.,  0.,  0.,  0., 10.,  0.] ,\n",
        "[ 7.,  1.,  0.,  8.,  0.,  4.,  0.,  0.,  0.,  0.,  0.,  0.,  3.,  0.,  0.,  5.,  0.,  0.,\n",
        "  6., 12.,  0.,  0.,  2.,  0., 10.,  0.] ,\n",
        "[ 7.,  4.,  3.,  0., 12.,  5.,  0.,  0.,  0.,  8.,  0.,  0.,  0.,  0.,  0.,  0.,  0.,  0.,\n",
        " 12.,  6.,  0.,  0.,  1., 10.,  2.,  0.] ,\n",
        "[ 0.,  3.,  5.,  8.,  0.,  2., 10.,  0.,  0.,  4.,  0.,  0.,  1.,  0.,  0.,  0.,  0.,  0.,\n",
        "  0.,  6., 12.,  0.,  0.,  0.,  7.,  0.] ,\n",
        "[ 8.,  5.,  4.,  1.,  0., 12.,  0.,  7.,  0.,  0.,  0.,  0.,  0.,  2.,  0.,  0.,  0.,  0.,\n",
        "  6., 12.,  0.,  0.,  3.,  0., 10.,  0.] ,\n",
        "[ 0.,  5.,  6.,  0.,  0.,  1., 12.,  0.,  0.,  2.,  0.,  0.,  3.,  0.,  0.,  0.,  0.,  0.,\n",
        "  4.,  8., 12.,  0.,  7.,  0., 10.,  0.] ,\n",
        "[ 8.,  5.,  0.,  0.,  0., 12.,  0., 12.,  0.,  6.,  0.,  0.,  4.,  0.,  0.,  0.,  3.,  0.,\n",
        "  2., 10.,  0.,  0.,  1.,  0.,  7.,  0.] ,\n",
        "[ 8.,  1.,  4.,  6.,  0.,  5.,  0.,  0., 12.,  0.,  0.,  0.,  3.,  0.,  0.,  0.,  0.,  0.,\n",
        "  7., 10.,  0.,  0.,  2.,  0., 12.,  0.] ,\n",
        "[ 0., 10.,  1.,  0.,  8.,  0.,  0.,  0.,  0.,  2.,  0.,  0.,  0.,  0.,  0.,  0.,  6.,  0.,\n",
        "  5.,  4.,  0.,  0., 12.,  7.,  3.,  0.] ,\n",
        "[ 0.,  4.,  6.,  0.,  0.,  0.,  0.,  3.,  0.,  2.,  0.,  0.,  0.,  0.,  0.,  7.,  5.,  0.,\n",
        "  1., 12.,  0.,  0., 10.,  0.,  8.,  0.] ,\n",
        "[ 7.,  3.,  0.,  0.,  4., 10.,  5.,  0.,  0.,  0.,  0.,  0.,  0.,  0.,  1.,  0.,  0.,  0.,\n",
        "  2.,  8., 12.,  0.,  0.,  0.,  6.,  0.] ,\n",
        "[ 0.,  7.,  6.,  0.,  0.,  4.,  0.,  1.,  0.,  3.,  0.,  0.,  0.,  0.,  0.,  2.,  0.,  0.,\n",
        "  5.,  8.,  0.,  0., 10.,  0., 12.,  0.] ,\n",
        "[12.,  0.,  8.,  0.,  4.,  5.,  0.,  0.,  0., 12.,  0.,  0.,  0.,  3.,  0.,  0.,  0.,  0.,\n",
        "  7.,  6.,  0.,  1.,  2.,  0., 10.,  0.] ,\n",
        "[12.,  1.,  0.,  7.,  0.,  3.,  0.,  0.,  0.,  0., 12.,  0.,  2.,  0.,  0.,  6.,  5.,  0.,\n",
        "  4.,  8.,  0.,  0.,  0.,  0., 10.,  0.] ,\n",
        "[ 2.,  5.,  7.,  0.,  0.,  4.,  0.,  0.,  0.,  0.,  0., 12.,  0.,  0.,  1.,  0.,  0.,  0.,\n",
        " 10., 12.,  0.,  0.,  8.,  3.,  6.,  0.] ,\n",
        "[ 8.,  5.,  1.,  0.,  0.,  7.,  0., 12.,  0.,  4.,  0.,  0.,  2.,  0.,  0.,  0.,  0.,  0.,\n",
        "  3., 10.,  0.,  0.,  0.,  0.,  6.,  0.] ,\n",
        "[ 0.,  3.,  6.,  0.,  0.,  4.,  0.,  5.,  0.,  1.,  0.,  0., 12.,  0.,  0.,  0.,  0.,  0.,\n",
        "  8., 10.,  0.,  0.,  7.,  2., 12.,  0.] ,\n",
        "[ 0.,  8.,  2.,  1.,  3.,  0.,  0.,  0.,  0.,  5.,  0.,  0.,  0.,  0.,  0.,  0.,  4.,  0.,\n",
        " 10.,  7.,  0.,  0., 12.,  6.,  0.,  0.] ,\n",
        "[ 0.,  6.,  1.,  0.,  0.,  5.,  0.,  0.,  0.,  0.,  0.,  0.,  0.,  0.,  0.,  7., 12.,  0.,\n",
        " 10.,  8.,  0.,  0.,  2.,  0.,  4.,  3.] ,\n",
        "[ 6.,  5.,  3.,  2.,  1.,  7.,  0.,  0.,  0., 12.,  0.,  0.,  0., 12.,  0.,  0.,  0.,  0.,\n",
        "  4., 10.,  0.,  0.,  0.,  0.,  8.,  0.] ,\n",
        "[ 1.,  0.,  0.,  0.,  0.,  7.,  0.,  6.,  0.,  5.,  3.,  0.,  0.,  0., 12.,  0.,  2.,  0.,\n",
        " 10.,  8.,  4.,  0.,  0.,  0., 12.,  0.] ,\n",
        "[ 0.,  6.,  4.,  3.,  0.,  1.,  0.,  0.,  0.,  0.,  2.,  0.,  0.,  0.,  0., 12.,  8.,  0.,\n",
        "  5., 12.,  0.,  0.,  7.,  0., 10.,  0.] ,\n",
        "[ 0.,  5.,  1.,  0.,  0.,  0.,  0.,  0.,  0.,  3.,  4.,  0.,  2.,  0.,  0., 12., 12.,  0.,\n",
        "  6.,  8.,  0.,  0.,  7.,  0., 10.,  0.] ,\n",
        "[ 0., 12.,  0.,  6.,  0.,  8.,  0.,  0.,  0.,  2.,  0.,  0.,  5.,  0.,  7.,  0.,  0., 12.,\n",
        "  0., 10.,  0.,  0.,  0.,  3.,  4.,  1.] ,\n",
        "[ 7.,  5.,  4.,  8.,  0.,  2.,  0.,  0.,  0.,  6.,  0.,  0.,  0.,  0.,  0.,  1.,  3.,  0.,\n",
        "  0., 12.,  0.,  0.,  0.,  0., 10.,  0.] ,\n",
        "[ 0.,  0.,  0.,  7.,  0.,  5.,  6.,  0.,  0.,  1.,  0.,  0.,  3.,  0.,  4.,  0.,  2.,  0.,\n",
        "  0., 10., 12.,  0.,  0.,  0.,  8.,  0.] ,\n",
        "[ 0.,  8.,  0.,  0.,  2.,  5.,  0.,  0.,  0.,  1.,  0.,  0.,  0.,  0.,  0.,  3., 12.,  0.,\n",
        " 10.,  6.,  0.,  0.,  7.,  0.,  4.,  0.] ,\n",
        "[ 2.,  7.,  4.,  0.,  0.,  3.,  0.,  1.,  0.,  0.,  0.,  0.,  6.,  0.,  0.,  5.,  0.,  0.,\n",
        " 12.,  8.,  0.,  0., 10.,  0., 12.,  0.] ,\n",
        "[12.,  4.,  8.,  6.,  0.,  0.,  0.,  7.,  0.,  3.,  0.,  0.,  0.,  0.,  0.,  1.,  0.,  0.,\n",
        "  5., 12.,  0.,  0.,  2.,  0., 10.,  0.] ,\n",
        "[ 2.,  5.,  0.,  0.,  0.,  3.,  0.,  0.,  0.,  0.,  0.,  0.,  1.,  0.,  0.,  6.,  8.,  0.,\n",
        "  7., 10.,  0.,  0.,  4.,  0., 12.,  0.] ,\n",
        "[ 2.,  6.,  0.,  0.,  5.,  8.,  4.,  3.,  0.,  0.,  0.,  0., 10.,  0.,  0.,  0.,  0.,  0.,\n",
        "  0., 12., 12.,  0.,  1.,  0.,  7.,  0.] ,\n",
        "[ 0.,  3.,  6.,  0.,  0.,  2.,  8.,  0.,  0.,  0.,  0.,  0.,  0.,  0.,  1.,  0.,  0.,  0.,\n",
        "  4., 10., 12.,  0.,  5.,  0.,  7.,  0.] ,\n",
        "[ 6.,  4.,  2.,  0.,  0., 12.,  0.,  0.,  0., 10.,  0.,  0.,  0.,  0.,  3.,  0.,  0.,  0.,\n",
        "  5.,  8.,  0., 12.,  1.,  0.,  7.,  0.] ,\n",
        "[ 0., 12.,  5.,  0.,  0.,  4.,  0.,  0.,  0.,  3.,  0.,  0.,  0.,  0.,  0.,  0.,  6.,  0.,\n",
        " 10.,  8.,  0.,  1., 12.,  2.,  7.,  0.] ,\n",
        "[ 0.,  1., 10.,  0.,  0.,  0.,  0.,  0.,  0.,  3.,  0.,  8.,  0.,  0.,  7.,  0.,  0.,  0.,\n",
        "  5.,  6., 12.,  2.,  0.,  0.,  4.,  0.] ,\n",
        "[ 8.,  5.,  6.,  0., 12.,  1.,  0.,  0.,  0.,  4.,  0.,  0.,  0.,  0.,  0.,  0.,  0.,  0.,\n",
        " 10.,  3.,  0.,  0.,  2., 12.,  7.,  0.] ,\n",
        "[ 7.,  4.,  0., 10.,  0.,  2.,  0.,  0.,  0.,  0.,  6.,  0.,  0.,  0.,  0.,  5.,  3.,  0.,\n",
        "  8., 12.,  0.,  0.,  1.,  0., 12.,  0.] ,\n",
        "[ 0.,  6.,  0.,  0.,  0.,  8.,  0.,  2.,  0.,  0.,  0.,  0.,  0.,  0.,  0.,  3., 12.,  0.,\n",
        " 10.,  7.,  0.,  4.,  1.,  0.,  5., 12.]])\n",
        "\n",
        "country_names = ['Albania', 'Armenia', 'Australia', 'Austria', 'Azerbaijan', 'Belarus', 'Belgium',\n",
        "                 'Bosnia & Herzegovina', 'Bulgaria', 'Croatia', 'Cyprus', 'Czech Republic', 'Denmark',\n",
        "                 'Estonia', 'F.Y.R. Macedonia', 'Finland', 'France', 'Georgia', 'Germany', 'Greece',\n",
        "                 'Hungary', 'Iceland', 'Ireland', 'Israel', 'Italy', 'Latvia', 'Lithuania', 'Malta',\n",
        "                 'Moldova', 'Montenegro', 'Norway', 'Poland', 'Russia', 'San Marino', 'Serbia',\n",
        "                 'Slovenia', 'Spain', 'Sweden', 'Switzerland', 'The Netherlands', 'Ukraine', 'United Kingdom']\n"
      ],
      "metadata": {
        "id": "IkzzPFMn0ixt"
      },
      "execution_count": 26,
      "outputs": []
    },
    {
      "cell_type": "code",
      "source": [
        "mergings_complete = linkage(samples, method='complete')\n",
        "mergings_single = linkage(samples, method='single')\n",
        "\n",
        "fig, axes = plt.subplots(1, 2, figsize=(16, 4))\n",
        "\n",
        "dendrogram(mergings_complete,\n",
        "           labels=country_names,\n",
        "           leaf_rotation=90,\n",
        "           leaf_font_size=6,\n",
        "           ax=axes[0]\n",
        "           )\n",
        "\n",
        "dendrogram(mergings_single,\n",
        "           labels=country_names,\n",
        "           leaf_rotation=90,\n",
        "           leaf_font_size=6,\n",
        "           ax=axes[1]\n",
        "           )\n",
        "\n",
        "plt.show()"
      ],
      "metadata": {
        "colab": {
          "base_uri": "https://localhost:8080/",
          "height": 432
        },
        "id": "QbSClQRB3uyR",
        "outputId": "a94a3919-1048-4dcb-f902-8a3d12f8e985"
      },
      "execution_count": 27,
      "outputs": [
        {
          "output_type": "display_data",
          "data": {
            "text/plain": [
              "<Figure size 1600x400 with 2 Axes>"
            ],
            "image/png": "[encoded data removed]"
          },
          "metadata": {}
        }
      ]
    },
    {
      "cell_type": "markdown",
      "source": [
        "### Extracting the cluster labels"
      ],
      "metadata": {
        "id": "HDm0oHn-7A7X"
      }
    },
    {
      "cell_type": "code",
      "source": [
        "X = seeds.iloc[:, 0:-1].to_numpy()\n",
        "y = seeds.iloc[:, -1].to_numpy()\n",
        "_, samples, _, varieties = train_test_split(X, y, test_size=0.2, random_state=42, stratify=y)\n",
        "mapping = {1: 'Kama wheat', 2: 'Rosa wheat', 3: 'Canadian wheat'}\n",
        "varieties = np.vectorize(mapping.get)(varieties)"
      ],
      "metadata": {
        "id": "pIlheWpv-SMC"
      },
      "execution_count": 28,
      "outputs": []
    },
    {
      "cell_type": "code",
      "source": [
        "mergings_complete = linkage(samples, method='complete')\n",
        "mergings_single = linkage(samples, method='single')\n",
        "\n",
        "fig, axes = plt.subplots(1, 2, figsize=(16, 4))\n",
        "\n",
        "dendrogram(mergings_complete,\n",
        "           labels=varieties,\n",
        "           leaf_rotation=90,\n",
        "           leaf_font_size=6,\n",
        "           ax=axes[0]\n",
        "           )\n",
        "\n",
        "dendrogram(mergings_single,\n",
        "           labels=varieties,\n",
        "           leaf_rotation=90,\n",
        "           leaf_font_size=6,\n",
        "           ax=axes[1]\n",
        "           )\n",
        "\n",
        "plt.show()"
      ],
      "metadata": {
        "colab": {
          "base_uri": "https://localhost:8080/",
          "height": 414
        },
        "id": "PSseskCq-r8_",
        "outputId": "2233b631-149d-41ad-e283-1be90c02efb9"
      },
      "execution_count": 29,
      "outputs": [
        {
          "output_type": "display_data",
          "data": {
            "text/plain": [
              "<Figure size 1600x400 with 2 Axes>"
            ],
            "image/png": "[encoded data removed]"
          },
          "metadata": {}
        }
      ]
    },
    {
      "cell_type": "code",
      "source": [
        "labels_complete = fcluster(mergings_complete, 6, criterion='distance')\n",
        "print(len(np.unique(labels_complete)))\n",
        "labels_complete"
      ],
      "metadata": {
        "colab": {
          "base_uri": "https://localhost:8080/"
        },
        "id": "l1GkihXn8VpT",
        "outputId": "0137b06f-8891-4c37-b96c-3b99011f4e6e"
      },
      "execution_count": 30,
      "outputs": [
        {
          "output_type": "stream",
          "name": "stdout",
          "text": [
            "4\n"
          ]
        },
        {
          "output_type": "execute_result",
          "data": {
            "text/plain": [
              "array([4, 3, 1, 3, 2, 3, 2, 1, 2, 2, 4, 3, 2, 2, 3, 4, 3, 4, 3, 1, 4, 3,\n",
              "       1, 4, 2, 4, 4, 4, 3, 4, 3, 2, 4, 4, 3, 2, 1, 2, 3, 1, 3, 2],\n",
              "      dtype=int32)"
            ]
          },
          "metadata": {},
          "execution_count": 30
        }
      ]
    },
    {
      "cell_type": "code",
      "source": [
        "df = pd.DataFrame({'labels': labels_complete, 'varieties': varieties})\n",
        "pd.crosstab(df['labels'], df['varieties'])"
      ],
      "metadata": {
        "colab": {
          "base_uri": "https://localhost:8080/",
          "height": 206
        },
        "id": "nXO550eD89Mk",
        "outputId": "342e505c-b80b-47d0-d879-ef4f2d1974b1"
      },
      "execution_count": 31,
      "outputs": [
        {
          "output_type": "execute_result",
          "data": {
            "text/plain": [
              "varieties  Canadian wheat  Kama wheat  Rosa wheat\n",
              "labels                                           \n",
              "1                       0           3           3\n",
              "2                       0           0          11\n",
              "3                      13           0           0\n",
              "4                       1          11           0"
            ],
            "text/html": [
              "\n",
              "  <div id=\"df-75306f73-866b-4c30-be65-545d9615602b\" class=\"colab-df-container\">\n",
              "    <div>\n",
              "<style scoped>\n",
              "    .dataframe tbody tr th:only-of-type {\n",
              "        vertical-align: middle;\n",
              "    }\n",
              "\n",
              "    .dataframe tbody tr th {\n",
              "        vertical-align: top;\n",
              "    }\n",
              "\n",
              "    .dataframe thead th {\n",
              "        text-align: right;\n",
              "    }\n",
              "</style>\n",
              "<table border=\"1\" class=\"dataframe\">\n",
              "  <thead>\n",
              "    <tr style=\"text-align: right;\">\n",
              "      <th>varieties</th>\n",
              "      <th>Canadian wheat</th>\n",
              "      <th>Kama wheat</th>\n",
              "      <th>Rosa wheat</th>\n",
              "    </tr>\n",
              "    <tr>\n",
              "      <th>labels</th>\n",
              "      <th></th>\n",
              "      <th></th>\n",
              "      <th></th>\n",
              "    </tr>\n",
              "  </thead>\n",
              "  <tbody>\n",
              "    <tr>\n",
              "      <th>1</th>\n",
              "      <td>0</td>\n",
              "      <td>3</td>\n",
              "      <td>3</td>\n",
              "    </tr>\n",
              "    <tr>\n",
              "      <th>2</th>\n",
              "      <td>0</td>\n",
              "      <td>0</td>\n",
              "      <td>11</td>\n",
              "    </tr>\n",
              "    <tr>\n",
              "      <th>3</th>\n",
              "      <td>13</td>\n",
              "      <td>0</td>\n",
              "      <td>0</td>\n",
              "    </tr>\n",
              "    <tr>\n",
              "      <th>4</th>\n",
              "      <td>1</td>\n",
              "      <td>11</td>\n",
              "      <td>0</td>\n",
              "    </tr>\n",
              "  </tbody>\n",
              "</table>\n",
              "</div>\n",
              "    <div class=\"colab-df-buttons\">\n",
              "\n",
              "  <div class=\"colab-df-container\">\n",
              "    <button class=\"colab-df-convert\" onclick=\"convertToInteractive('df-75306f73-866b-4c30-be65-545d9615602b')\"\n",
              "            title=\"Convert this dataframe to an interactive table.\"\n",
              "            style=\"display:none;\">\n",
              "\n",
              "  <svg xmlns=\"http://www.w3.org/2000/svg\" height=\"24px\" viewBox=\"0 -960 960 960\">\n",
              "    <path d=\"M120-120v-720h720v720H120Zm60-500h600v-160H180v160Zm220 220h160v-160H400v160Zm0 220h160v-160H400v160ZM180-400h160v-160H180v160Zm440 0h160v-160H620v160ZM180-180h160v-160H180v160Zm440 0h160v-160H620v160Z\"/>\n",
              "  </svg>\n",
              "    </button>\n",
              "\n",
              "  <style>\n",
              "    .colab-df-container {\n",
              "      display:flex;\n",
              "      gap: 12px;\n",
              "    }\n",
              "\n",
              "    .colab-df-convert {\n",
              "      background-color: #E8F0FE;\n",
              "      border: none;\n",
              "      border-radius: 50%;\n",
              "      cursor: pointer;\n",
              "      display: none;\n",
              "      fill: #1967D2;\n",
              "      height: 32px;\n",
              "      padding: 0 0 0 0;\n",
              "      width: 32px;\n",
              "    }\n",
              "\n",
              "    .colab-df-convert:hover {\n",
              "      background-color: #E2EBFA;\n",
              "      box-shadow: 0px 1px 2px rgba(60, 64, 67, 0.3), 0px 1px 3px 1px rgba(60, 64, 67, 0.15);\n",
              "      fill: #174EA6;\n",
              "    }\n",
              "\n",
              "    .colab-df-buttons div {\n",
              "      margin-bottom: 4px;\n",
              "    }\n",
              "\n",
              "    [theme=dark] .colab-df-convert {\n",
              "      background-color: #3B4455;\n",
              "      fill: #D2E3FC;\n",
              "    }\n",
              "\n",
              "    [theme=dark] .colab-df-convert:hover {\n",
              "      background-color: #434B5C;\n",
              "      box-shadow: 0px 1px 3px 1px rgba(0, 0, 0, 0.15);\n",
              "      filter: drop-shadow(0px 1px 2px rgba(0, 0, 0, 0.3));\n",
              "      fill: #FFFFFF;\n",
              "    }\n",
              "  </style>\n",
              "\n",
              "    <script>\n",
              "      const buttonEl =\n",
              "        document.querySelector('#df-75306f73-866b-4c30-be65-545d9615602b button.colab-df-convert');\n",
              "      buttonEl.style.display =\n",
              "        google.colab.kernel.accessAllowed ? 'block' : 'none';\n",
              "\n",
              "      async function convertToInteractive(key) {\n",
              "        const element = document.querySelector('#df-75306f73-866b-4c30-be65-545d9615602b');\n",
              "        const dataTable =\n",
              "          await google.colab.kernel.invokeFunction('convertToInteractive',\n",
              "                                                    [key], {});\n",
              "        if (!dataTable) return;\n",
              "\n",
              "        const docLinkHtml = 'Like what you see? Visit the ' +\n",
              "          '<a target=\"_blank\" href=https://colab.research.google.com/notebooks/data_table.ipynb>data table notebook</a>'\n",
              "          + ' to learn more about interactive tables.';\n",
              "        element.innerHTML = '';\n",
              "        dataTable['output_type'] = 'display_data';\n",
              "        await google.colab.output.renderOutput(dataTable, element);\n",
              "        const docLink = document.createElement('div');\n",
              "        docLink.innerHTML = docLinkHtml;\n",
              "        element.appendChild(docLink);\n",
              "      }\n",
              "    </script>\n",
              "  </div>\n",
              "\n",
              "\n",
              "<div id=\"df-df1790d1-ee1e-4554-b721-0ba2e8d5a635\">\n",
              "  <button class=\"colab-df-quickchart\" onclick=\"quickchart('df-df1790d1-ee1e-4554-b721-0ba2e8d5a635')\"\n",
              "            title=\"Suggest charts\"\n",
              "            style=\"display:none;\">\n",
              "\n",
              "<svg xmlns=\"http://www.w3.org/2000/svg\" height=\"24px\"viewBox=\"0 0 24 24\"\n",
              "     width=\"24px\">\n",
              "    <g>\n",
              "        <path d=\"M19 3H5c-1.1 0-2 .9-2 2v14c0 1.1.9 2 2 2h14c1.1 0 2-.9 2-2V5c0-1.1-.9-2-2-2zM9 17H7v-7h2v7zm4 0h-2V7h2v10zm4 0h-2v-4h2v4z\"/>\n",
              "    </g>\n",
              "</svg>\n",
              "  </button>\n",
              "\n",
              "<style>\n",
              "  .colab-df-quickchart {\n",
              "      --bg-color: #E8F0FE;\n",
              "      --fill-color: #1967D2;\n",
              "      --hover-bg-color: #E2EBFA;\n",
              "      --hover-fill-color: #174EA6;\n",
              "      --disabled-fill-color: #AAA;\n",
              "      --disabled-bg-color: #DDD;\n",
              "  }\n",
              "\n",
              "  [theme=dark] .colab-df-quickchart {\n",
              "      --bg-color: #3B4455;\n",
              "      --fill-color: #D2E3FC;\n",
              "      --hover-bg-color: #434B5C;\n",
              "      --hover-fill-color: #FFFFFF;\n",
              "      --disabled-bg-color: #3B4455;\n",
              "      --disabled-fill-color: #666;\n",
              "  }\n",
              "\n",
              "  .colab-df-quickchart {\n",
              "    background-color: var(--bg-color);\n",
              "    border: none;\n",
              "    border-radius: 50%;\n",
              "    cursor: pointer;\n",
              "    display: none;\n",
              "    fill: var(--fill-color);\n",
              "    height: 32px;\n",
              "    padding: 0;\n",
              "    width: 32px;\n",
              "  }\n",
              "\n",
              "  .colab-df-quickchart:hover {\n",
              "    background-color: var(--hover-bg-color);\n",
              "    box-shadow: 0 1px 2px rgba(60, 64, 67, 0.3), 0 1px 3px 1px rgba(60, 64, 67, 0.15);\n",
              "    fill: var(--button-hover-fill-color);\n",
              "  }\n",
              "\n",
              "  .colab-df-quickchart-complete:disabled,\n",
              "  .colab-df-quickchart-complete:disabled:hover {\n",
              "    background-color: var(--disabled-bg-color);\n",
              "    fill: var(--disabled-fill-color);\n",
              "    box-shadow: none;\n",
              "  }\n",
              "\n",
              "  .colab-df-spinner {\n",
              "    border: 2px solid var(--fill-color);\n",
              "    border-color: transparent;\n",
              "    border-bottom-color: var(--fill-color);\n",
              "    animation:\n",
              "      spin 1s steps(1) infinite;\n",
              "  }\n",
              "\n",
              "  @keyframes spin {\n",
              "    0% {\n",
              "      border-color: transparent;\n",
              "      border-bottom-color: var(--fill-color);\n",
              "      border-left-color: var(--fill-color);\n",
              "    }\n",
              "    20% {\n",
              "      border-color: transparent;\n",
              "      border-left-color: var(--fill-color);\n",
              "      border-top-color: var(--fill-color);\n",
              "    }\n",
              "    30% {\n",
              "      border-color: transparent;\n",
              "      border-left-color: var(--fill-color);\n",
              "      border-top-color: var(--fill-color);\n",
              "      border-right-color: var(--fill-color);\n",
              "    }\n",
              "    40% {\n",
              "      border-color: transparent;\n",
              "      border-right-color: var(--fill-color);\n",
              "      border-top-color: var(--fill-color);\n",
              "    }\n",
              "    60% {\n",
              "      border-color: transparent;\n",
              "      border-right-color: var(--fill-color);\n",
              "    }\n",
              "    80% {\n",
              "      border-color: transparent;\n",
              "      border-right-color: var(--fill-color);\n",
              "      border-bottom-color: var(--fill-color);\n",
              "    }\n",
              "    90% {\n",
              "      border-color: transparent;\n",
              "      border-bottom-color: var(--fill-color);\n",
              "    }\n",
              "  }\n",
              "</style>\n",
              "\n",
              "  <script>\n",
              "    async function quickchart(key) {\n",
              "      const quickchartButtonEl =\n",
              "        document.querySelector('#' + key + ' button');\n",
              "      quickchartButtonEl.disabled = true;  // To prevent multiple clicks.\n",
              "      quickchartButtonEl.classList.add('colab-df-spinner');\n",
              "      try {\n",
              "        const charts = await google.colab.kernel.invokeFunction(\n",
              "            'suggestCharts', [key], {});\n",
              "      } catch (error) {\n",
              "        console.error('Error during call to suggestCharts:', error);\n",
              "      }\n",
              "      quickchartButtonEl.classList.remove('colab-df-spinner');\n",
              "      quickchartButtonEl.classList.add('colab-df-quickchart-complete');\n",
              "    }\n",
              "    (() => {\n",
              "      let quickchartButtonEl =\n",
              "        document.querySelector('#df-df1790d1-ee1e-4554-b721-0ba2e8d5a635 button');\n",
              "      quickchartButtonEl.style.display =\n",
              "        google.colab.kernel.accessAllowed ? 'block' : 'none';\n",
              "    })();\n",
              "  </script>\n",
              "</div>\n",
              "\n",
              "    </div>\n",
              "  </div>\n"
            ],
            "application/vnd.google.colaboratory.intrinsic+json": {
              "type": "dataframe",
              "summary": "{\n  \"name\": \"pd\",\n  \"rows\": 4,\n  \"fields\": [\n    {\n      \"column\": \"labels\",\n      \"properties\": {\n        \"dtype\": \"int32\",\n        \"num_unique_values\": 4,\n        \"samples\": [\n          2,\n          4,\n          1\n        ],\n        \"semantic_type\": \"\",\n        \"description\": \"\"\n      }\n    },\n    {\n      \"column\": \"Canadian wheat\",\n      \"properties\": {\n        \"dtype\": \"number\",\n        \"std\": 6,\n        \"min\": 0,\n        \"max\": 13,\n        \"num_unique_values\": 3,\n        \"samples\": [\n          0,\n          13,\n          1\n        ],\n        \"semantic_type\": \"\",\n        \"description\": \"\"\n      }\n    },\n    {\n      \"column\": \"Kama wheat\",\n      \"properties\": {\n        \"dtype\": \"number\",\n        \"std\": 5,\n        \"min\": 0,\n        \"max\": 11,\n        \"num_unique_values\": 3,\n        \"samples\": [\n          3,\n          0,\n          11\n        ],\n        \"semantic_type\": \"\",\n        \"description\": \"\"\n      }\n    },\n    {\n      \"column\": \"Rosa wheat\",\n      \"properties\": {\n        \"dtype\": \"number\",\n        \"std\": 5,\n        \"min\": 0,\n        \"max\": 11,\n        \"num_unique_values\": 3,\n        \"samples\": [\n          3,\n          11,\n          0\n        ],\n        \"semantic_type\": \"\",\n        \"description\": \"\"\n      }\n    }\n  ]\n}"
            }
          },
          "metadata": {},
          "execution_count": 31
        }
      ]
    },
    {
      "cell_type": "code",
      "source": [
        "labels_single = fcluster(mergings_single, 2, criterion='distance')\n",
        "print(len(np.unique(labels_single)))\n",
        "labels_single"
      ],
      "metadata": {
        "colab": {
          "base_uri": "https://localhost:8080/"
        },
        "id": "OtrAvZhB_pRt",
        "outputId": "722038d6-0e16-4c81-f314-9935a844c81d"
      },
      "execution_count": 32,
      "outputs": [
        {
          "output_type": "stream",
          "name": "stdout",
          "text": [
            "3\n"
          ]
        },
        {
          "output_type": "execute_result",
          "data": {
            "text/plain": [
              "array([1, 1, 1, 1, 1, 2, 3, 1, 1, 1, 1, 1, 1, 1, 1, 1, 1, 1, 1, 1, 1, 1,\n",
              "       1, 1, 1, 1, 1, 1, 1, 1, 1, 1, 1, 1, 1, 1, 1, 1, 1, 1, 1, 1],\n",
              "      dtype=int32)"
            ]
          },
          "metadata": {},
          "execution_count": 32
        }
      ]
    },
    {
      "cell_type": "code",
      "source": [
        "df = pd.DataFrame({'labels': labels_single, 'varieties': varieties})\n",
        "pd.crosstab(df['labels'], df['varieties'])"
      ],
      "metadata": {
        "colab": {
          "base_uri": "https://localhost:8080/",
          "height": 175
        },
        "id": "VG25tQF3AApe",
        "outputId": "28536a9a-da89-4669-dde7-3f236c964d62"
      },
      "execution_count": 33,
      "outputs": [
        {
          "output_type": "execute_result",
          "data": {
            "text/plain": [
              "varieties  Canadian wheat  Kama wheat  Rosa wheat\n",
              "labels                                           \n",
              "1                      13          14          13\n",
              "2                       1           0           0\n",
              "3                       0           0           1"
            ],
            "text/html": [
              "\n",
              "  <div id=\"df-c9218325-fcaa-4f3b-a980-19dab8c27c24\" class=\"colab-df-container\">\n",
              "    <div>\n",
              "<style scoped>\n",
              "    .dataframe tbody tr th:only-of-type {\n",
              "        vertical-align: middle;\n",
              "    }\n",
              "\n",
              "    .dataframe tbody tr th {\n",
              "        vertical-align: top;\n",
              "    }\n",
              "\n",
              "    .dataframe thead th {\n",
              "        text-align: right;\n",
              "    }\n",
              "</style>\n",
              "<table border=\"1\" class=\"dataframe\">\n",
              "  <thead>\n",
              "    <tr style=\"text-align: right;\">\n",
              "      <th>varieties</th>\n",
              "      <th>Canadian wheat</th>\n",
              "      <th>Kama wheat</th>\n",
              "      <th>Rosa wheat</th>\n",
              "    </tr>\n",
              "    <tr>\n",
              "      <th>labels</th>\n",
              "      <th></th>\n",
              "      <th></th>\n",
              "      <th></th>\n",
              "    </tr>\n",
              "  </thead>\n",
              "  <tbody>\n",
              "    <tr>\n",
              "      <th>1</th>\n",
              "      <td>13</td>\n",
              "      <td>14</td>\n",
              "      <td>13</td>\n",
              "    </tr>\n",
              "    <tr>\n",
              "      <th>2</th>\n",
              "      <td>1</td>\n",
              "      <td>0</td>\n",
              "      <td>0</td>\n",
              "    </tr>\n",
              "    <tr>\n",
              "      <th>3</th>\n",
              "      <td>0</td>\n",
              "      <td>0</td>\n",
              "      <td>1</td>\n",
              "    </tr>\n",
              "  </tbody>\n",
              "</table>\n",
              "</div>\n",
              "    <div class=\"colab-df-buttons\">\n",
              "\n",
              "  <div class=\"colab-df-container\">\n",
              "    <button class=\"colab-df-convert\" onclick=\"convertToInteractive('df-c9218325-fcaa-4f3b-a980-19dab8c27c24')\"\n",
              "            title=\"Convert this dataframe to an interactive table.\"\n",
              "            style=\"display:none;\">\n",
              "\n",
              "  <svg xmlns=\"http://www.w3.org/2000/svg\" height=\"24px\" viewBox=\"0 -960 960 960\">\n",
              "    <path d=\"M120-120v-720h720v720H120Zm60-500h600v-160H180v160Zm220 220h160v-160H400v160Zm0 220h160v-160H400v160ZM180-400h160v-160H180v160Zm440 0h160v-160H620v160ZM180-180h160v-160H180v160Zm440 0h160v-160H620v160Z\"/>\n",
              "  </svg>\n",
              "    </button>\n",
              "\n",
              "  <style>\n",
              "    .colab-df-container {\n",
              "      display:flex;\n",
              "      gap: 12px;\n",
              "    }\n",
              "\n",
              "    .colab-df-convert {\n",
              "      background-color: #E8F0FE;\n",
              "      border: none;\n",
              "      border-radius: 50%;\n",
              "      cursor: pointer;\n",
              "      display: none;\n",
              "      fill: #1967D2;\n",
              "      height: 32px;\n",
              "      padding: 0 0 0 0;\n",
              "      width: 32px;\n",
              "    }\n",
              "\n",
              "    .colab-df-convert:hover {\n",
              "      background-color: #E2EBFA;\n",
              "      box-shadow: 0px 1px 2px rgba(60, 64, 67, 0.3), 0px 1px 3px 1px rgba(60, 64, 67, 0.15);\n",
              "      fill: #174EA6;\n",
              "    }\n",
              "\n",
              "    .colab-df-buttons div {\n",
              "      margin-bottom: 4px;\n",
              "    }\n",
              "\n",
              "    [theme=dark] .colab-df-convert {\n",
              "      background-color: #3B4455;\n",
              "      fill: #D2E3FC;\n",
              "    }\n",
              "\n",
              "    [theme=dark] .colab-df-convert:hover {\n",
              "      background-color: #434B5C;\n",
              "      box-shadow: 0px 1px 3px 1px rgba(0, 0, 0, 0.15);\n",
              "      filter: drop-shadow(0px 1px 2px rgba(0, 0, 0, 0.3));\n",
              "      fill: #FFFFFF;\n",
              "    }\n",
              "  </style>\n",
              "\n",
              "    <script>\n",
              "      const buttonEl =\n",
              "        document.querySelector('#df-c9218325-fcaa-4f3b-a980-19dab8c27c24 button.colab-df-convert');\n",
              "      buttonEl.style.display =\n",
              "        google.colab.kernel.accessAllowed ? 'block' : 'none';\n",
              "\n",
              "      async function convertToInteractive(key) {\n",
              "        const element = document.querySelector('#df-c9218325-fcaa-4f3b-a980-19dab8c27c24');\n",
              "        const dataTable =\n",
              "          await google.colab.kernel.invokeFunction('convertToInteractive',\n",
              "                                                    [key], {});\n",
              "        if (!dataTable) return;\n",
              "\n",
              "        const docLinkHtml = 'Like what you see? Visit the ' +\n",
              "          '<a target=\"_blank\" href=https://colab.research.google.com/notebooks/data_table.ipynb>data table notebook</a>'\n",
              "          + ' to learn more about interactive tables.';\n",
              "        element.innerHTML = '';\n",
              "        dataTable['output_type'] = 'display_data';\n",
              "        await google.colab.output.renderOutput(dataTable, element);\n",
              "        const docLink = document.createElement('div');\n",
              "        docLink.innerHTML = docLinkHtml;\n",
              "        element.appendChild(docLink);\n",
              "      }\n",
              "    </script>\n",
              "  </div>\n",
              "\n",
              "\n",
              "<div id=\"df-2e913947-cb31-4134-89a2-d35dc63895d0\">\n",
              "  <button class=\"colab-df-quickchart\" onclick=\"quickchart('df-2e913947-cb31-4134-89a2-d35dc63895d0')\"\n",
              "            title=\"Suggest charts\"\n",
              "            style=\"display:none;\">\n",
              "\n",
              "<svg xmlns=\"http://www.w3.org/2000/svg\" height=\"24px\"viewBox=\"0 0 24 24\"\n",
              "     width=\"24px\">\n",
              "    <g>\n",
              "        <path d=\"M19 3H5c-1.1 0-2 .9-2 2v14c0 1.1.9 2 2 2h14c1.1 0 2-.9 2-2V5c0-1.1-.9-2-2-2zM9 17H7v-7h2v7zm4 0h-2V7h2v10zm4 0h-2v-4h2v4z\"/>\n",
              "    </g>\n",
              "</svg>\n",
              "  </button>\n",
              "\n",
              "<style>\n",
              "  .colab-df-quickchart {\n",
              "      --bg-color: #E8F0FE;\n",
              "      --fill-color: #1967D2;\n",
              "      --hover-bg-color: #E2EBFA;\n",
              "      --hover-fill-color: #174EA6;\n",
              "      --disabled-fill-color: #AAA;\n",
              "      --disabled-bg-color: #DDD;\n",
              "  }\n",
              "\n",
              "  [theme=dark] .colab-df-quickchart {\n",
              "      --bg-color: #3B4455;\n",
              "      --fill-color: #D2E3FC;\n",
              "      --hover-bg-color: #434B5C;\n",
              "      --hover-fill-color: #FFFFFF;\n",
              "      --disabled-bg-color: #3B4455;\n",
              "      --disabled-fill-color: #666;\n",
              "  }\n",
              "\n",
              "  .colab-df-quickchart {\n",
              "    background-color: var(--bg-color);\n",
              "    border: none;\n",
              "    border-radius: 50%;\n",
              "    cursor: pointer;\n",
              "    display: none;\n",
              "    fill: var(--fill-color);\n",
              "    height: 32px;\n",
              "    padding: 0;\n",
              "    width: 32px;\n",
              "  }\n",
              "\n",
              "  .colab-df-quickchart:hover {\n",
              "    background-color: var(--hover-bg-color);\n",
              "    box-shadow: 0 1px 2px rgba(60, 64, 67, 0.3), 0 1px 3px 1px rgba(60, 64, 67, 0.15);\n",
              "    fill: var(--button-hover-fill-color);\n",
              "  }\n",
              "\n",
              "  .colab-df-quickchart-complete:disabled,\n",
              "  .colab-df-quickchart-complete:disabled:hover {\n",
              "    background-color: var(--disabled-bg-color);\n",
              "    fill: var(--disabled-fill-color);\n",
              "    box-shadow: none;\n",
              "  }\n",
              "\n",
              "  .colab-df-spinner {\n",
              "    border: 2px solid var(--fill-color);\n",
              "    border-color: transparent;\n",
              "    border-bottom-color: var(--fill-color);\n",
              "    animation:\n",
              "      spin 1s steps(1) infinite;\n",
              "  }\n",
              "\n",
              "  @keyframes spin {\n",
              "    0% {\n",
              "      border-color: transparent;\n",
              "      border-bottom-color: var(--fill-color);\n",
              "      border-left-color: var(--fill-color);\n",
              "    }\n",
              "    20% {\n",
              "      border-color: transparent;\n",
              "      border-left-color: var(--fill-color);\n",
              "      border-top-color: var(--fill-color);\n",
              "    }\n",
              "    30% {\n",
              "      border-color: transparent;\n",
              "      border-left-color: var(--fill-color);\n",
              "      border-top-color: var(--fill-color);\n",
              "      border-right-color: var(--fill-color);\n",
              "    }\n",
              "    40% {\n",
              "      border-color: transparent;\n",
              "      border-right-color: var(--fill-color);\n",
              "      border-top-color: var(--fill-color);\n",
              "    }\n",
              "    60% {\n",
              "      border-color: transparent;\n",
              "      border-right-color: var(--fill-color);\n",
              "    }\n",
              "    80% {\n",
              "      border-color: transparent;\n",
              "      border-right-color: var(--fill-color);\n",
              "      border-bottom-color: var(--fill-color);\n",
              "    }\n",
              "    90% {\n",
              "      border-color: transparent;\n",
              "      border-bottom-color: var(--fill-color);\n",
              "    }\n",
              "  }\n",
              "</style>\n",
              "\n",
              "  <script>\n",
              "    async function quickchart(key) {\n",
              "      const quickchartButtonEl =\n",
              "        document.querySelector('#' + key + ' button');\n",
              "      quickchartButtonEl.disabled = true;  // To prevent multiple clicks.\n",
              "      quickchartButtonEl.classList.add('colab-df-spinner');\n",
              "      try {\n",
              "        const charts = await google.colab.kernel.invokeFunction(\n",
              "            'suggestCharts', [key], {});\n",
              "      } catch (error) {\n",
              "        console.error('Error during call to suggestCharts:', error);\n",
              "      }\n",
              "      quickchartButtonEl.classList.remove('colab-df-spinner');\n",
              "      quickchartButtonEl.classList.add('colab-df-quickchart-complete');\n",
              "    }\n",
              "    (() => {\n",
              "      let quickchartButtonEl =\n",
              "        document.querySelector('#df-2e913947-cb31-4134-89a2-d35dc63895d0 button');\n",
              "      quickchartButtonEl.style.display =\n",
              "        google.colab.kernel.accessAllowed ? 'block' : 'none';\n",
              "    })();\n",
              "  </script>\n",
              "</div>\n",
              "\n",
              "    </div>\n",
              "  </div>\n"
            ],
            "application/vnd.google.colaboratory.intrinsic+json": {
              "type": "dataframe",
              "summary": "{\n  \"name\": \"pd\",\n  \"rows\": 3,\n  \"fields\": [\n    {\n      \"column\": \"labels\",\n      \"properties\": {\n        \"dtype\": \"int32\",\n        \"num_unique_values\": 3,\n        \"samples\": [\n          1,\n          2,\n          3\n        ],\n        \"semantic_type\": \"\",\n        \"description\": \"\"\n      }\n    },\n    {\n      \"column\": \"Canadian wheat\",\n      \"properties\": {\n        \"dtype\": \"number\",\n        \"std\": 7,\n        \"min\": 0,\n        \"max\": 13,\n        \"num_unique_values\": 3,\n        \"samples\": [\n          13,\n          1,\n          0\n        ],\n        \"semantic_type\": \"\",\n        \"description\": \"\"\n      }\n    },\n    {\n      \"column\": \"Kama wheat\",\n      \"properties\": {\n        \"dtype\": \"number\",\n        \"std\": 8,\n        \"min\": 0,\n        \"max\": 14,\n        \"num_unique_values\": 2,\n        \"samples\": [\n          0,\n          14\n        ],\n        \"semantic_type\": \"\",\n        \"description\": \"\"\n      }\n    },\n    {\n      \"column\": \"Rosa wheat\",\n      \"properties\": {\n        \"dtype\": \"number\",\n        \"std\": 7,\n        \"min\": 0,\n        \"max\": 13,\n        \"num_unique_values\": 3,\n        \"samples\": [\n          13,\n          0\n        ],\n        \"semantic_type\": \"\",\n        \"description\": \"\"\n      }\n    }\n  ]\n}"
            }
          },
          "metadata": {},
          "execution_count": 33
        }
      ]
    },
    {
      "cell_type": "markdown",
      "source": [
        "## t-SNE for 2-dimensional maps\n",
        "\n",
        "- t-Distributed Stochastic Neighbor Embedding\n",
        "- Maps samples to 2D (or 3D) space so they can be visualized\n",
        "- Maps **approximately** preserves the nearness of samples"
      ],
      "metadata": {
        "id": "7zXJjMGDBrc8"
      }
    },
    {
      "cell_type": "markdown",
      "source": [
        "### t-SNE on the iris dataset"
      ],
      "metadata": {
        "id": "mRN7iSaDDiEu"
      }
    },
    {
      "cell_type": "code",
      "source": [
        "iris = pd.read_csv(data_base_url + '1Rqb4thhyLP1OZVvMamDdJ0EI1UQgIR44')\n",
        "iris.info()"
      ],
      "metadata": {
        "colab": {
          "base_uri": "https://localhost:8080/"
        },
        "id": "pTQBIfTnDqaz",
        "outputId": "ad26bec2-1dd4-4e7a-96ab-0f2180c4c4a5"
      },
      "execution_count": 34,
      "outputs": [
        {
          "output_type": "stream",
          "name": "stdout",
          "text": [
            "<class 'pandas.core.frame.DataFrame'>\n",
            "RangeIndex: 150 entries, 0 to 149\n",
            "Data columns (total 5 columns):\n",
            " #   Column        Non-Null Count  Dtype  \n",
            "---  ------        --------------  -----  \n",
            " 0   sepal.length  150 non-null    float64\n",
            " 1   sepal.width   150 non-null    float64\n",
            " 2   petal.length  150 non-null    float64\n",
            " 3   petal.width   150 non-null    float64\n",
            " 4   variety       150 non-null    object \n",
            "dtypes: float64(4), object(1)\n",
            "memory usage: 6.0+ KB\n"
          ]
        }
      ]
    },
    {
      "cell_type": "code",
      "source": [
        "iris.head()"
      ],
      "metadata": {
        "colab": {
          "base_uri": "https://localhost:8080/",
          "height": 206
        },
        "id": "A1THnbWRD7LM",
        "outputId": "d462c2ea-f0a1-4a6c-f469-c9948fb370b9"
      },
      "execution_count": 35,
      "outputs": [
        {
          "output_type": "execute_result",
          "data": {
            "text/plain": [
              "   sepal.length  sepal.width  petal.length  petal.width variety\n",
              "0           5.1          3.5           1.4          0.2  Setosa\n",
              "1           4.9          3.0           1.4          0.2  Setosa\n",
              "2           4.7          3.2           1.3          0.2  Setosa\n",
              "3           4.6          3.1           1.5          0.2  Setosa\n",
              "4           5.0          3.6           1.4          0.2  Setosa"
            ],
            "text/html": [
              "\n",
              "  <div id=\"df-fce56e93-228c-4d8b-be8b-8d81d3a6daca\" class=\"colab-df-container\">\n",
              "    <div>\n",
              "<style scoped>\n",
              "    .dataframe tbody tr th:only-of-type {\n",
              "        vertical-align: middle;\n",
              "    }\n",
              "\n",
              "    .dataframe tbody tr th {\n",
              "        vertical-align: top;\n",
              "    }\n",
              "\n",
              "    .dataframe thead th {\n",
              "        text-align: right;\n",
              "    }\n",
              "</style>\n",
              "<table border=\"1\" class=\"dataframe\">\n",
              "  <thead>\n",
              "    <tr style=\"text-align: right;\">\n",
              "      <th></th>\n",
              "      <th>sepal.length</th>\n",
              "      <th>sepal.width</th>\n",
              "      <th>petal.length</th>\n",
              "      <th>petal.width</th>\n",
              "      <th>variety</th>\n",
              "    </tr>\n",
              "  </thead>\n",
              "  <tbody>\n",
              "    <tr>\n",
              "      <th>0</th>\n",
              "      <td>5.1</td>\n",
              "      <td>3.5</td>\n",
              "      <td>1.4</td>\n",
              "      <td>0.2</td>\n",
              "      <td>Setosa</td>\n",
              "    </tr>\n",
              "    <tr>\n",
              "      <th>1</th>\n",
              "      <td>4.9</td>\n",
              "      <td>3.0</td>\n",
              "      <td>1.4</td>\n",
              "      <td>0.2</td>\n",
              "      <td>Setosa</td>\n",
              "    </tr>\n",
              "    <tr>\n",
              "      <th>2</th>\n",
              "      <td>4.7</td>\n",
              "      <td>3.2</td>\n",
              "      <td>1.3</td>\n",
              "      <td>0.2</td>\n",
              "      <td>Setosa</td>\n",
              "    </tr>\n",
              "    <tr>\n",
              "      <th>3</th>\n",
              "      <td>4.6</td>\n",
              "      <td>3.1</td>\n",
              "      <td>1.5</td>\n",
              "      <td>0.2</td>\n",
              "      <td>Setosa</td>\n",
              "    </tr>\n",
              "    <tr>\n",
              "      <th>4</th>\n",
              "      <td>5.0</td>\n",
              "      <td>3.6</td>\n",
              "      <td>1.4</td>\n",
              "      <td>0.2</td>\n",
              "      <td>Setosa</td>\n",
              "    </tr>\n",
              "  </tbody>\n",
              "</table>\n",
              "</div>\n",
              "    <div class=\"colab-df-buttons\">\n",
              "\n",
              "  <div class=\"colab-df-container\">\n",
              "    <button class=\"colab-df-convert\" onclick=\"convertToInteractive('df-fce56e93-228c-4d8b-be8b-8d81d3a6daca')\"\n",
              "            title=\"Convert this dataframe to an interactive table.\"\n",
              "            style=\"display:none;\">\n",
              "\n",
              "  <svg xmlns=\"http://www.w3.org/2000/svg\" height=\"24px\" viewBox=\"0 -960 960 960\">\n",
              "    <path d=\"M120-120v-720h720v720H120Zm60-500h600v-160H180v160Zm220 220h160v-160H400v160Zm0 220h160v-160H400v160ZM180-400h160v-160H180v160Zm440 0h160v-160H620v160ZM180-180h160v-160H180v160Zm440 0h160v-160H620v160Z\"/>\n",
              "  </svg>\n",
              "    </button>\n",
              "\n",
              "  <style>\n",
              "    .colab-df-container {\n",
              "      display:flex;\n",
              "      gap: 12px;\n",
              "    }\n",
              "\n",
              "    .colab-df-convert {\n",
              "      background-color: #E8F0FE;\n",
              "      border: none;\n",
              "      border-radius: 50%;\n",
              "      cursor: pointer;\n",
              "      display: none;\n",
              "      fill: #1967D2;\n",
              "      height: 32px;\n",
              "      padding: 0 0 0 0;\n",
              "      width: 32px;\n",
              "    }\n",
              "\n",
              "    .colab-df-convert:hover {\n",
              "      background-color: #E2EBFA;\n",
              "      box-shadow: 0px 1px 2px rgba(60, 64, 67, 0.3), 0px 1px 3px 1px rgba(60, 64, 67, 0.15);\n",
              "      fill: #174EA6;\n",
              "    }\n",
              "\n",
              "    .colab-df-buttons div {\n",
              "      margin-bottom: 4px;\n",
              "    }\n",
              "\n",
              "    [theme=dark] .colab-df-convert {\n",
              "      background-color: #3B4455;\n",
              "      fill: #D2E3FC;\n",
              "    }\n",
              "\n",
              "    [theme=dark] .colab-df-convert:hover {\n",
              "      background-color: #434B5C;\n",
              "      box-shadow: 0px 1px 3px 1px rgba(0, 0, 0, 0.15);\n",
              "      filter: drop-shadow(0px 1px 2px rgba(0, 0, 0, 0.3));\n",
              "      fill: #FFFFFF;\n",
              "    }\n",
              "  </style>\n",
              "\n",
              "    <script>\n",
              "      const buttonEl =\n",
              "        document.querySelector('#df-fce56e93-228c-4d8b-be8b-8d81d3a6daca button.colab-df-convert');\n",
              "      buttonEl.style.display =\n",
              "        google.colab.kernel.accessAllowed ? 'block' : 'none';\n",
              "\n",
              "      async function convertToInteractive(key) {\n",
              "        const element = document.querySelector('#df-fce56e93-228c-4d8b-be8b-8d81d3a6daca');\n",
              "        const dataTable =\n",
              "          await google.colab.kernel.invokeFunction('convertToInteractive',\n",
              "                                                    [key], {});\n",
              "        if (!dataTable) return;\n",
              "\n",
              "        const docLinkHtml = 'Like what you see? Visit the ' +\n",
              "          '<a target=\"_blank\" href=https://colab.research.google.com/notebooks/data_table.ipynb>data table notebook</a>'\n",
              "          + ' to learn more about interactive tables.';\n",
              "        element.innerHTML = '';\n",
              "        dataTable['output_type'] = 'display_data';\n",
              "        await google.colab.output.renderOutput(dataTable, element);\n",
              "        const docLink = document.createElement('div');\n",
              "        docLink.innerHTML = docLinkHtml;\n",
              "        element.appendChild(docLink);\n",
              "      }\n",
              "    </script>\n",
              "  </div>\n",
              "\n",
              "\n",
              "<div id=\"df-df2e07b0-f871-416d-8114-1f3d64c2afe3\">\n",
              "  <button class=\"colab-df-quickchart\" onclick=\"quickchart('df-df2e07b0-f871-416d-8114-1f3d64c2afe3')\"\n",
              "            title=\"Suggest charts\"\n",
              "            style=\"display:none;\">\n",
              "\n",
              "<svg xmlns=\"http://www.w3.org/2000/svg\" height=\"24px\"viewBox=\"0 0 24 24\"\n",
              "     width=\"24px\">\n",
              "    <g>\n",
              "        <path d=\"M19 3H5c-1.1 0-2 .9-2 2v14c0 1.1.9 2 2 2h14c1.1 0 2-.9 2-2V5c0-1.1-.9-2-2-2zM9 17H7v-7h2v7zm4 0h-2V7h2v10zm4 0h-2v-4h2v4z\"/>\n",
              "    </g>\n",
              "</svg>\n",
              "  </button>\n",
              "\n",
              "<style>\n",
              "  .colab-df-quickchart {\n",
              "      --bg-color: #E8F0FE;\n",
              "      --fill-color: #1967D2;\n",
              "      --hover-bg-color: #E2EBFA;\n",
              "      --hover-fill-color: #174EA6;\n",
              "      --disabled-fill-color: #AAA;\n",
              "      --disabled-bg-color: #DDD;\n",
              "  }\n",
              "\n",
              "  [theme=dark] .colab-df-quickchart {\n",
              "      --bg-color: #3B4455;\n",
              "      --fill-color: #D2E3FC;\n",
              "      --hover-bg-color: #434B5C;\n",
              "      --hover-fill-color: #FFFFFF;\n",
              "      --disabled-bg-color: #3B4455;\n",
              "      --disabled-fill-color: #666;\n",
              "  }\n",
              "\n",
              "  .colab-df-quickchart {\n",
              "    background-color: var(--bg-color);\n",
              "    border: none;\n",
              "    border-radius: 50%;\n",
              "    cursor: pointer;\n",
              "    display: none;\n",
              "    fill: var(--fill-color);\n",
              "    height: 32px;\n",
              "    padding: 0;\n",
              "    width: 32px;\n",
              "  }\n",
              "\n",
              "  .colab-df-quickchart:hover {\n",
              "    background-color: var(--hover-bg-color);\n",
              "    box-shadow: 0 1px 2px rgba(60, 64, 67, 0.3), 0 1px 3px 1px rgba(60, 64, 67, 0.15);\n",
              "    fill: var(--button-hover-fill-color);\n",
              "  }\n",
              "\n",
              "  .colab-df-quickchart-complete:disabled,\n",
              "  .colab-df-quickchart-complete:disabled:hover {\n",
              "    background-color: var(--disabled-bg-color);\n",
              "    fill: var(--disabled-fill-color);\n",
              "    box-shadow: none;\n",
              "  }\n",
              "\n",
              "  .colab-df-spinner {\n",
              "    border: 2px solid var(--fill-color);\n",
              "    border-color: transparent;\n",
              "    border-bottom-color: var(--fill-color);\n",
              "    animation:\n",
              "      spin 1s steps(1) infinite;\n",
              "  }\n",
              "\n",
              "  @keyframes spin {\n",
              "    0% {\n",
              "      border-color: transparent;\n",
              "      border-bottom-color: var(--fill-color);\n",
              "      border-left-color: var(--fill-color);\n",
              "    }\n",
              "    20% {\n",
              "      border-color: transparent;\n",
              "      border-left-color: var(--fill-color);\n",
              "      border-top-color: var(--fill-color);\n",
              "    }\n",
              "    30% {\n",
              "      border-color: transparent;\n",
              "      border-left-color: var(--fill-color);\n",
              "      border-top-color: var(--fill-color);\n",
              "      border-right-color: var(--fill-color);\n",
              "    }\n",
              "    40% {\n",
              "      border-color: transparent;\n",
              "      border-right-color: var(--fill-color);\n",
              "      border-top-color: var(--fill-color);\n",
              "    }\n",
              "    60% {\n",
              "      border-color: transparent;\n",
              "      border-right-color: var(--fill-color);\n",
              "    }\n",
              "    80% {\n",
              "      border-color: transparent;\n",
              "      border-right-color: var(--fill-color);\n",
              "      border-bottom-color: var(--fill-color);\n",
              "    }\n",
              "    90% {\n",
              "      border-color: transparent;\n",
              "      border-bottom-color: var(--fill-color);\n",
              "    }\n",
              "  }\n",
              "</style>\n",
              "\n",
              "  <script>\n",
              "    async function quickchart(key) {\n",
              "      const quickchartButtonEl =\n",
              "        document.querySelector('#' + key + ' button');\n",
              "      quickchartButtonEl.disabled = true;  // To prevent multiple clicks.\n",
              "      quickchartButtonEl.classList.add('colab-df-spinner');\n",
              "      try {\n",
              "        const charts = await google.colab.kernel.invokeFunction(\n",
              "            'suggestCharts', [key], {});\n",
              "      } catch (error) {\n",
              "        console.error('Error during call to suggestCharts:', error);\n",
              "      }\n",
              "      quickchartButtonEl.classList.remove('colab-df-spinner');\n",
              "      quickchartButtonEl.classList.add('colab-df-quickchart-complete');\n",
              "    }\n",
              "    (() => {\n",
              "      let quickchartButtonEl =\n",
              "        document.querySelector('#df-df2e07b0-f871-416d-8114-1f3d64c2afe3 button');\n",
              "      quickchartButtonEl.style.display =\n",
              "        google.colab.kernel.accessAllowed ? 'block' : 'none';\n",
              "    })();\n",
              "  </script>\n",
              "</div>\n",
              "\n",
              "    </div>\n",
              "  </div>\n"
            ],
            "application/vnd.google.colaboratory.intrinsic+json": {
              "type": "dataframe",
              "variable_name": "iris",
              "summary": "{\n  \"name\": \"iris\",\n  \"rows\": 150,\n  \"fields\": [\n    {\n      \"column\": \"sepal.length\",\n      \"properties\": {\n        \"dtype\": \"number\",\n        \"std\": 0.8280661279778629,\n        \"min\": 4.3,\n        \"max\": 7.9,\n        \"num_unique_values\": 35,\n        \"samples\": [\n          6.2,\n          4.5,\n          5.6\n        ],\n        \"semantic_type\": \"\",\n        \"description\": \"\"\n      }\n    },\n    {\n      \"column\": \"sepal.width\",\n      \"properties\": {\n        \"dtype\": \"number\",\n        \"std\": 0.435866284936698,\n        \"min\": 2.0,\n        \"max\": 4.4,\n        \"num_unique_values\": 23,\n        \"samples\": [\n          2.3,\n          4.0,\n          3.5\n        ],\n        \"semantic_type\": \"\",\n        \"description\": \"\"\n      }\n    },\n    {\n      \"column\": \"petal.length\",\n      \"properties\": {\n        \"dtype\": \"number\",\n        \"std\": 1.7652982332594667,\n        \"min\": 1.0,\n        \"max\": 6.9,\n        \"num_unique_values\": 43,\n        \"samples\": [\n          6.7,\n          3.8,\n          3.7\n        ],\n        \"semantic_type\": \"\",\n        \"description\": \"\"\n      }\n    },\n    {\n      \"column\": \"petal.width\",\n      \"properties\": {\n        \"dtype\": \"number\",\n        \"std\": 0.7622376689603465,\n        \"min\": 0.1,\n        \"max\": 2.5,\n        \"num_unique_values\": 22,\n        \"samples\": [\n          0.2,\n          1.2,\n          1.3\n        ],\n        \"semantic_type\": \"\",\n        \"description\": \"\"\n      }\n    },\n    {\n      \"column\": \"variety\",\n      \"properties\": {\n        \"dtype\": \"category\",\n        \"num_unique_values\": 3,\n        \"samples\": [\n          \"Setosa\",\n          \"Versicolor\",\n          \"Virginica\"\n        ],\n        \"semantic_type\": \"\",\n        \"description\": \"\"\n      }\n    }\n  ]\n}"
            }
          },
          "metadata": {},
          "execution_count": 35
        }
      ]
    },
    {
      "cell_type": "markdown",
      "source": [
        "- Iris dataset has 4 measurements, so samples are 4-dimensional\n",
        "- t-SNE maps smaples to 2D space\n",
        "- t-SNE didn't know that there were different species"
      ],
      "metadata": {
        "id": "vvn-QnuVECMD"
      }
    },
    {
      "cell_type": "markdown",
      "source": [
        "### Interpreting t-SNE scatter plots\n",
        "\n",
        "- \"Versicolor\" and \"Virginica\" are harder to distinguish from one another\n",
        "- Consistent with k-means inertia plot: could argue for 2 clsuters or for 3"
      ],
      "metadata": {
        "id": "nG1ox4oyEnRZ"
      }
    },
    {
      "cell_type": "markdown",
      "source": [
        "### t-SNE in sklearn"
      ],
      "metadata": {
        "id": "_Ct0-XPNF2o0"
      }
    },
    {
      "cell_type": "code",
      "source": [
        "X = iris.drop('variety', axis=1)\n",
        "y = iris['variety']\n",
        "\n",
        "X"
      ],
      "metadata": {
        "colab": {
          "base_uri": "https://localhost:8080/",
          "height": 424
        },
        "id": "I5LPsms1F060",
        "outputId": "4b071727-c91d-4bf9-c45e-a208a27f84f5"
      },
      "execution_count": 36,
      "outputs": [
        {
          "output_type": "execute_result",
          "data": {
            "text/plain": [
              "     sepal.length  sepal.width  petal.length  petal.width\n",
              "0             5.1          3.5           1.4          0.2\n",
              "1             4.9          3.0           1.4          0.2\n",
              "2             4.7          3.2           1.3          0.2\n",
              "3             4.6          3.1           1.5          0.2\n",
              "4             5.0          3.6           1.4          0.2\n",
              "..            ...          ...           ...          ...\n",
              "145           6.7          3.0           5.2          2.3\n",
              "146           6.3          2.5           5.0          1.9\n",
              "147           6.5          3.0           5.2          2.0\n",
              "148           6.2          3.4           5.4          2.3\n",
              "149           5.9          3.0           5.1          1.8\n",
              "\n",
              "[150 rows x 4 columns]"
            ],
            "text/html": [
              "\n",
              "  <div id=\"df-509d3042-c523-4072-9a81-8f938ac9beab\" class=\"colab-df-container\">\n",
              "    <div>\n",
              "<style scoped>\n",
              "    .dataframe tbody tr th:only-of-type {\n",
              "        vertical-align: middle;\n",
              "    }\n",
              "\n",
              "    .dataframe tbody tr th {\n",
              "        vertical-align: top;\n",
              "    }\n",
              "\n",
              "    .dataframe thead th {\n",
              "        text-align: right;\n",
              "    }\n",
              "</style>\n",
              "<table border=\"1\" class=\"dataframe\">\n",
              "  <thead>\n",
              "    <tr style=\"text-align: right;\">\n",
              "      <th></th>\n",
              "      <th>sepal.length</th>\n",
              "      <th>sepal.width</th>\n",
              "      <th>petal.length</th>\n",
              "      <th>petal.width</th>\n",
              "    </tr>\n",
              "  </thead>\n",
              "  <tbody>\n",
              "    <tr>\n",
              "      <th>0</th>\n",
              "      <td>5.1</td>\n",
              "      <td>3.5</td>\n",
              "      <td>1.4</td>\n",
              "      <td>0.2</td>\n",
              "    </tr>\n",
              "    <tr>\n",
              "      <th>1</th>\n",
              "      <td>4.9</td>\n",
              "      <td>3.0</td>\n",
              "      <td>1.4</td>\n",
              "      <td>0.2</td>\n",
              "    </tr>\n",
              "    <tr>\n",
              "      <th>2</th>\n",
              "      <td>4.7</td>\n",
              "      <td>3.2</td>\n",
              "      <td>1.3</td>\n",
              "      <td>0.2</td>\n",
              "    </tr>\n",
              "    <tr>\n",
              "      <th>3</th>\n",
              "      <td>4.6</td>\n",
              "      <td>3.1</td>\n",
              "      <td>1.5</td>\n",
              "      <td>0.2</td>\n",
              "    </tr>\n",
              "    <tr>\n",
              "      <th>4</th>\n",
              "      <td>5.0</td>\n",
              "      <td>3.6</td>\n",
              "      <td>1.4</td>\n",
              "      <td>0.2</td>\n",
              "    </tr>\n",
              "    <tr>\n",
              "      <th>...</th>\n",
              "      <td>...</td>\n",
              "      <td>...</td>\n",
              "      <td>...</td>\n",
              "      <td>...</td>\n",
              "    </tr>\n",
              "    <tr>\n",
              "      <th>145</th>\n",
              "      <td>6.7</td>\n",
              "      <td>3.0</td>\n",
              "      <td>5.2</td>\n",
              "      <td>2.3</td>\n",
              "    </tr>\n",
              "    <tr>\n",
              "      <th>146</th>\n",
              "      <td>6.3</td>\n",
              "      <td>2.5</td>\n",
              "      <td>5.0</td>\n",
              "      <td>1.9</td>\n",
              "    </tr>\n",
              "    <tr>\n",
              "      <th>147</th>\n",
              "      <td>6.5</td>\n",
              "      <td>3.0</td>\n",
              "      <td>5.2</td>\n",
              "      <td>2.0</td>\n",
              "    </tr>\n",
              "    <tr>\n",
              "      <th>148</th>\n",
              "      <td>6.2</td>\n",
              "      <td>3.4</td>\n",
              "      <td>5.4</td>\n",
              "      <td>2.3</td>\n",
              "    </tr>\n",
              "    <tr>\n",
              "      <th>149</th>\n",
              "      <td>5.9</td>\n",
              "      <td>3.0</td>\n",
              "      <td>5.1</td>\n",
              "      <td>1.8</td>\n",
              "    </tr>\n",
              "  </tbody>\n",
              "</table>\n",
              "<p>150 rows × 4 columns</p>\n",
              "</div>\n",
              "    <div class=\"colab-df-buttons\">\n",
              "\n",
              "  <div class=\"colab-df-container\">\n",
              "    <button class=\"colab-df-convert\" onclick=\"convertToInteractive('df-509d3042-c523-4072-9a81-8f938ac9beab')\"\n",
              "            title=\"Convert this dataframe to an interactive table.\"\n",
              "            style=\"display:none;\">\n",
              "\n",
              "  <svg xmlns=\"http://www.w3.org/2000/svg\" height=\"24px\" viewBox=\"0 -960 960 960\">\n",
              "    <path d=\"M120-120v-720h720v720H120Zm60-500h600v-160H180v160Zm220 220h160v-160H400v160Zm0 220h160v-160H400v160ZM180-400h160v-160H180v160Zm440 0h160v-160H620v160ZM180-180h160v-160H180v160Zm440 0h160v-160H620v160Z\"/>\n",
              "  </svg>\n",
              "    </button>\n",
              "\n",
              "  <style>\n",
              "    .colab-df-container {\n",
              "      display:flex;\n",
              "      gap: 12px;\n",
              "    }\n",
              "\n",
              "    .colab-df-convert {\n",
              "      background-color: #E8F0FE;\n",
              "      border: none;\n",
              "      border-radius: 50%;\n",
              "      cursor: pointer;\n",
              "      display: none;\n",
              "      fill: #1967D2;\n",
              "      height: 32px;\n",
              "      padding: 0 0 0 0;\n",
              "      width: 32px;\n",
              "    }\n",
              "\n",
              "    .colab-df-convert:hover {\n",
              "      background-color: #E2EBFA;\n",
              "      box-shadow: 0px 1px 2px rgba(60, 64, 67, 0.3), 0px 1px 3px 1px rgba(60, 64, 67, 0.15);\n",
              "      fill: #174EA6;\n",
              "    }\n",
              "\n",
              "    .colab-df-buttons div {\n",
              "      margin-bottom: 4px;\n",
              "    }\n",
              "\n",
              "    [theme=dark] .colab-df-convert {\n",
              "      background-color: #3B4455;\n",
              "      fill: #D2E3FC;\n",
              "    }\n",
              "\n",
              "    [theme=dark] .colab-df-convert:hover {\n",
              "      background-color: #434B5C;\n",
              "      box-shadow: 0px 1px 3px 1px rgba(0, 0, 0, 0.15);\n",
              "      filter: drop-shadow(0px 1px 2px rgba(0, 0, 0, 0.3));\n",
              "      fill: #FFFFFF;\n",
              "    }\n",
              "  </style>\n",
              "\n",
              "    <script>\n",
              "      const buttonEl =\n",
              "        document.querySelector('#df-509d3042-c523-4072-9a81-8f938ac9beab button.colab-df-convert');\n",
              "      buttonEl.style.display =\n",
              "        google.colab.kernel.accessAllowed ? 'block' : 'none';\n",
              "\n",
              "      async function convertToInteractive(key) {\n",
              "        const element = document.querySelector('#df-509d3042-c523-4072-9a81-8f938ac9beab');\n",
              "        const dataTable =\n",
              "          await google.colab.kernel.invokeFunction('convertToInteractive',\n",
              "                                                    [key], {});\n",
              "        if (!dataTable) return;\n",
              "\n",
              "        const docLinkHtml = 'Like what you see? Visit the ' +\n",
              "          '<a target=\"_blank\" href=https://colab.research.google.com/notebooks/data_table.ipynb>data table notebook</a>'\n",
              "          + ' to learn more about interactive tables.';\n",
              "        element.innerHTML = '';\n",
              "        dataTable['output_type'] = 'display_data';\n",
              "        await google.colab.output.renderOutput(dataTable, element);\n",
              "        const docLink = document.createElement('div');\n",
              "        docLink.innerHTML = docLinkHtml;\n",
              "        element.appendChild(docLink);\n",
              "      }\n",
              "    </script>\n",
              "  </div>\n",
              "\n",
              "\n",
              "<div id=\"df-71be3ae7-191c-4706-b9e6-056ae7f7a664\">\n",
              "  <button class=\"colab-df-quickchart\" onclick=\"quickchart('df-71be3ae7-191c-4706-b9e6-056ae7f7a664')\"\n",
              "            title=\"Suggest charts\"\n",
              "            style=\"display:none;\">\n",
              "\n",
              "<svg xmlns=\"http://www.w3.org/2000/svg\" height=\"24px\"viewBox=\"0 0 24 24\"\n",
              "     width=\"24px\">\n",
              "    <g>\n",
              "        <path d=\"M19 3H5c-1.1 0-2 .9-2 2v14c0 1.1.9 2 2 2h14c1.1 0 2-.9 2-2V5c0-1.1-.9-2-2-2zM9 17H7v-7h2v7zm4 0h-2V7h2v10zm4 0h-2v-4h2v4z\"/>\n",
              "    </g>\n",
              "</svg>\n",
              "  </button>\n",
              "\n",
              "<style>\n",
              "  .colab-df-quickchart {\n",
              "      --bg-color: #E8F0FE;\n",
              "      --fill-color: #1967D2;\n",
              "      --hover-bg-color: #E2EBFA;\n",
              "      --hover-fill-color: #174EA6;\n",
              "      --disabled-fill-color: #AAA;\n",
              "      --disabled-bg-color: #DDD;\n",
              "  }\n",
              "\n",
              "  [theme=dark] .colab-df-quickchart {\n",
              "      --bg-color: #3B4455;\n",
              "      --fill-color: #D2E3FC;\n",
              "      --hover-bg-color: #434B5C;\n",
              "      --hover-fill-color: #FFFFFF;\n",
              "      --disabled-bg-color: #3B4455;\n",
              "      --disabled-fill-color: #666;\n",
              "  }\n",
              "\n",
              "  .colab-df-quickchart {\n",
              "    background-color: var(--bg-color);\n",
              "    border: none;\n",
              "    border-radius: 50%;\n",
              "    cursor: pointer;\n",
              "    display: none;\n",
              "    fill: var(--fill-color);\n",
              "    height: 32px;\n",
              "    padding: 0;\n",
              "    width: 32px;\n",
              "  }\n",
              "\n",
              "  .colab-df-quickchart:hover {\n",
              "    background-color: var(--hover-bg-color);\n",
              "    box-shadow: 0 1px 2px rgba(60, 64, 67, 0.3), 0 1px 3px 1px rgba(60, 64, 67, 0.15);\n",
              "    fill: var(--button-hover-fill-color);\n",
              "  }\n",
              "\n",
              "  .colab-df-quickchart-complete:disabled,\n",
              "  .colab-df-quickchart-complete:disabled:hover {\n",
              "    background-color: var(--disabled-bg-color);\n",
              "    fill: var(--disabled-fill-color);\n",
              "    box-shadow: none;\n",
              "  }\n",
              "\n",
              "  .colab-df-spinner {\n",
              "    border: 2px solid var(--fill-color);\n",
              "    border-color: transparent;\n",
              "    border-bottom-color: var(--fill-color);\n",
              "    animation:\n",
              "      spin 1s steps(1) infinite;\n",
              "  }\n",
              "\n",
              "  @keyframes spin {\n",
              "    0% {\n",
              "      border-color: transparent;\n",
              "      border-bottom-color: var(--fill-color);\n",
              "      border-left-color: var(--fill-color);\n",
              "    }\n",
              "    20% {\n",
              "      border-color: transparent;\n",
              "      border-left-color: var(--fill-color);\n",
              "      border-top-color: var(--fill-color);\n",
              "    }\n",
              "    30% {\n",
              "      border-color: transparent;\n",
              "      border-left-color: var(--fill-color);\n",
              "      border-top-color: var(--fill-color);\n",
              "      border-right-color: var(--fill-color);\n",
              "    }\n",
              "    40% {\n",
              "      border-color: transparent;\n",
              "      border-right-color: var(--fill-color);\n",
              "      border-top-color: var(--fill-color);\n",
              "    }\n",
              "    60% {\n",
              "      border-color: transparent;\n",
              "      border-right-color: var(--fill-color);\n",
              "    }\n",
              "    80% {\n",
              "      border-color: transparent;\n",
              "      border-right-color: var(--fill-color);\n",
              "      border-bottom-color: var(--fill-color);\n",
              "    }\n",
              "    90% {\n",
              "      border-color: transparent;\n",
              "      border-bottom-color: var(--fill-color);\n",
              "    }\n",
              "  }\n",
              "</style>\n",
              "\n",
              "  <script>\n",
              "    async function quickchart(key) {\n",
              "      const quickchartButtonEl =\n",
              "        document.querySelector('#' + key + ' button');\n",
              "      quickchartButtonEl.disabled = true;  // To prevent multiple clicks.\n",
              "      quickchartButtonEl.classList.add('colab-df-spinner');\n",
              "      try {\n",
              "        const charts = await google.colab.kernel.invokeFunction(\n",
              "            'suggestCharts', [key], {});\n",
              "      } catch (error) {\n",
              "        console.error('Error during call to suggestCharts:', error);\n",
              "      }\n",
              "      quickchartButtonEl.classList.remove('colab-df-spinner');\n",
              "      quickchartButtonEl.classList.add('colab-df-quickchart-complete');\n",
              "    }\n",
              "    (() => {\n",
              "      let quickchartButtonEl =\n",
              "        document.querySelector('#df-71be3ae7-191c-4706-b9e6-056ae7f7a664 button');\n",
              "      quickchartButtonEl.style.display =\n",
              "        google.colab.kernel.accessAllowed ? 'block' : 'none';\n",
              "    })();\n",
              "  </script>\n",
              "</div>\n",
              "\n",
              "  <div id=\"id_22c3d8c0-cfac-4788-8d91-766a1317fd98\">\n",
              "    <style>\n",
              "      .colab-df-generate {\n",
              "        background-color: #E8F0FE;\n",
              "        border: none;\n",
              "        border-radius: 50%;\n",
              "        cursor: pointer;\n",
              "        display: none;\n",
              "        fill: #1967D2;\n",
              "        height: 32px;\n",
              "        padding: 0 0 0 0;\n",
              "        width: 32px;\n",
              "      }\n",
              "\n",
              "      .colab-df-generate:hover {\n",
              "        background-color: #E2EBFA;\n",
              "        box-shadow: 0px 1px 2px rgba(60, 64, 67, 0.3), 0px 1px 3px 1px rgba(60, 64, 67, 0.15);\n",
              "        fill: #174EA6;\n",
              "      }\n",
              "\n",
              "      [theme=dark] .colab-df-generate {\n",
              "        background-color: #3B4455;\n",
              "        fill: #D2E3FC;\n",
              "      }\n",
              "\n",
              "      [theme=dark] .colab-df-generate:hover {\n",
              "        background-color: #434B5C;\n",
              "        box-shadow: 0px 1px 3px 1px rgba(0, 0, 0, 0.15);\n",
              "        filter: drop-shadow(0px 1px 2px rgba(0, 0, 0, 0.3));\n",
              "        fill: #FFFFFF;\n",
              "      }\n",
              "    </style>\n",
              "    <button class=\"colab-df-generate\" onclick=\"generateWithVariable('X')\"\n",
              "            title=\"Generate code using this dataframe.\"\n",
              "            style=\"display:none;\">\n",
              "\n",
              "  <svg xmlns=\"http://www.w3.org/2000/svg\" height=\"24px\"viewBox=\"0 0 24 24\"\n",
              "       width=\"24px\">\n",
              "    <path d=\"M7,19H8.4L18.45,9,17,7.55,7,17.6ZM5,21V16.75L18.45,3.32a2,2,0,0,1,2.83,0l1.4,1.43a1.91,1.91,0,0,1,.58,1.4,1.91,1.91,0,0,1-.58,1.4L9.25,21ZM18.45,9,17,7.55Zm-12,3A5.31,5.31,0,0,0,4.9,8.1,5.31,5.31,0,0,0,1,6.5,5.31,5.31,0,0,0,4.9,4.9,5.31,5.31,0,0,0,6.5,1,5.31,5.31,0,0,0,8.1,4.9,5.31,5.31,0,0,0,12,6.5,5.46,5.46,0,0,0,6.5,12Z\"/>\n",
              "  </svg>\n",
              "    </button>\n",
              "    <script>\n",
              "      (() => {\n",
              "      const buttonEl =\n",
              "        document.querySelector('#id_22c3d8c0-cfac-4788-8d91-766a1317fd98 button.colab-df-generate');\n",
              "      buttonEl.style.display =\n",
              "        google.colab.kernel.accessAllowed ? 'block' : 'none';\n",
              "\n",
              "      buttonEl.onclick = () => {\n",
              "        google.colab.notebook.generateWithVariable('X');\n",
              "      }\n",
              "      })();\n",
              "    </script>\n",
              "  </div>\n",
              "\n",
              "    </div>\n",
              "  </div>\n"
            ],
            "application/vnd.google.colaboratory.intrinsic+json": {
              "type": "dataframe",
              "variable_name": "X",
              "summary": "{\n  \"name\": \"X\",\n  \"rows\": 150,\n  \"fields\": [\n    {\n      \"column\": \"sepal.length\",\n      \"properties\": {\n        \"dtype\": \"number\",\n        \"std\": 0.8280661279778629,\n        \"min\": 4.3,\n        \"max\": 7.9,\n        \"num_unique_values\": 35,\n        \"samples\": [\n          6.2,\n          4.5,\n          5.6\n        ],\n        \"semantic_type\": \"\",\n        \"description\": \"\"\n      }\n    },\n    {\n      \"column\": \"sepal.width\",\n      \"properties\": {\n        \"dtype\": \"number\",\n        \"std\": 0.435866284936698,\n        \"min\": 2.0,\n        \"max\": 4.4,\n        \"num_unique_values\": 23,\n        \"samples\": [\n          2.3,\n          4.0,\n          3.5\n        ],\n        \"semantic_type\": \"\",\n        \"description\": \"\"\n      }\n    },\n    {\n      \"column\": \"petal.length\",\n      \"properties\": {\n        \"dtype\": \"number\",\n        \"std\": 1.7652982332594667,\n        \"min\": 1.0,\n        \"max\": 6.9,\n        \"num_unique_values\": 43,\n        \"samples\": [\n          6.7,\n          3.8,\n          3.7\n        ],\n        \"semantic_type\": \"\",\n        \"description\": \"\"\n      }\n    },\n    {\n      \"column\": \"petal.width\",\n      \"properties\": {\n        \"dtype\": \"number\",\n        \"std\": 0.7622376689603465,\n        \"min\": 0.1,\n        \"max\": 2.5,\n        \"num_unique_values\": 22,\n        \"samples\": [\n          0.2,\n          1.2,\n          1.3\n        ],\n        \"semantic_type\": \"\",\n        \"description\": \"\"\n      }\n    }\n  ]\n}"
            }
          },
          "metadata": {},
          "execution_count": 36
        }
      ]
    },
    {
      "cell_type": "code",
      "source": [
        "encoder = LabelEncoder()\n",
        "y_encoded = encoder.fit_transform(y)\n",
        "y_encoded"
      ],
      "metadata": {
        "colab": {
          "base_uri": "https://localhost:8080/"
        },
        "id": "aCcH1pDaHN0C",
        "outputId": "7e3d2b2b-e363-40a5-b41c-304e23b2e25a"
      },
      "execution_count": 37,
      "outputs": [
        {
          "output_type": "execute_result",
          "data": {
            "text/plain": [
              "array([0, 0, 0, 0, 0, 0, 0, 0, 0, 0, 0, 0, 0, 0, 0, 0, 0, 0, 0, 0, 0, 0,\n",
              "       0, 0, 0, 0, 0, 0, 0, 0, 0, 0, 0, 0, 0, 0, 0, 0, 0, 0, 0, 0, 0, 0,\n",
              "       0, 0, 0, 0, 0, 0, 1, 1, 1, 1, 1, 1, 1, 1, 1, 1, 1, 1, 1, 1, 1, 1,\n",
              "       1, 1, 1, 1, 1, 1, 1, 1, 1, 1, 1, 1, 1, 1, 1, 1, 1, 1, 1, 1, 1, 1,\n",
              "       1, 1, 1, 1, 1, 1, 1, 1, 1, 1, 1, 1, 2, 2, 2, 2, 2, 2, 2, 2, 2, 2,\n",
              "       2, 2, 2, 2, 2, 2, 2, 2, 2, 2, 2, 2, 2, 2, 2, 2, 2, 2, 2, 2, 2, 2,\n",
              "       2, 2, 2, 2, 2, 2, 2, 2, 2, 2, 2, 2, 2, 2, 2, 2, 2, 2])"
            ]
          },
          "metadata": {},
          "execution_count": 37
        }
      ]
    },
    {
      "cell_type": "code",
      "source": [
        "encoder.inverse_transform(y_encoded)"
      ],
      "metadata": {
        "colab": {
          "base_uri": "https://localhost:8080/"
        },
        "id": "_1WEGKbwHZqr",
        "outputId": "095b2b1d-7322-4262-b880-003f7764942e"
      },
      "execution_count": 38,
      "outputs": [
        {
          "output_type": "execute_result",
          "data": {
            "text/plain": [
              "array(['Setosa', 'Setosa', 'Setosa', 'Setosa', 'Setosa', 'Setosa',\n",
              "       'Setosa', 'Setosa', 'Setosa', 'Setosa', 'Setosa', 'Setosa',\n",
              "       'Setosa', 'Setosa', 'Setosa', 'Setosa', 'Setosa', 'Setosa',\n",
              "       'Setosa', 'Setosa', 'Setosa', 'Setosa', 'Setosa', 'Setosa',\n",
              "       'Setosa', 'Setosa', 'Setosa', 'Setosa', 'Setosa', 'Setosa',\n",
              "       'Setosa', 'Setosa', 'Setosa', 'Setosa', 'Setosa', 'Setosa',\n",
              "       'Setosa', 'Setosa', 'Setosa', 'Setosa', 'Setosa', 'Setosa',\n",
              "       'Setosa', 'Setosa', 'Setosa', 'Setosa', 'Setosa', 'Setosa',\n",
              "       'Setosa', 'Setosa', 'Versicolor', 'Versicolor', 'Versicolor',\n",
              "       'Versicolor', 'Versicolor', 'Versicolor', 'Versicolor',\n",
              "       'Versicolor', 'Versicolor', 'Versicolor', 'Versicolor',\n",
              "       'Versicolor', 'Versicolor', 'Versicolor', 'Versicolor',\n",
              "       'Versicolor', 'Versicolor', 'Versicolor', 'Versicolor',\n",
              "       'Versicolor', 'Versicolor', 'Versicolor', 'Versicolor',\n",
              "       'Versicolor', 'Versicolor', 'Versicolor', 'Versicolor',\n",
              "       'Versicolor', 'Versicolor', 'Versicolor', 'Versicolor',\n",
              "       'Versicolor', 'Versicolor', 'Versicolor', 'Versicolor',\n",
              "       'Versicolor', 'Versicolor', 'Versicolor', 'Versicolor',\n",
              "       'Versicolor', 'Versicolor', 'Versicolor', 'Versicolor',\n",
              "       'Versicolor', 'Versicolor', 'Versicolor', 'Versicolor',\n",
              "       'Versicolor', 'Versicolor', 'Versicolor', 'Virginica', 'Virginica',\n",
              "       'Virginica', 'Virginica', 'Virginica', 'Virginica', 'Virginica',\n",
              "       'Virginica', 'Virginica', 'Virginica', 'Virginica', 'Virginica',\n",
              "       'Virginica', 'Virginica', 'Virginica', 'Virginica', 'Virginica',\n",
              "       'Virginica', 'Virginica', 'Virginica', 'Virginica', 'Virginica',\n",
              "       'Virginica', 'Virginica', 'Virginica', 'Virginica', 'Virginica',\n",
              "       'Virginica', 'Virginica', 'Virginica', 'Virginica', 'Virginica',\n",
              "       'Virginica', 'Virginica', 'Virginica', 'Virginica', 'Virginica',\n",
              "       'Virginica', 'Virginica', 'Virginica', 'Virginica', 'Virginica',\n",
              "       'Virginica', 'Virginica', 'Virginica', 'Virginica', 'Virginica',\n",
              "       'Virginica', 'Virginica', 'Virginica'], dtype=object)"
            ]
          },
          "metadata": {},
          "execution_count": 38
        }
      ]
    },
    {
      "cell_type": "code",
      "source": [
        "# from sklearn.manifold import TSNE\n",
        "\n",
        "# if all the samples are bunched together in\n",
        "#. a scatter plot, try a new learning_rate\n",
        "model = TSNE(learning_rate=100)\n",
        "model"
      ],
      "metadata": {
        "colab": {
          "base_uri": "https://localhost:8080/",
          "height": 80
        },
        "id": "qzmMbgGRGQWu",
        "outputId": "964766a5-ce91-47b6-8f0f-ac473d6b4ac9"
      },
      "execution_count": 39,
      "outputs": [
        {
          "output_type": "execute_result",
          "data": {
            "text/plain": [
              "TSNE(learning_rate=100)"
            ],
            "text/html": [
              "<style>#sk-container-id-1 {\n",
              "  /* Definition of color scheme common for light and dark mode */\n",
              "  --sklearn-color-text: #000;\n",
              "  --sklearn-color-text-muted: #666;\n",
              "  --sklearn-color-line: gray;\n",
              "  /* Definition of color scheme for unfitted estimators */\n",
              "  --sklearn-color-unfitted-level-0: #fff5e6;\n",
              "  --sklearn-color-unfitted-level-1: #f6e4d2;\n",
              "  --sklearn-color-unfitted-level-2: #ffe0b3;\n",
              "  --sklearn-color-unfitted-level-3: chocolate;\n",
              "  /* Definition of color scheme for fitted estimators */\n",
              "  --sklearn-color-fitted-level-0: #f0f8ff;\n",
              "  --sklearn-color-fitted-level-1: #d4ebff;\n",
              "  --sklearn-color-fitted-level-2: #b3dbfd;\n",
              "  --sklearn-color-fitted-level-3: cornflowerblue;\n",
              "\n",
              "  /* Specific color for light theme */\n",
              "  --sklearn-color-text-on-default-background: var(--sg-text-color, var(--theme-code-foreground, var(--jp-content-font-color1, black)));\n",
              "  --sklearn-color-background: var(--sg-background-color, var(--theme-background, var(--jp-layout-color0, white)));\n",
              "  --sklearn-color-border-box: var(--sg-text-color, var(--theme-code-foreground, var(--jp-content-font-color1, black)));\n",
              "  --sklearn-color-icon: #696969;\n",
              "\n",
              "  @media (prefers-color-scheme: dark) {\n",
              "    /* Redefinition of color scheme for dark theme */\n",
              "    --sklearn-color-text-on-default-background: var(--sg-text-color, var(--theme-code-foreground, var(--jp-content-font-color1, white)));\n",
              "    --sklearn-color-background: var(--sg-background-color, var(--theme-background, var(--jp-layout-color0, #111)));\n",
              "    --sklearn-color-border-box: var(--sg-text-color, var(--theme-code-foreground, var(--jp-content-font-color1, white)));\n",
              "    --sklearn-color-icon: #878787;\n",
              "  }\n",
              "}\n",
              "\n",
              "#sk-container-id-1 {\n",
              "  color: var(--sklearn-color-text);\n",
              "}\n",
              "\n",
              "#sk-container-id-1 pre {\n",
              "  padding: 0;\n",
              "}\n",
              "\n",
              "#sk-container-id-1 input.sk-hidden--visually {\n",
              "  border: 0;\n",
              "  clip: rect(1px 1px 1px 1px);\n",
              "  clip: rect(1px, 1px, 1px, 1px);\n",
              "  height: 1px;\n",
              "  margin: -1px;\n",
              "  overflow: hidden;\n",
              "  padding: 0;\n",
              "  position: absolute;\n",
              "  width: 1px;\n",
              "}\n",
              "\n",
              "#sk-container-id-1 div.sk-dashed-wrapped {\n",
              "  border: 1px dashed var(--sklearn-color-line);\n",
              "  margin: 0 0.4em 0.5em 0.4em;\n",
              "  box-sizing: border-box;\n",
              "  padding-bottom: 0.4em;\n",
              "  background-color: var(--sklearn-color-background);\n",
              "}\n",
              "\n",
              "#sk-container-id-1 div.sk-container {\n",
              "  /* jupyter's `normalize.less` sets `[hidden] { display: none; }`\n",
              "     but bootstrap.min.css set `[hidden] { display: none !important; }`\n",
              "     so we also need the `!important` here to be able to override the\n",
              "     default hidden behavior on the sphinx rendered scikit-learn.org.\n",
              "     See: https://github.com/scikit-learn/scikit-learn/issues/21755 */\n",
              "  display: inline-block !important;\n",
              "  position: relative;\n",
              "}\n",
              "\n",
              "#sk-container-id-1 div.sk-text-repr-fallback {\n",
              "  display: none;\n",
              "}\n",
              "\n",
              "div.sk-parallel-item,\n",
              "div.sk-serial,\n",
              "div.sk-item {\n",
              "  /* draw centered vertical line to link estimators */\n",
              "  background-image: linear-gradient(var(--sklearn-color-text-on-default-background), var(--sklearn-color-text-on-default-background));\n",
              "  background-size: 2px 100%;\n",
              "  background-repeat: no-repeat;\n",
              "  background-position: center center;\n",
              "}\n",
              "\n",
              "/* Parallel-specific style estimator block */\n",
              "\n",
              "#sk-container-id-1 div.sk-parallel-item::after {\n",
              "  content: \"\";\n",
              "  width: 100%;\n",
              "  border-bottom: 2px solid var(--sklearn-color-text-on-default-background);\n",
              "  flex-grow: 1;\n",
              "}\n",
              "\n",
              "#sk-container-id-1 div.sk-parallel {\n",
              "  display: flex;\n",
              "  align-items: stretch;\n",
              "  justify-content: center;\n",
              "  background-color: var(--sklearn-color-background);\n",
              "  position: relative;\n",
              "}\n",
              "\n",
              "#sk-container-id-1 div.sk-parallel-item {\n",
              "  display: flex;\n",
              "  flex-direction: column;\n",
              "}\n",
              "\n",
              "#sk-container-id-1 div.sk-parallel-item:first-child::after {\n",
              "  align-self: flex-end;\n",
              "  width: 50%;\n",
              "}\n",
              "\n",
              "#sk-container-id-1 div.sk-parallel-item:last-child::after {\n",
              "  align-self: flex-start;\n",
              "  width: 50%;\n",
              "}\n",
              "\n",
              "#sk-container-id-1 div.sk-parallel-item:only-child::after {\n",
              "  width: 0;\n",
              "}\n",
              "\n",
              "/* Serial-specific style estimator block */\n",
              "\n",
              "#sk-container-id-1 div.sk-serial {\n",
              "  display: flex;\n",
              "  flex-direction: column;\n",
              "  align-items: center;\n",
              "  background-color: var(--sklearn-color-background);\n",
              "  padding-right: 1em;\n",
              "  padding-left: 1em;\n",
              "}\n",
              "\n",
              "\n",
              "/* Toggleable style: style used for estimator/Pipeline/ColumnTransformer box that is\n",
              "clickable and can be expanded/collapsed.\n",
              "- Pipeline and ColumnTransformer use this feature and define the default style\n",
              "- Estimators will overwrite some part of the style using the `sk-estimator` class\n",
              "*/\n",
              "\n",
              "/* Pipeline and ColumnTransformer style (default) */\n",
              "\n",
              "#sk-container-id-1 div.sk-toggleable {\n",
              "  /* Default theme specific background. It is overwritten whether we have a\n",
              "  specific estimator or a Pipeline/ColumnTransformer */\n",
              "  background-color: var(--sklearn-color-background);\n",
              "}\n",
              "\n",
              "/* Toggleable label */\n",
              "#sk-container-id-1 label.sk-toggleable__label {\n",
              "  cursor: pointer;\n",
              "  display: flex;\n",
              "  width: 100%;\n",
              "  margin-bottom: 0;\n",
              "  padding: 0.5em;\n",
              "  box-sizing: border-box;\n",
              "  text-align: center;\n",
              "  align-items: start;\n",
              "  justify-content: space-between;\n",
              "  gap: 0.5em;\n",
              "}\n",
              "\n",
              "#sk-container-id-1 label.sk-toggleable__label .caption {\n",
              "  font-size: 0.6rem;\n",
              "  font-weight: lighter;\n",
              "  color: var(--sklearn-color-text-muted);\n",
              "}\n",
              "\n",
              "#sk-container-id-1 label.sk-toggleable__label-arrow:before {\n",
              "  /* Arrow on the left of the label */\n",
              "  content: \"▸\";\n",
              "  float: left;\n",
              "  margin-right: 0.25em;\n",
              "  color: var(--sklearn-color-icon);\n",
              "}\n",
              "\n",
              "#sk-container-id-1 label.sk-toggleable__label-arrow:hover:before {\n",
              "  color: var(--sklearn-color-text);\n",
              "}\n",
              "\n",
              "/* Toggleable content - dropdown */\n",
              "\n",
              "#sk-container-id-1 div.sk-toggleable__content {\n",
              "  max-height: 0;\n",
              "  max-width: 0;\n",
              "  overflow: hidden;\n",
              "  text-align: left;\n",
              "  /* unfitted */\n",
              "  background-color: var(--sklearn-color-unfitted-level-0);\n",
              "}\n",
              "\n",
              "#sk-container-id-1 div.sk-toggleable__content.fitted {\n",
              "  /* fitted */\n",
              "  background-color: var(--sklearn-color-fitted-level-0);\n",
              "}\n",
              "\n",
              "#sk-container-id-1 div.sk-toggleable__content pre {\n",
              "  margin: 0.2em;\n",
              "  border-radius: 0.25em;\n",
              "  color: var(--sklearn-color-text);\n",
              "  /* unfitted */\n",
              "  background-color: var(--sklearn-color-unfitted-level-0);\n",
              "}\n",
              "\n",
              "#sk-container-id-1 div.sk-toggleable__content.fitted pre {\n",
              "  /* unfitted */\n",
              "  background-color: var(--sklearn-color-fitted-level-0);\n",
              "}\n",
              "\n",
              "#sk-container-id-1 input.sk-toggleable__control:checked~div.sk-toggleable__content {\n",
              "  /* Expand drop-down */\n",
              "  max-height: 200px;\n",
              "  max-width: 100%;\n",
              "  overflow: auto;\n",
              "}\n",
              "\n",
              "#sk-container-id-1 input.sk-toggleable__control:checked~label.sk-toggleable__label-arrow:before {\n",
              "  content: \"▾\";\n",
              "}\n",
              "\n",
              "/* Pipeline/ColumnTransformer-specific style */\n",
              "\n",
              "#sk-container-id-1 div.sk-label input.sk-toggleable__control:checked~label.sk-toggleable__label {\n",
              "  color: var(--sklearn-color-text);\n",
              "  background-color: var(--sklearn-color-unfitted-level-2);\n",
              "}\n",
              "\n",
              "#sk-container-id-1 div.sk-label.fitted input.sk-toggleable__control:checked~label.sk-toggleable__label {\n",
              "  background-color: var(--sklearn-color-fitted-level-2);\n",
              "}\n",
              "\n",
              "/* Estimator-specific style */\n",
              "\n",
              "/* Colorize estimator box */\n",
              "#sk-container-id-1 div.sk-estimator input.sk-toggleable__control:checked~label.sk-toggleable__label {\n",
              "  /* unfitted */\n",
              "  background-color: var(--sklearn-color-unfitted-level-2);\n",
              "}\n",
              "\n",
              "#sk-container-id-1 div.sk-estimator.fitted input.sk-toggleable__control:checked~label.sk-toggleable__label {\n",
              "  /* fitted */\n",
              "  background-color: var(--sklearn-color-fitted-level-2);\n",
              "}\n",
              "\n",
              "#sk-container-id-1 div.sk-label label.sk-toggleable__label,\n",
              "#sk-container-id-1 div.sk-label label {\n",
              "  /* The background is the default theme color */\n",
              "  color: var(--sklearn-color-text-on-default-background);\n",
              "}\n",
              "\n",
              "/* On hover, darken the color of the background */\n",
              "#sk-container-id-1 div.sk-label:hover label.sk-toggleable__label {\n",
              "  color: var(--sklearn-color-text);\n",
              "  background-color: var(--sklearn-color-unfitted-level-2);\n",
              "}\n",
              "\n",
              "/* Label box, darken color on hover, fitted */\n",
              "#sk-container-id-1 div.sk-label.fitted:hover label.sk-toggleable__label.fitted {\n",
              "  color: var(--sklearn-color-text);\n",
              "  background-color: var(--sklearn-color-fitted-level-2);\n",
              "}\n",
              "\n",
              "/* Estimator label */\n",
              "\n",
              "#sk-container-id-1 div.sk-label label {\n",
              "  font-family: monospace;\n",
              "  font-weight: bold;\n",
              "  display: inline-block;\n",
              "  line-height: 1.2em;\n",
              "}\n",
              "\n",
              "#sk-container-id-1 div.sk-label-container {\n",
              "  text-align: center;\n",
              "}\n",
              "\n",
              "/* Estimator-specific */\n",
              "#sk-container-id-1 div.sk-estimator {\n",
              "  font-family: monospace;\n",
              "  border: 1px dotted var(--sklearn-color-border-box);\n",
              "  border-radius: 0.25em;\n",
              "  box-sizing: border-box;\n",
              "  margin-bottom: 0.5em;\n",
              "  /* unfitted */\n",
              "  background-color: var(--sklearn-color-unfitted-level-0);\n",
              "}\n",
              "\n",
              "#sk-container-id-1 div.sk-estimator.fitted {\n",
              "  /* fitted */\n",
              "  background-color: var(--sklearn-color-fitted-level-0);\n",
              "}\n",
              "\n",
              "/* on hover */\n",
              "#sk-container-id-1 div.sk-estimator:hover {\n",
              "  /* unfitted */\n",
              "  background-color: var(--sklearn-color-unfitted-level-2);\n",
              "}\n",
              "\n",
              "#sk-container-id-1 div.sk-estimator.fitted:hover {\n",
              "  /* fitted */\n",
              "  background-color: var(--sklearn-color-fitted-level-2);\n",
              "}\n",
              "\n",
              "/* Specification for estimator info (e.g. \"i\" and \"?\") */\n",
              "\n",
              "/* Common style for \"i\" and \"?\" */\n",
              "\n",
              ".sk-estimator-doc-link,\n",
              "a:link.sk-estimator-doc-link,\n",
              "a:visited.sk-estimator-doc-link {\n",
              "  float: right;\n",
              "  font-size: smaller;\n",
              "  line-height: 1em;\n",
              "  font-family: monospace;\n",
              "  background-color: var(--sklearn-color-background);\n",
              "  border-radius: 1em;\n",
              "  height: 1em;\n",
              "  width: 1em;\n",
              "  text-decoration: none !important;\n",
              "  margin-left: 0.5em;\n",
              "  text-align: center;\n",
              "  /* unfitted */\n",
              "  border: var(--sklearn-color-unfitted-level-1) 1pt solid;\n",
              "  color: var(--sklearn-color-unfitted-level-1);\n",
              "}\n",
              "\n",
              ".sk-estimator-doc-link.fitted,\n",
              "a:link.sk-estimator-doc-link.fitted,\n",
              "a:visited.sk-estimator-doc-link.fitted {\n",
              "  /* fitted */\n",
              "  border: var(--sklearn-color-fitted-level-1) 1pt solid;\n",
              "  color: var(--sklearn-color-fitted-level-1);\n",
              "}\n",
              "\n",
              "/* On hover */\n",
              "div.sk-estimator:hover .sk-estimator-doc-link:hover,\n",
              ".sk-estimator-doc-link:hover,\n",
              "div.sk-label-container:hover .sk-estimator-doc-link:hover,\n",
              ".sk-estimator-doc-link:hover {\n",
              "  /* unfitted */\n",
              "  background-color: var(--sklearn-color-unfitted-level-3);\n",
              "  color: var(--sklearn-color-background);\n",
              "  text-decoration: none;\n",
              "}\n",
              "\n",
              "div.sk-estimator.fitted:hover .sk-estimator-doc-link.fitted:hover,\n",
              ".sk-estimator-doc-link.fitted:hover,\n",
              "div.sk-label-container:hover .sk-estimator-doc-link.fitted:hover,\n",
              ".sk-estimator-doc-link.fitted:hover {\n",
              "  /* fitted */\n",
              "  background-color: var(--sklearn-color-fitted-level-3);\n",
              "  color: var(--sklearn-color-background);\n",
              "  text-decoration: none;\n",
              "}\n",
              "\n",
              "/* Span, style for the box shown on hovering the info icon */\n",
              ".sk-estimator-doc-link span {\n",
              "  display: none;\n",
              "  z-index: 9999;\n",
              "  position: relative;\n",
              "  font-weight: normal;\n",
              "  right: .2ex;\n",
              "  padding: .5ex;\n",
              "  margin: .5ex;\n",
              "  width: min-content;\n",
              "  min-width: 20ex;\n",
              "  max-width: 50ex;\n",
              "  color: var(--sklearn-color-text);\n",
              "  box-shadow: 2pt 2pt 4pt #999;\n",
              "  /* unfitted */\n",
              "  background: var(--sklearn-color-unfitted-level-0);\n",
              "  border: .5pt solid var(--sklearn-color-unfitted-level-3);\n",
              "}\n",
              "\n",
              ".sk-estimator-doc-link.fitted span {\n",
              "  /* fitted */\n",
              "  background: var(--sklearn-color-fitted-level-0);\n",
              "  border: var(--sklearn-color-fitted-level-3);\n",
              "}\n",
              "\n",
              ".sk-estimator-doc-link:hover span {\n",
              "  display: block;\n",
              "}\n",
              "\n",
              "/* \"?\"-specific style due to the `<a>` HTML tag */\n",
              "\n",
              "#sk-container-id-1 a.estimator_doc_link {\n",
              "  float: right;\n",
              "  font-size: 1rem;\n",
              "  line-height: 1em;\n",
              "  font-family: monospace;\n",
              "  background-color: var(--sklearn-color-background);\n",
              "  border-radius: 1rem;\n",
              "  height: 1rem;\n",
              "  width: 1rem;\n",
              "  text-decoration: none;\n",
              "  /* unfitted */\n",
              "  color: var(--sklearn-color-unfitted-level-1);\n",
              "  border: var(--sklearn-color-unfitted-level-1) 1pt solid;\n",
              "}\n",
              "\n",
              "#sk-container-id-1 a.estimator_doc_link.fitted {\n",
              "  /* fitted */\n",
              "  border: var(--sklearn-color-fitted-level-1) 1pt solid;\n",
              "  color: var(--sklearn-color-fitted-level-1);\n",
              "}\n",
              "\n",
              "/* On hover */\n",
              "#sk-container-id-1 a.estimator_doc_link:hover {\n",
              "  /* unfitted */\n",
              "  background-color: var(--sklearn-color-unfitted-level-3);\n",
              "  color: var(--sklearn-color-background);\n",
              "  text-decoration: none;\n",
              "}\n",
              "\n",
              "#sk-container-id-1 a.estimator_doc_link.fitted:hover {\n",
              "  /* fitted */\n",
              "  background-color: var(--sklearn-color-fitted-level-3);\n",
              "}\n",
              "</style><div id=\"sk-container-id-1\" class=\"sk-top-container\"><div class=\"sk-text-repr-fallback\"><pre>TSNE(learning_rate=100)</pre><b>In a Jupyter environment, please rerun this cell to show the HTML representation or trust the notebook. <br />On GitHub, the HTML representation is unable to render, please try loading this page with nbviewer.org.</b></div><div class=\"sk-container\" hidden><div class=\"sk-item\"><div class=\"sk-estimator  sk-toggleable\"><input class=\"sk-toggleable__control sk-hidden--visually\" id=\"sk-estimator-id-1\" type=\"checkbox\" checked><label for=\"sk-estimator-id-1\" class=\"sk-toggleable__label  sk-toggleable__label-arrow\"><div><div>TSNE</div></div><div><a class=\"sk-estimator-doc-link \" rel=\"noreferrer\" target=\"_blank\" href=\"https://scikit-learn.org/1.6/modules/generated/sklearn.manifold.TSNE.html\">?<span>Documentation for TSNE</span></a><span class=\"sk-estimator-doc-link \">i<span>Not fitted</span></span></div></label><div class=\"sk-toggleable__content \"><pre>TSNE(learning_rate=100)</pre></div> </div></div></div></div>"
            ]
          },
          "metadata": {},
          "execution_count": 39
        }
      ]
    },
    {
      "cell_type": "code",
      "source": [
        "transformed = model.fit_transform(X)\n",
        "transformed"
      ],
      "metadata": {
        "colab": {
          "base_uri": "https://localhost:8080/"
        },
        "id": "ZQCRChxaGXoW",
        "outputId": "4d5c7e7c-b296-4000-e5e6-7748503fa5f2"
      },
      "execution_count": 40,
      "outputs": [
        {
          "output_type": "execute_result",
          "data": {
            "text/plain": [
              "array([[ 13.337736  ,  18.833061  ],\n",
              "       [ 15.916124  ,  19.248434  ],\n",
              "       [ 15.836995  ,  18.186625  ],\n",
              "       [ 16.19445   ,  18.363039  ],\n",
              "       [ 13.318111  ,  18.40735   ],\n",
              "       [ 11.399068  ,  18.65039   ],\n",
              "       [ 15.486806  ,  17.747366  ],\n",
              "       [ 14.057549  ,  18.856476  ],\n",
              "       [ 16.890434  ,  18.147165  ],\n",
              "       [ 15.48062   ,  19.171986  ],\n",
              "       [ 11.919901  ,  19.241453  ],\n",
              "       [ 14.706218  ,  18.373589  ],\n",
              "       [ 16.168766  ,  18.946878  ],\n",
              "       [ 16.988413  ,  17.674717  ],\n",
              "       [ 10.669121  ,  19.443615  ],\n",
              "       [ 10.449139  ,  18.923542  ],\n",
              "       [ 11.311633  ,  19.029129  ],\n",
              "       [ 13.284632  ,  18.826876  ],\n",
              "       [ 11.189862  ,  19.559624  ],\n",
              "       [ 12.262777  ,  18.39586   ],\n",
              "       [ 12.660234  ,  19.970057  ],\n",
              "       [ 12.571073  ,  18.433004  ],\n",
              "       [ 17.176424  ,  19.311756  ],\n",
              "       [ 13.873382  ,  19.938843  ],\n",
              "       [ 14.744102  ,  20.021973  ],\n",
              "       [ 15.55241   ,  19.650917  ],\n",
              "       [ 13.953558  ,  19.34855   ],\n",
              "       [ 12.959068  ,  19.172522  ],\n",
              "       [ 13.302986  ,  19.320019  ],\n",
              "       [ 15.52888   ,  18.441626  ],\n",
              "       [ 15.624939  ,  18.987923  ],\n",
              "       [ 12.663343  ,  19.831038  ],\n",
              "       [ 11.18949   ,  18.282515  ],\n",
              "       [ 10.724841  ,  18.805033  ],\n",
              "       [ 15.409296  ,  19.127342  ],\n",
              "       [ 14.896879  ,  18.80603   ],\n",
              "       [ 12.09312   ,  19.838451  ],\n",
              "       [ 13.788976  ,  18.079433  ],\n",
              "       [ 16.764168  ,  17.96886   ],\n",
              "       [ 13.701019  ,  19.123112  ],\n",
              "       [ 13.71457   ,  18.437466  ],\n",
              "       [ 17.599371  ,  18.28862   ],\n",
              "       [ 16.450209  ,  17.72559   ],\n",
              "       [ 13.166702  ,  17.823683  ],\n",
              "       [ 11.951258  ,  17.787079  ],\n",
              "       [ 16.14253   ,  18.927376  ],\n",
              "       [ 12.175238  ,  18.340393  ],\n",
              "       [ 15.9950485 ,  18.07381   ],\n",
              "       [ 12.146553  ,  19.035648  ],\n",
              "       [ 14.446151  ,  18.897453  ],\n",
              "       [ -9.2433405 ,  -6.8241534 ],\n",
              "       [ -7.459514  ,  -6.487791  ],\n",
              "       [ -9.424056  ,  -6.4060073 ],\n",
              "       [ -2.810926  ,  -8.241861  ],\n",
              "       [ -7.9740634 ,  -6.507186  ],\n",
              "       [ -4.5771384 ,  -6.918818  ],\n",
              "       [ -7.2412815 ,  -5.797163  ],\n",
              "       [ -1.5735636 ,  -9.064131  ],\n",
              "       [ -8.188313  ,  -6.829635  ],\n",
              "       [ -2.583871  ,  -7.913044  ],\n",
              "       [ -1.6162322 ,  -8.858036  ],\n",
              "       [ -5.050261  ,  -7.254315  ],\n",
              "       [ -3.7749605 ,  -9.282193  ],\n",
              "       [ -6.6081185 ,  -6.2027597 ],\n",
              "       [ -3.1095488 ,  -9.028979  ],\n",
              "       [ -8.292149  ,  -7.03451   ],\n",
              "       [ -4.597261  ,  -6.4929366 ],\n",
              "       [ -3.992157  ,  -8.376056  ],\n",
              "       [ -6.946178  ,  -8.482297  ],\n",
              "       [ -3.1212764 ,  -8.558154  ],\n",
              "       [ -6.674189  ,  -4.6368613 ],\n",
              "       [ -4.937219  ,  -8.1606045 ],\n",
              "       [ -8.3586235 ,  -5.273402  ],\n",
              "       [ -6.4669204 ,  -6.6369452 ],\n",
              "       [ -7.0531883 ,  -7.2357144 ],\n",
              "       [ -7.92883   ,  -7.001046  ],\n",
              "       [ -8.975711  ,  -6.504251  ],\n",
              "       [ -9.597367  ,  -5.5569897 ],\n",
              "       [ -5.925416  ,  -6.4998736 ],\n",
              "       [ -2.719874  ,  -9.224456  ],\n",
              "       [ -2.672628  ,  -8.646057  ],\n",
              "       [ -2.5155337 ,  -8.83013   ],\n",
              "       [ -3.718071  ,  -8.465593  ],\n",
              "       [ -8.087202  ,  -4.134028  ],\n",
              "       [ -4.201755  ,  -6.4825344 ],\n",
              "       [ -6.077912  ,  -5.5652213 ],\n",
              "       [ -8.748342  ,  -6.563157  ],\n",
              "       [ -6.7617292 ,  -8.428025  ],\n",
              "       [ -3.952455  ,  -7.4543266 ],\n",
              "       [ -3.0653517 ,  -8.115043  ],\n",
              "       [ -3.473321  ,  -7.2887096 ],\n",
              "       [ -6.4393315 ,  -6.3371744 ],\n",
              "       [ -3.751423  ,  -8.420407  ],\n",
              "       [ -1.6263659 ,  -9.064765  ],\n",
              "       [ -3.6743324 ,  -7.641379  ],\n",
              "       [ -4.313784  ,  -7.4878664 ],\n",
              "       [ -4.2686014 ,  -7.5149417 ],\n",
              "       [ -6.1482415 ,  -7.2717276 ],\n",
              "       [ -1.533102  ,  -9.22407   ],\n",
              "       [ -3.990449  ,  -7.8526864 ],\n",
              "       [-11.629745  ,  -0.61775565],\n",
              "       [ -7.522172  ,  -3.4170723 ],\n",
              "       [-13.111088  ,  -1.8106819 ],\n",
              "       [-10.895787  ,  -3.3873947 ],\n",
              "       [-11.92931   ,  -2.2118933 ],\n",
              "       [-14.435694  ,  -1.3378782 ],\n",
              "       [ -4.734581  ,  -9.574702  ],\n",
              "       [-14.041868  ,  -1.8763968 ],\n",
              "       [-12.272639  ,  -3.276866  ],\n",
              "       [-13.269444  ,  -0.7746733 ],\n",
              "       [-10.118872  ,  -2.4507859 ],\n",
              "       [-10.043118  ,  -3.4658852 ],\n",
              "       [-11.721918  ,  -2.1735387 ],\n",
              "       [ -7.2528224 ,  -3.1445763 ],\n",
              "       [ -7.5959234 ,  -2.6581414 ],\n",
              "       [-10.610588  ,  -1.6632174 ],\n",
              "       [-10.953322  ,  -3.11733   ],\n",
              "       [-14.260813  ,  -0.61953604],\n",
              "       [-14.806189  ,  -1.4277004 ],\n",
              "       [ -7.9193773 ,  -8.300631  ],\n",
              "       [-12.331639  ,  -1.4893725 ],\n",
              "       [ -6.959805  ,  -3.3227506 ],\n",
              "       [-14.61687   ,  -1.4496336 ],\n",
              "       [ -8.369132  ,  -4.575591  ],\n",
              "       [-12.051925  ,  -1.655062  ],\n",
              "       [-13.523269  ,  -1.9193438 ],\n",
              "       [ -7.8284564 ,  -4.7270246 ],\n",
              "       [ -7.4380345 ,  -4.513095  ],\n",
              "       [-11.366371  ,  -2.887693  ],\n",
              "       [-13.490855  ,  -2.351866  ],\n",
              "       [-13.954719  ,  -1.917647  ],\n",
              "       [-14.250073  ,  -0.630027  ],\n",
              "       [-11.433848  ,  -2.7258172 ],\n",
              "       [ -8.723594  ,  -4.780922  ],\n",
              "       [ -9.945569  ,  -4.2485485 ],\n",
              "       [-14.0709505 ,  -1.3213882 ],\n",
              "       [-11.075432  ,  -0.92039704],\n",
              "       [-10.832354  ,  -3.0990465 ],\n",
              "       [ -7.083036  ,  -4.58985   ],\n",
              "       [-11.609757  ,  -1.9786192 ],\n",
              "       [-11.697076  ,  -1.5000265 ],\n",
              "       [-10.856677  ,  -1.8221225 ],\n",
              "       [ -7.522172  ,  -3.4170723 ],\n",
              "       [-12.46161   ,  -1.3457892 ],\n",
              "       [-11.905378  ,  -1.057248  ],\n",
              "       [-10.839858  ,  -1.9660105 ],\n",
              "       [ -8.69557   ,  -4.129774  ],\n",
              "       [-10.30306   ,  -2.7115557 ],\n",
              "       [-10.565584  ,  -1.0903834 ],\n",
              "       [ -7.42985   ,  -3.9005094 ]], dtype=float32)"
            ]
          },
          "metadata": {},
          "execution_count": 40
        }
      ]
    },
    {
      "cell_type": "code",
      "source": [
        "xs = transformed[:, 0]\n",
        "ys = transformed[:, 1]\n",
        "\n",
        "scatter = plt.scatter(xs, ys, c=y_encoded)\n",
        "\n",
        "# Line2D creates a fake invisible line object, which we use as a legend entry\n",
        "# [0], [0] are dummy coordinates, not used visuall, just needed to create the object\n",
        "#. scatter.cmap retrives the colour from the colormap\n",
        "# Create a legend using encoder.classes_\n",
        "handles = [plt.Line2D([0], [0], marker=\"o\", color=\"w\", markerfacecolor=scatter.cmap(i / (len(encoder.classes_) - 1)), markersize=8)\n",
        "           for i in range(len(encoder.classes_))]\n",
        "\n",
        "plt.legend(handles, encoder.classes_, title='Species')\n",
        "plt.title('t-SNE Iris Dataset')\n",
        "plt.xlabel(\"t-SNE Component 1\")\n",
        "plt.ylabel(\"t-SNE Component 2\")\n",
        "\n",
        "plt.show()"
      ],
      "metadata": {
        "colab": {
          "base_uri": "https://localhost:8080/",
          "height": 472
        },
        "id": "WcIYJB_kGrz2",
        "outputId": "5dfc37de-d565-4a65-91ab-b64586c26db3"
      },
      "execution_count": 41,
      "outputs": [
        {
          "output_type": "display_data",
          "data": {
            "text/plain": [
              "<Figure size 640x480 with 1 Axes>"
            ],
            "image/png": "[encoded data removed]"
          },
          "metadata": {}
        }
      ]
    },
    {
      "cell_type": "markdown",
      "source": [
        "### t-SNE visualization of grain dataset"
      ],
      "metadata": {
        "id": "tn8XLnVFMrLY"
      }
    }
  ]
}