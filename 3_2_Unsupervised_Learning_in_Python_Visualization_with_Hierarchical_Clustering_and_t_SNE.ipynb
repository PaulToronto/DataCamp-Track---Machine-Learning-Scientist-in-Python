{
  "nbformat": 4,
  "nbformat_minor": 0,
  "metadata": {
    "colab": {
      "provenance": [],
      "toc_visible": true,
      "authorship_tag": "ABX9TyOEXWjZUl+RpWT67OmmCc3q",
      "include_colab_link": true
    },
    "kernelspec": {
      "name": "python3",
      "display_name": "Python 3"
    },
    "language_info": {
      "name": "python"
    }
  },
  "cells": [
    {
      "cell_type": "markdown",
      "metadata": {
        "id": "view-in-github",
        "colab_type": "text"
      },
      "source": [
        "<a href=\"https://colab.research.google.com/github/PaulToronto/DataCamp-Track---Machine-Learning-Scientist-in-Python/blob/main/3_2_Unsupervised_Learning_in_Python_Visualization_with_Hierarchical_Clustering_and_t_SNE.ipynb\" target=\"_parent\"><img src=\"https://colab.research.google.com/assets/colab-badge.svg\" alt=\"Open In Colab\"/></a>"
      ]
    },
    {
      "cell_type": "markdown",
      "source": [
        "# 3-2 Unsupervised Learning in Python - Visualization with Hierarchical Clustering and t-SNE"
      ],
      "metadata": {
        "id": "q-71Ob1MvXSZ"
      }
    },
    {
      "cell_type": "markdown",
      "source": [
        "## Imports"
      ],
      "metadata": {
        "id": "ewfiNeXWvhnu"
      }
    },
    {
      "cell_type": "code",
      "execution_count": 1,
      "metadata": {
        "id": "laUSOYTtvW1x"
      },
      "outputs": [],
      "source": [
        "import pandas as pd\n",
        "import numpy as np\n",
        "\n",
        "import matplotlib.pyplot as plt\n",
        "from scipy.cluster.hierarchy import linkage, dendrogram\n",
        "\n",
        "from sklearn.model_selection import train_test_split\n",
        "from sklearn.preprocessing import Normalizer, normalize"
      ]
    },
    {
      "cell_type": "markdown",
      "source": [
        "## Data"
      ],
      "metadata": {
        "id": "fLcSURQvvqCI"
      }
    },
    {
      "cell_type": "code",
      "source": [
        "data_base_url = 'https://drive.google.com/uc?id='\n",
        "image_base_url = 'https://drive.google.com/uc?export=view&id='"
      ],
      "metadata": {
        "id": "IhS0442zTFzo"
      },
      "execution_count": 2,
      "outputs": []
    },
    {
      "cell_type": "markdown",
      "source": [
        "### Eurovision scoring dataset\n",
        "\n",
        "https://eurovision.tv/history/full-split-results"
      ],
      "metadata": {
        "id": "u9a_OZZSTQIn"
      }
    },
    {
      "cell_type": "code",
      "source": [
        "id = '1rGY7U9BuQrbqh-K03E-lgNT_0Q_100sd'\n",
        "eurovision = pd.read_csv(data_base_url + id)\n",
        "eurovision.info()"
      ],
      "metadata": {
        "id": "Q6y-SOrgvreD",
        "colab": {
          "base_uri": "https://localhost:8080/"
        },
        "outputId": "899b6ec0-9520-48ef-cca7-df15e3751a95"
      },
      "execution_count": 3,
      "outputs": [
        {
          "output_type": "stream",
          "name": "stdout",
          "text": [
            "<class 'pandas.core.frame.DataFrame'>\n",
            "RangeIndex: 1066 entries, 0 to 1065\n",
            "Data columns (total 11 columns):\n",
            " #   Column           Non-Null Count  Dtype  \n",
            "---  ------           --------------  -----  \n",
            " 0   From country     1066 non-null   object \n",
            " 1   To country       1066 non-null   object \n",
            " 2   Jury A           1066 non-null   int64  \n",
            " 3   Jury B           1066 non-null   int64  \n",
            " 4   Jury C           1066 non-null   int64  \n",
            " 5   Jury D           1066 non-null   int64  \n",
            " 6   Jury E           1066 non-null   int64  \n",
            " 7   Jury Rank        1066 non-null   int64  \n",
            " 8   Televote Rank    1066 non-null   int64  \n",
            " 9   Jury Points      420 non-null    float64\n",
            " 10  Televote Points  420 non-null    float64\n",
            "dtypes: float64(2), int64(7), object(2)\n",
            "memory usage: 91.7+ KB\n"
          ]
        }
      ]
    },
    {
      "cell_type": "markdown",
      "source": [
        "### Grain data"
      ],
      "metadata": {
        "id": "Jw5PMGzYcelO"
      }
    },
    {
      "cell_type": "code",
      "source": [
        "data_url = 'https://drive.google.com/uc?id=1-sfcYNfZ3bC2K5AesWHcDiPiqTo1S_ie'\n",
        "seeds = pd.read_csv(data_url, header=None)\n",
        "seeds.info()"
      ],
      "metadata": {
        "colab": {
          "base_uri": "https://localhost:8080/"
        },
        "id": "ZXb2pDr_cf44",
        "outputId": "11982be1-0d19-42ed-a75a-fb0b27c47981"
      },
      "execution_count": 4,
      "outputs": [
        {
          "output_type": "stream",
          "name": "stdout",
          "text": [
            "<class 'pandas.core.frame.DataFrame'>\n",
            "RangeIndex: 210 entries, 0 to 209\n",
            "Data columns (total 8 columns):\n",
            " #   Column  Non-Null Count  Dtype  \n",
            "---  ------  --------------  -----  \n",
            " 0   0       210 non-null    float64\n",
            " 1   1       210 non-null    float64\n",
            " 2   2       210 non-null    float64\n",
            " 3   3       210 non-null    float64\n",
            " 4   4       210 non-null    float64\n",
            " 5   5       210 non-null    float64\n",
            " 6   6       210 non-null    float64\n",
            " 7   7       210 non-null    int64  \n",
            "dtypes: float64(7), int64(1)\n",
            "memory usage: 13.3 KB\n"
          ]
        }
      ]
    },
    {
      "cell_type": "markdown",
      "source": [
        "### Stock Movement"
      ],
      "metadata": {
        "id": "WaAKUCUmvbzj"
      }
    },
    {
      "cell_type": "code",
      "source": [
        "data_url = 'https://drive.google.com/uc?id=1tcU2IA8NDoWO-0LHbaOSYayB3_Kw7Wlc'\n",
        "stock_movement = pd.read_csv(data_url)\n",
        "stock_movement.info()"
      ],
      "metadata": {
        "colab": {
          "base_uri": "https://localhost:8080/"
        },
        "id": "eLijZYHcvdw5",
        "outputId": "274d8cd2-22a5-465f-a81c-b2eb5044473f"
      },
      "execution_count": 5,
      "outputs": [
        {
          "output_type": "stream",
          "name": "stdout",
          "text": [
            "<class 'pandas.core.frame.DataFrame'>\n",
            "RangeIndex: 60 entries, 0 to 59\n",
            "Columns: 964 entries, Unnamed: 0 to 2013-10-29\n",
            "dtypes: float64(963), object(1)\n",
            "memory usage: 452.0+ KB\n"
          ]
        }
      ]
    },
    {
      "cell_type": "code",
      "source": [
        "stock_movement = stock_movement.rename(columns={stock_movement.columns[0]: 'Company'})\n",
        "stock_movement.head()"
      ],
      "metadata": {
        "colab": {
          "base_uri": "https://localhost:8080/",
          "height": 290
        },
        "id": "pI-uyncYvkkK",
        "outputId": "04a65221-12eb-4356-88d5-84a836093858"
      },
      "execution_count": 6,
      "outputs": [
        {
          "output_type": "execute_result",
          "data": {
            "text/plain": [
              "            Company  2010-01-04  2010-01-05  2010-01-06  2010-01-07  \\\n",
              "0             Apple    0.580000   -0.220005   -3.409998   -1.170000   \n",
              "1               AIG   -0.640002   -0.650000   -0.210001   -0.420000   \n",
              "2            Amazon   -2.350006    1.260009   -2.350006   -2.009995   \n",
              "3  American express    0.109997    0.000000    0.260002    0.720002   \n",
              "4            Boeing    0.459999    1.770000    1.549999    2.690003   \n",
              "\n",
              "   2010-01-08  2010-01-11  2010-01-12  2010-01-13  2010-01-14  ...  \\\n",
              "0    1.680011   -2.689994   -1.469994    2.779997   -0.680003  ...   \n",
              "1    0.710001   -0.200001   -1.130001    0.069999   -0.119999  ...   \n",
              "2    2.960006   -2.309997   -1.640007    1.209999   -1.790001  ...   \n",
              "3    0.190003   -0.270001    0.750000    0.300004    0.639999  ...   \n",
              "4    0.059997   -1.080002    0.360000    0.549999    0.530002  ...   \n",
              "\n",
              "   2013-10-16  2013-10-17  2013-10-18  2013-10-21  2013-10-22  2013-10-23  \\\n",
              "0    0.320008    4.519997    2.899987    9.590019   -6.540016    5.959976   \n",
              "1    0.919998    0.709999    0.119999   -0.480000    0.010002   -0.279998   \n",
              "2    2.109985    3.699982    9.570008   -3.450013    4.820008   -4.079986   \n",
              "3    0.680001    2.290001    0.409996   -0.069999    0.100006    0.069999   \n",
              "4    1.559997    2.480003    0.019997   -1.220001    0.480003    3.020004   \n",
              "\n",
              "   2013-10-24  2013-10-25  2013-10-28  2013-10-29  \n",
              "0    6.910011   -5.359962    0.840019  -19.589981  \n",
              "1   -0.190003   -0.040001   -0.400002    0.660000  \n",
              "2    2.579986    4.790009   -1.760009    3.740021  \n",
              "3    0.130005    1.849999    0.040001    0.540001  \n",
              "4   -0.029999    1.940002    1.130005    0.309998  \n",
              "\n",
              "[5 rows x 964 columns]"
            ],
            "text/html": [
              "\n",
              "  <div id=\"df-3ebd5292-a7de-4ac6-891c-9428674d3275\" class=\"colab-df-container\">\n",
              "    <div>\n",
              "<style scoped>\n",
              "    .dataframe tbody tr th:only-of-type {\n",
              "        vertical-align: middle;\n",
              "    }\n",
              "\n",
              "    .dataframe tbody tr th {\n",
              "        vertical-align: top;\n",
              "    }\n",
              "\n",
              "    .dataframe thead th {\n",
              "        text-align: right;\n",
              "    }\n",
              "</style>\n",
              "<table border=\"1\" class=\"dataframe\">\n",
              "  <thead>\n",
              "    <tr style=\"text-align: right;\">\n",
              "      <th></th>\n",
              "      <th>Company</th>\n",
              "      <th>2010-01-04</th>\n",
              "      <th>2010-01-05</th>\n",
              "      <th>2010-01-06</th>\n",
              "      <th>2010-01-07</th>\n",
              "      <th>2010-01-08</th>\n",
              "      <th>2010-01-11</th>\n",
              "      <th>2010-01-12</th>\n",
              "      <th>2010-01-13</th>\n",
              "      <th>2010-01-14</th>\n",
              "      <th>...</th>\n",
              "      <th>2013-10-16</th>\n",
              "      <th>2013-10-17</th>\n",
              "      <th>2013-10-18</th>\n",
              "      <th>2013-10-21</th>\n",
              "      <th>2013-10-22</th>\n",
              "      <th>2013-10-23</th>\n",
              "      <th>2013-10-24</th>\n",
              "      <th>2013-10-25</th>\n",
              "      <th>2013-10-28</th>\n",
              "      <th>2013-10-29</th>\n",
              "    </tr>\n",
              "  </thead>\n",
              "  <tbody>\n",
              "    <tr>\n",
              "      <th>0</th>\n",
              "      <td>Apple</td>\n",
              "      <td>0.580000</td>\n",
              "      <td>-0.220005</td>\n",
              "      <td>-3.409998</td>\n",
              "      <td>-1.170000</td>\n",
              "      <td>1.680011</td>\n",
              "      <td>-2.689994</td>\n",
              "      <td>-1.469994</td>\n",
              "      <td>2.779997</td>\n",
              "      <td>-0.680003</td>\n",
              "      <td>...</td>\n",
              "      <td>0.320008</td>\n",
              "      <td>4.519997</td>\n",
              "      <td>2.899987</td>\n",
              "      <td>9.590019</td>\n",
              "      <td>-6.540016</td>\n",
              "      <td>5.959976</td>\n",
              "      <td>6.910011</td>\n",
              "      <td>-5.359962</td>\n",
              "      <td>0.840019</td>\n",
              "      <td>-19.589981</td>\n",
              "    </tr>\n",
              "    <tr>\n",
              "      <th>1</th>\n",
              "      <td>AIG</td>\n",
              "      <td>-0.640002</td>\n",
              "      <td>-0.650000</td>\n",
              "      <td>-0.210001</td>\n",
              "      <td>-0.420000</td>\n",
              "      <td>0.710001</td>\n",
              "      <td>-0.200001</td>\n",
              "      <td>-1.130001</td>\n",
              "      <td>0.069999</td>\n",
              "      <td>-0.119999</td>\n",
              "      <td>...</td>\n",
              "      <td>0.919998</td>\n",
              "      <td>0.709999</td>\n",
              "      <td>0.119999</td>\n",
              "      <td>-0.480000</td>\n",
              "      <td>0.010002</td>\n",
              "      <td>-0.279998</td>\n",
              "      <td>-0.190003</td>\n",
              "      <td>-0.040001</td>\n",
              "      <td>-0.400002</td>\n",
              "      <td>0.660000</td>\n",
              "    </tr>\n",
              "    <tr>\n",
              "      <th>2</th>\n",
              "      <td>Amazon</td>\n",
              "      <td>-2.350006</td>\n",
              "      <td>1.260009</td>\n",
              "      <td>-2.350006</td>\n",
              "      <td>-2.009995</td>\n",
              "      <td>2.960006</td>\n",
              "      <td>-2.309997</td>\n",
              "      <td>-1.640007</td>\n",
              "      <td>1.209999</td>\n",
              "      <td>-1.790001</td>\n",
              "      <td>...</td>\n",
              "      <td>2.109985</td>\n",
              "      <td>3.699982</td>\n",
              "      <td>9.570008</td>\n",
              "      <td>-3.450013</td>\n",
              "      <td>4.820008</td>\n",
              "      <td>-4.079986</td>\n",
              "      <td>2.579986</td>\n",
              "      <td>4.790009</td>\n",
              "      <td>-1.760009</td>\n",
              "      <td>3.740021</td>\n",
              "    </tr>\n",
              "    <tr>\n",
              "      <th>3</th>\n",
              "      <td>American express</td>\n",
              "      <td>0.109997</td>\n",
              "      <td>0.000000</td>\n",
              "      <td>0.260002</td>\n",
              "      <td>0.720002</td>\n",
              "      <td>0.190003</td>\n",
              "      <td>-0.270001</td>\n",
              "      <td>0.750000</td>\n",
              "      <td>0.300004</td>\n",
              "      <td>0.639999</td>\n",
              "      <td>...</td>\n",
              "      <td>0.680001</td>\n",
              "      <td>2.290001</td>\n",
              "      <td>0.409996</td>\n",
              "      <td>-0.069999</td>\n",
              "      <td>0.100006</td>\n",
              "      <td>0.069999</td>\n",
              "      <td>0.130005</td>\n",
              "      <td>1.849999</td>\n",
              "      <td>0.040001</td>\n",
              "      <td>0.540001</td>\n",
              "    </tr>\n",
              "    <tr>\n",
              "      <th>4</th>\n",
              "      <td>Boeing</td>\n",
              "      <td>0.459999</td>\n",
              "      <td>1.770000</td>\n",
              "      <td>1.549999</td>\n",
              "      <td>2.690003</td>\n",
              "      <td>0.059997</td>\n",
              "      <td>-1.080002</td>\n",
              "      <td>0.360000</td>\n",
              "      <td>0.549999</td>\n",
              "      <td>0.530002</td>\n",
              "      <td>...</td>\n",
              "      <td>1.559997</td>\n",
              "      <td>2.480003</td>\n",
              "      <td>0.019997</td>\n",
              "      <td>-1.220001</td>\n",
              "      <td>0.480003</td>\n",
              "      <td>3.020004</td>\n",
              "      <td>-0.029999</td>\n",
              "      <td>1.940002</td>\n",
              "      <td>1.130005</td>\n",
              "      <td>0.309998</td>\n",
              "    </tr>\n",
              "  </tbody>\n",
              "</table>\n",
              "<p>5 rows × 964 columns</p>\n",
              "</div>\n",
              "    <div class=\"colab-df-buttons\">\n",
              "\n",
              "  <div class=\"colab-df-container\">\n",
              "    <button class=\"colab-df-convert\" onclick=\"convertToInteractive('df-3ebd5292-a7de-4ac6-891c-9428674d3275')\"\n",
              "            title=\"Convert this dataframe to an interactive table.\"\n",
              "            style=\"display:none;\">\n",
              "\n",
              "  <svg xmlns=\"http://www.w3.org/2000/svg\" height=\"24px\" viewBox=\"0 -960 960 960\">\n",
              "    <path d=\"M120-120v-720h720v720H120Zm60-500h600v-160H180v160Zm220 220h160v-160H400v160Zm0 220h160v-160H400v160ZM180-400h160v-160H180v160Zm440 0h160v-160H620v160ZM180-180h160v-160H180v160Zm440 0h160v-160H620v160Z\"/>\n",
              "  </svg>\n",
              "    </button>\n",
              "\n",
              "  <style>\n",
              "    .colab-df-container {\n",
              "      display:flex;\n",
              "      gap: 12px;\n",
              "    }\n",
              "\n",
              "    .colab-df-convert {\n",
              "      background-color: #E8F0FE;\n",
              "      border: none;\n",
              "      border-radius: 50%;\n",
              "      cursor: pointer;\n",
              "      display: none;\n",
              "      fill: #1967D2;\n",
              "      height: 32px;\n",
              "      padding: 0 0 0 0;\n",
              "      width: 32px;\n",
              "    }\n",
              "\n",
              "    .colab-df-convert:hover {\n",
              "      background-color: #E2EBFA;\n",
              "      box-shadow: 0px 1px 2px rgba(60, 64, 67, 0.3), 0px 1px 3px 1px rgba(60, 64, 67, 0.15);\n",
              "      fill: #174EA6;\n",
              "    }\n",
              "\n",
              "    .colab-df-buttons div {\n",
              "      margin-bottom: 4px;\n",
              "    }\n",
              "\n",
              "    [theme=dark] .colab-df-convert {\n",
              "      background-color: #3B4455;\n",
              "      fill: #D2E3FC;\n",
              "    }\n",
              "\n",
              "    [theme=dark] .colab-df-convert:hover {\n",
              "      background-color: #434B5C;\n",
              "      box-shadow: 0px 1px 3px 1px rgba(0, 0, 0, 0.15);\n",
              "      filter: drop-shadow(0px 1px 2px rgba(0, 0, 0, 0.3));\n",
              "      fill: #FFFFFF;\n",
              "    }\n",
              "  </style>\n",
              "\n",
              "    <script>\n",
              "      const buttonEl =\n",
              "        document.querySelector('#df-3ebd5292-a7de-4ac6-891c-9428674d3275 button.colab-df-convert');\n",
              "      buttonEl.style.display =\n",
              "        google.colab.kernel.accessAllowed ? 'block' : 'none';\n",
              "\n",
              "      async function convertToInteractive(key) {\n",
              "        const element = document.querySelector('#df-3ebd5292-a7de-4ac6-891c-9428674d3275');\n",
              "        const dataTable =\n",
              "          await google.colab.kernel.invokeFunction('convertToInteractive',\n",
              "                                                    [key], {});\n",
              "        if (!dataTable) return;\n",
              "\n",
              "        const docLinkHtml = 'Like what you see? Visit the ' +\n",
              "          '<a target=\"_blank\" href=https://colab.research.google.com/notebooks/data_table.ipynb>data table notebook</a>'\n",
              "          + ' to learn more about interactive tables.';\n",
              "        element.innerHTML = '';\n",
              "        dataTable['output_type'] = 'display_data';\n",
              "        await google.colab.output.renderOutput(dataTable, element);\n",
              "        const docLink = document.createElement('div');\n",
              "        docLink.innerHTML = docLinkHtml;\n",
              "        element.appendChild(docLink);\n",
              "      }\n",
              "    </script>\n",
              "  </div>\n",
              "\n",
              "\n",
              "<div id=\"df-d9a86593-fd6e-40b2-a4c9-8b5f53bd8306\">\n",
              "  <button class=\"colab-df-quickchart\" onclick=\"quickchart('df-d9a86593-fd6e-40b2-a4c9-8b5f53bd8306')\"\n",
              "            title=\"Suggest charts\"\n",
              "            style=\"display:none;\">\n",
              "\n",
              "<svg xmlns=\"http://www.w3.org/2000/svg\" height=\"24px\"viewBox=\"0 0 24 24\"\n",
              "     width=\"24px\">\n",
              "    <g>\n",
              "        <path d=\"M19 3H5c-1.1 0-2 .9-2 2v14c0 1.1.9 2 2 2h14c1.1 0 2-.9 2-2V5c0-1.1-.9-2-2-2zM9 17H7v-7h2v7zm4 0h-2V7h2v10zm4 0h-2v-4h2v4z\"/>\n",
              "    </g>\n",
              "</svg>\n",
              "  </button>\n",
              "\n",
              "<style>\n",
              "  .colab-df-quickchart {\n",
              "      --bg-color: #E8F0FE;\n",
              "      --fill-color: #1967D2;\n",
              "      --hover-bg-color: #E2EBFA;\n",
              "      --hover-fill-color: #174EA6;\n",
              "      --disabled-fill-color: #AAA;\n",
              "      --disabled-bg-color: #DDD;\n",
              "  }\n",
              "\n",
              "  [theme=dark] .colab-df-quickchart {\n",
              "      --bg-color: #3B4455;\n",
              "      --fill-color: #D2E3FC;\n",
              "      --hover-bg-color: #434B5C;\n",
              "      --hover-fill-color: #FFFFFF;\n",
              "      --disabled-bg-color: #3B4455;\n",
              "      --disabled-fill-color: #666;\n",
              "  }\n",
              "\n",
              "  .colab-df-quickchart {\n",
              "    background-color: var(--bg-color);\n",
              "    border: none;\n",
              "    border-radius: 50%;\n",
              "    cursor: pointer;\n",
              "    display: none;\n",
              "    fill: var(--fill-color);\n",
              "    height: 32px;\n",
              "    padding: 0;\n",
              "    width: 32px;\n",
              "  }\n",
              "\n",
              "  .colab-df-quickchart:hover {\n",
              "    background-color: var(--hover-bg-color);\n",
              "    box-shadow: 0 1px 2px rgba(60, 64, 67, 0.3), 0 1px 3px 1px rgba(60, 64, 67, 0.15);\n",
              "    fill: var(--button-hover-fill-color);\n",
              "  }\n",
              "\n",
              "  .colab-df-quickchart-complete:disabled,\n",
              "  .colab-df-quickchart-complete:disabled:hover {\n",
              "    background-color: var(--disabled-bg-color);\n",
              "    fill: var(--disabled-fill-color);\n",
              "    box-shadow: none;\n",
              "  }\n",
              "\n",
              "  .colab-df-spinner {\n",
              "    border: 2px solid var(--fill-color);\n",
              "    border-color: transparent;\n",
              "    border-bottom-color: var(--fill-color);\n",
              "    animation:\n",
              "      spin 1s steps(1) infinite;\n",
              "  }\n",
              "\n",
              "  @keyframes spin {\n",
              "    0% {\n",
              "      border-color: transparent;\n",
              "      border-bottom-color: var(--fill-color);\n",
              "      border-left-color: var(--fill-color);\n",
              "    }\n",
              "    20% {\n",
              "      border-color: transparent;\n",
              "      border-left-color: var(--fill-color);\n",
              "      border-top-color: var(--fill-color);\n",
              "    }\n",
              "    30% {\n",
              "      border-color: transparent;\n",
              "      border-left-color: var(--fill-color);\n",
              "      border-top-color: var(--fill-color);\n",
              "      border-right-color: var(--fill-color);\n",
              "    }\n",
              "    40% {\n",
              "      border-color: transparent;\n",
              "      border-right-color: var(--fill-color);\n",
              "      border-top-color: var(--fill-color);\n",
              "    }\n",
              "    60% {\n",
              "      border-color: transparent;\n",
              "      border-right-color: var(--fill-color);\n",
              "    }\n",
              "    80% {\n",
              "      border-color: transparent;\n",
              "      border-right-color: var(--fill-color);\n",
              "      border-bottom-color: var(--fill-color);\n",
              "    }\n",
              "    90% {\n",
              "      border-color: transparent;\n",
              "      border-bottom-color: var(--fill-color);\n",
              "    }\n",
              "  }\n",
              "</style>\n",
              "\n",
              "  <script>\n",
              "    async function quickchart(key) {\n",
              "      const quickchartButtonEl =\n",
              "        document.querySelector('#' + key + ' button');\n",
              "      quickchartButtonEl.disabled = true;  // To prevent multiple clicks.\n",
              "      quickchartButtonEl.classList.add('colab-df-spinner');\n",
              "      try {\n",
              "        const charts = await google.colab.kernel.invokeFunction(\n",
              "            'suggestCharts', [key], {});\n",
              "      } catch (error) {\n",
              "        console.error('Error during call to suggestCharts:', error);\n",
              "      }\n",
              "      quickchartButtonEl.classList.remove('colab-df-spinner');\n",
              "      quickchartButtonEl.classList.add('colab-df-quickchart-complete');\n",
              "    }\n",
              "    (() => {\n",
              "      let quickchartButtonEl =\n",
              "        document.querySelector('#df-d9a86593-fd6e-40b2-a4c9-8b5f53bd8306 button');\n",
              "      quickchartButtonEl.style.display =\n",
              "        google.colab.kernel.accessAllowed ? 'block' : 'none';\n",
              "    })();\n",
              "  </script>\n",
              "</div>\n",
              "\n",
              "    </div>\n",
              "  </div>\n"
            ],
            "application/vnd.google.colaboratory.intrinsic+json": {
              "type": "dataframe",
              "variable_name": "stock_movement"
            }
          },
          "metadata": {},
          "execution_count": 6
        }
      ]
    },
    {
      "cell_type": "markdown",
      "source": [
        "## Visualizing hierarchies"
      ],
      "metadata": {
        "id": "aj2028wSvsAr"
      }
    },
    {
      "cell_type": "markdown",
      "source": [
        "### Visualization communiate insight\n",
        "\n",
        "- **t-SNE (t-Distributed Stochastic Neighbor Embedding)**: Create a 2D map of a dataset\n",
        "    - Conveys useful imformation about the proximity of the samples to one anther\n",
        "- **Hierarchical clustering**: Arranges samples into a hierarchy of clusters"
      ],
      "metadata": {
        "id": "gkazIwozRecf"
      }
    },
    {
      "cell_type": "markdown",
      "source": [
        "### A hierarchy of groups\n",
        "\n",
        "- Groups of living things can form a hierarchy\n",
        "- Clusters are contained in one another\n",
        "- Can organize any sort of data into a hierarchy (not just samples plants and animals)"
      ],
      "metadata": {
        "id": "TFRn6nenSem6"
      }
    },
    {
      "cell_type": "markdown",
      "source": [
        "### Eurovisin scoring\n",
        "\n",
        "- Countries gave scores to songs performed at the Eurovision 2016\n",
        "- 2D array of scores"
      ],
      "metadata": {
        "id": "Zbqwf3QAUhf5"
      }
    },
    {
      "cell_type": "markdown",
      "source": [
        "### Dendogram\n",
        "\n",
        "- Hierarchical clustering of voting customers\n",
        "\n",
        "<img src='https://drive.google.com/uc?export=view&id=1o7KutSR-JCkQEFJWb2iRoQE_8a9JGKPp'/>\n",
        ""
      ],
      "metadata": {
        "id": "95auJjmwXbHq"
      }
    },
    {
      "cell_type": "markdown",
      "source": [
        "### How does hierarchical clustering work?\n",
        "\n",
        "- Every country begins in a separate cluster\n",
        "- At each step, the two closest clusters are merged\n",
        "- Continue until all countries in a single cluster\n",
        "- This is called **agglomerative heirarchical clustering**\n",
        "- The entire process of the clustering is encoded in the dendogram\n",
        "    - At the bottom, each country is in a cluster of its own\n",
        "    - The clustering then proceeds from the bottom up\n",
        "    - Clusters are represented as vertical lines, and joining of vertical lines indicates a merging of clusters"
      ],
      "metadata": {
        "id": "3P3fRYarYr7F"
      }
    },
    {
      "cell_type": "markdown",
      "source": [
        "### Hierarchial clustering with `scipy`\n",
        "\n",
        "- Given `samples` (the array of scores), and `country_names`\n",
        "\n",
        "```python\n",
        "import matplotlib.pyplot as plt\n",
        "from scipy.cluster.hierarchy import linkage, dendogram\n",
        "\n",
        "# the linkage functionm performs the hierarchical clustering\n",
        "mergings = linkage(samples, method='complete')\n",
        "\n",
        "dendogram(mergings,\n",
        "          labels=country_names,\n",
        "          leaf_rotation=90,\n",
        "          leaf_font_size=6)\n",
        "          \n",
        "plt.show()\n",
        "```"
      ],
      "metadata": {
        "id": "ocrs_hBGaR-p"
      }
    },
    {
      "cell_type": "markdown",
      "source": [
        "### How many merges?\n",
        "\n",
        "- With $n$ data samples, there would be $n - 1$ merges."
      ],
      "metadata": {
        "id": "R1cz7CIxb3Wo"
      }
    },
    {
      "cell_type": "markdown",
      "source": [
        "## Understanding mergings\n",
        "\n",
        "The `mergings` array has shape $(n - 1, 4)$ where $n$ is the number of original data points in `samples`\n",
        "\n",
        "- Column 0: Index of the first cluster being merged\n",
        "- Column 1: Index of the second cluster being merged\n",
        "- Column 2: Distance (linkage criterion) between the two merged clusters\n",
        "- Column 3: Number of original samples (data points) contained in the new cluster after merging"
      ],
      "metadata": {
        "id": "egHCajZOeg61"
      }
    },
    {
      "cell_type": "code",
      "source": [
        "# Example data (4 samples with 2 features each)\n",
        "samples = np.array([\n",
        "    [1.0, 2.0], # Index 0\n",
        "    [1.5, 1.8], # Index 1\n",
        "    [5.0, 8.0], # Index 2\n",
        "    [8.0, 8.0]  # Index 3\n",
        "])\n",
        "\n",
        "mergings = linkage(samples, method='complete')\n",
        "mergings"
      ],
      "metadata": {
        "colab": {
          "base_uri": "https://localhost:8080/"
        },
        "id": "DU97a6iChNvm",
        "outputId": "06852bc7-54d9-4366-9728-8ba8e723c068"
      },
      "execution_count": 7,
      "outputs": [
        {
          "output_type": "execute_result",
          "data": {
            "text/plain": [
              "array([[0.        , 1.        , 0.53851648, 2.        ],\n",
              "       [2.        , 3.        , 3.        , 2.        ],\n",
              "       [4.        , 5.        , 9.21954446, 4.        ]])"
            ]
          },
          "metadata": {},
          "execution_count": 7
        }
      ]
    },
    {
      "cell_type": "code",
      "source": [
        "col0 = samples[0]\n",
        "col1 = samples[1]\n",
        "col2 = samples[2]\n",
        "col3 = samples[3]\n",
        "\n",
        "# Eucliean distance\n",
        "np.linalg.norm(col0 - col1), np.linalg.norm(col2 - col3)"
      ],
      "metadata": {
        "colab": {
          "base_uri": "https://localhost:8080/"
        },
        "id": "cD5ay0esjiIr",
        "outputId": "e03304dc-3702-4a62-81ab-7e485838e0f9"
      },
      "execution_count": 8,
      "outputs": [
        {
          "output_type": "execute_result",
          "data": {
            "text/plain": [
              "(0.5385164807134504, 3.0)"
            ]
          },
          "metadata": {},
          "execution_count": 8
        }
      ]
    },
    {
      "cell_type": "code",
      "source": [
        "cluster4 = samples[0:2]\n",
        "cluster5 = samples[2:]\n",
        "cluster4, cluster5"
      ],
      "metadata": {
        "colab": {
          "base_uri": "https://localhost:8080/"
        },
        "id": "HYbNP8tmlVQU",
        "outputId": "6bc08296-97cc-4a7c-a548-aecb1849f1ae"
      },
      "execution_count": 9,
      "outputs": [
        {
          "output_type": "execute_result",
          "data": {
            "text/plain": [
              "(array([[1. , 2. ],\n",
              "        [1.5, 1.8]]),\n",
              " array([[5., 8.],\n",
              "        [8., 8.]]))"
            ]
          },
          "metadata": {},
          "execution_count": 9
        }
      ]
    },
    {
      "cell_type": "code",
      "source": [
        "distance_a1 = np.linalg.norm(cluster4[0] - cluster5[0])\n",
        "distance_a2 = np.linalg.norm(cluster4[0] - cluster5[1])\n",
        "distance_b1 = np.linalg.norm(cluster4[1] - cluster5[0])\n",
        "distance_b2 = np.linalg.norm(cluster4[1] - cluster5[1])\n",
        "distance_a1, distance_a2, distance_b1, distance_b2"
      ],
      "metadata": {
        "colab": {
          "base_uri": "https://localhost:8080/"
        },
        "id": "KMuWIhw1nyOl",
        "outputId": "5a7e2e96-da02-4ba2-8b01-11618ae28423"
      },
      "execution_count": 10,
      "outputs": [
        {
          "output_type": "execute_result",
          "data": {
            "text/plain": [
              "(7.211102550927978, 9.219544457292887, 7.119691004531026, 8.98276126811795)"
            ]
          },
          "metadata": {},
          "execution_count": 10
        }
      ]
    },
    {
      "cell_type": "code",
      "source": [
        "np.max([distance_a1, distance_a2, distance_b1, distance_b2])"
      ],
      "metadata": {
        "colab": {
          "base_uri": "https://localhost:8080/"
        },
        "id": "ibXpy-NtozsO",
        "outputId": "9d0e6ece-1794-40ad-f363-c90301938ae7"
      },
      "execution_count": 11,
      "outputs": [
        {
          "output_type": "execute_result",
          "data": {
            "text/plain": [
              "9.219544457292887"
            ]
          },
          "metadata": {},
          "execution_count": 11
        }
      ]
    },
    {
      "cell_type": "code",
      "source": [
        "# Loop over each point in cluster4\n",
        "distance_matrix = []\n",
        "for a in cluster4:\n",
        "    row_distances = []  # Store distances for this row\n",
        "    for b in cluster5:\n",
        "        distance = np.linalg.norm(a - b)  # Compute Euclidean distance\n",
        "        row_distances.append(distance)   # Append distance to row\n",
        "    distance_matrix.append(row_distances)  # Append row to matrix\n",
        "\n",
        "# Convert list of lists to NumPy array\n",
        "distances = np.array(distance_matrix)\n",
        "\n",
        "# Compute Complete Linkage distance (maximum distance in matrix)\n",
        "max_distance = np.max(distances)\n",
        "\n",
        "# Print results\n",
        "print(\"Pairwise Distance Matrix:\\n\", distances)\n",
        "print(\"Complete Linkage Distance:\", max_distance)"
      ],
      "metadata": {
        "colab": {
          "base_uri": "https://localhost:8080/"
        },
        "id": "iOsF5GEdltSk",
        "outputId": "bf944764-be89-4a3b-b966-886117c7c58f"
      },
      "execution_count": 12,
      "outputs": [
        {
          "output_type": "stream",
          "name": "stdout",
          "text": [
            "Pairwise Distance Matrix:\n",
            " [[7.21110255 9.21954446]\n",
            " [7.119691   8.98276127]]\n",
            "Complete Linkage Distance: 9.219544457292887\n"
          ]
        }
      ]
    },
    {
      "cell_type": "code",
      "source": [
        "distances = np.array([[np.linalg.norm(a - b) for b in cluster5] for a in cluster4])\n",
        "distances, np.max(distances)"
      ],
      "metadata": {
        "colab": {
          "base_uri": "https://localhost:8080/"
        },
        "id": "7CgZ3rivo8SB",
        "outputId": "2d0bb378-f49d-4adf-b3db-a398cbecfe92"
      },
      "execution_count": 13,
      "outputs": [
        {
          "output_type": "execute_result",
          "data": {
            "text/plain": [
              "(array([[7.21110255, 9.21954446],\n",
              "        [7.119691  , 8.98276127]]),\n",
              " 9.219544457292887)"
            ]
          },
          "metadata": {},
          "execution_count": 13
        }
      ]
    },
    {
      "cell_type": "code",
      "source": [
        "dendrogram(mergings,\n",
        "           labels=[0, 1, 2, 3],\n",
        "           leaf_rotation=0,\n",
        "           leaf_font_size=12)\n",
        "\n",
        "plt.ylabel('Distances')\n",
        "plt.xlabel('Sample Index')\n",
        "plt.show()"
      ],
      "metadata": {
        "colab": {
          "base_uri": "https://localhost:8080/",
          "height": 453
        },
        "id": "v9wpMU1xpbl6",
        "outputId": "f2215eea-4037-41fd-cabd-9519c8fdc92b"
      },
      "execution_count": 14,
      "outputs": [
        {
          "output_type": "display_data",
          "data": {
            "text/plain": [
              "<Figure size 640x480 with 1 Axes>"
            ],
            "image/png": "[encoded data removed]"
          },
          "metadata": {}
        }
      ]
    },
    {
      "cell_type": "markdown",
      "source": [
        "- For the indices, the numbers from $0$ to $n - 1$ correspond to the rows in `samples`\n",
        "- New clusters are assigned starting at $n$, then $n + 1$, etc.\n",
        "- This continues until all data points are merged into **one final cluster**"
      ],
      "metadata": {
        "id": "lMqk0hKSiO_z"
      }
    },
    {
      "cell_type": "markdown",
      "source": [
        "### Hierarchical clustering of grain data"
      ],
      "metadata": {
        "id": "avOYPkK8csIJ"
      }
    },
    {
      "cell_type": "code",
      "source": [
        "X = seeds.iloc[:, 0:-1].to_numpy()\n",
        "y = seeds.iloc[:, -1].to_numpy()\n",
        "X.shape, y.shape"
      ],
      "metadata": {
        "colab": {
          "base_uri": "https://localhost:8080/"
        },
        "id": "ob7j3Wbpcyvd",
        "outputId": "17eb73f7-5ed0-4c18-f7b9-18dd6dc6a856"
      },
      "execution_count": 15,
      "outputs": [
        {
          "output_type": "execute_result",
          "data": {
            "text/plain": [
              "((210, 7), (210,))"
            ]
          },
          "metadata": {},
          "execution_count": 15
        }
      ]
    },
    {
      "cell_type": "code",
      "source": [
        "# easier to view a dendogram with less data\n",
        "_, samples, _, varieties = train_test_split(X, y, test_size=0.2, random_state=42, stratify=y)\n",
        "samples.shape, varieties.shape"
      ],
      "metadata": {
        "colab": {
          "base_uri": "https://localhost:8080/"
        },
        "id": "_GbgMsY2sL4D",
        "outputId": "b120b087-c68c-4cc3-8a1a-815ba2511713"
      },
      "execution_count": 16,
      "outputs": [
        {
          "output_type": "execute_result",
          "data": {
            "text/plain": [
              "((42, 7), (42,))"
            ]
          },
          "metadata": {},
          "execution_count": 16
        }
      ]
    },
    {
      "cell_type": "code",
      "source": [
        "mapping = {1: 'Kama wheat', 2: 'Rosa wheat', 3: 'Canadian wheat'}\n",
        "\n",
        "varieties = np.vectorize(mapping.get)(varieties)\n",
        "varieties"
      ],
      "metadata": {
        "colab": {
          "base_uri": "https://localhost:8080/"
        },
        "id": "KJ2epB7zr91m",
        "outputId": "4de6846a-eb2f-47cb-eac5-e1c85c388a7f"
      },
      "execution_count": 17,
      "outputs": [
        {
          "output_type": "execute_result",
          "data": {
            "text/plain": [
              "array(['Kama wheat', 'Canadian wheat', 'Rosa wheat', 'Canadian wheat',\n",
              "       'Rosa wheat', 'Canadian wheat', 'Rosa wheat', 'Kama wheat',\n",
              "       'Rosa wheat', 'Rosa wheat', 'Kama wheat', 'Canadian wheat',\n",
              "       'Rosa wheat', 'Rosa wheat', 'Canadian wheat', 'Kama wheat',\n",
              "       'Canadian wheat', 'Kama wheat', 'Canadian wheat', 'Kama wheat',\n",
              "       'Kama wheat', 'Canadian wheat', 'Rosa wheat', 'Kama wheat',\n",
              "       'Rosa wheat', 'Kama wheat', 'Kama wheat', 'Kama wheat',\n",
              "       'Canadian wheat', 'Kama wheat', 'Canadian wheat', 'Rosa wheat',\n",
              "       'Kama wheat', 'Canadian wheat', 'Canadian wheat', 'Rosa wheat',\n",
              "       'Rosa wheat', 'Rosa wheat', 'Canadian wheat', 'Kama wheat',\n",
              "       'Canadian wheat', 'Rosa wheat'], dtype='<U14')"
            ]
          },
          "metadata": {},
          "execution_count": 17
        }
      ]
    },
    {
      "cell_type": "code",
      "source": [
        "mergings = linkage(samples, method='complete')\n",
        "type(mergings), mergings.shape"
      ],
      "metadata": {
        "colab": {
          "base_uri": "https://localhost:8080/"
        },
        "id": "ZX4Zbtr4dspK",
        "outputId": "afb8d0f1-439e-4178-f60b-1a11a02aa63c"
      },
      "execution_count": 18,
      "outputs": [
        {
          "output_type": "execute_result",
          "data": {
            "text/plain": [
              "(numpy.ndarray, (41, 4))"
            ]
          },
          "metadata": {},
          "execution_count": 18
        }
      ]
    },
    {
      "cell_type": "code",
      "source": [
        "plt.figure(figsize=(20, 20))\n",
        "\n",
        "dendrogram(\n",
        "    mergings,\n",
        "    labels=varieties,\n",
        "    leaf_rotation=90,\n",
        "    leaf_font_size=12\n",
        ")\n",
        "\n",
        "plt.show()"
      ],
      "metadata": {
        "colab": {
          "base_uri": "https://localhost:8080/",
          "height": 1000
        },
        "id": "pIbJX59PqRxZ",
        "outputId": "dd77cd30-c488-4936-e7e7-5a219590e86c"
      },
      "execution_count": 19,
      "outputs": [
        {
          "output_type": "display_data",
          "data": {
            "text/plain": [
              "<Figure size 2000x2000 with 1 Axes>"
            ],
            "image/png": "[encoded data removed]"
          },
          "metadata": {}
        }
      ]
    },
    {
      "cell_type": "markdown",
      "source": [
        "### Hierarchies of stocks"
      ],
      "metadata": {
        "id": "d1UfAGKCvJub"
      }
    },
    {
      "cell_type": "code",
      "source": [
        "movements = stock_movement.iloc[:, 1:].to_numpy()\n",
        "companies = stock_movement['Company'].to_numpy()\n",
        "movements.shape, companies.shape"
      ],
      "metadata": {
        "colab": {
          "base_uri": "https://localhost:8080/"
        },
        "id": "jmls6mQTvwUS",
        "outputId": "73ba7049-18fe-48f8-eff5-2a1b93998c86"
      },
      "execution_count": 20,
      "outputs": [
        {
          "output_type": "execute_result",
          "data": {
            "text/plain": [
              "((60, 963), (60,))"
            ]
          },
          "metadata": {},
          "execution_count": 20
        }
      ]
    },
    {
      "cell_type": "code",
      "source": [
        "my_normalizer = Normalizer()\n",
        "test = my_normalizer.fit_transform(movements)\n",
        "test"
      ],
      "metadata": {
        "colab": {
          "base_uri": "https://localhost:8080/"
        },
        "id": "pu4kg6hivxs3",
        "outputId": "88a96859-420d-4be4-dc6a-c4802d19db49"
      },
      "execution_count": 21,
      "outputs": [
        {
          "output_type": "execute_result",
          "data": {
            "text/plain": [
              "array([[ 0.00302051, -0.00114574, -0.01775851, ..., -0.02791349,\n",
              "         0.00437463, -0.10202026],\n",
              "       [-0.02599391, -0.02639998, -0.00852927, ..., -0.00162466,\n",
              "        -0.01624623,  0.02680614],\n",
              "       [-0.02208986,  0.01184398, -0.02208986, ...,  0.04502568,\n",
              "        -0.01654394,  0.03515588],\n",
              "       ...,\n",
              "       [ 0.01981027,  0.01059598,  0.02626006, ..., -0.01197837,\n",
              "         0.01842816,  0.02211388],\n",
              "       [ 0.0200991 ,  0.00223323, -0.01786587, ..., -0.0066997 ,\n",
              "         0.00446647, -0.0066997 ],\n",
              "       [ 0.01796837,  0.00112314,  0.        , ..., -0.00673829,\n",
              "         0.02919855,  0.01123007]])"
            ]
          },
          "metadata": {},
          "execution_count": 21
        }
      ]
    },
    {
      "cell_type": "code",
      "source": [
        "normalized_movements = normalize(movements)\n",
        "normalized_movements"
      ],
      "metadata": {
        "colab": {
          "base_uri": "https://localhost:8080/"
        },
        "id": "ZURZNs_hw9Hq",
        "outputId": "ba847e6d-16e4-4f48-c9d2-97b8bf1de525"
      },
      "execution_count": 22,
      "outputs": [
        {
          "output_type": "execute_result",
          "data": {
            "text/plain": [
              "array([[ 0.00302051, -0.00114574, -0.01775851, ..., -0.02791349,\n",
              "         0.00437463, -0.10202026],\n",
              "       [-0.02599391, -0.02639998, -0.00852927, ..., -0.00162466,\n",
              "        -0.01624623,  0.02680614],\n",
              "       [-0.02208986,  0.01184398, -0.02208986, ...,  0.04502568,\n",
              "        -0.01654394,  0.03515588],\n",
              "       ...,\n",
              "       [ 0.01981027,  0.01059598,  0.02626006, ..., -0.01197837,\n",
              "         0.01842816,  0.02211388],\n",
              "       [ 0.0200991 ,  0.00223323, -0.01786587, ..., -0.0066997 ,\n",
              "         0.00446647, -0.0066997 ],\n",
              "       [ 0.01796837,  0.00112314,  0.        , ..., -0.00673829,\n",
              "         0.02919855,  0.01123007]])"
            ]
          },
          "metadata": {},
          "execution_count": 22
        }
      ]
    },
    {
      "cell_type": "code",
      "source": [
        "# the normalize method is more convenient than\n",
        "#. creating your own Normalizer\n",
        "np.sum(test - normalized_movements)"
      ],
      "metadata": {
        "colab": {
          "base_uri": "https://localhost:8080/"
        },
        "id": "9ndkaHcUxD0w",
        "outputId": "dfae5ad7-3042-482d-c665-0af332268a5e"
      },
      "execution_count": 23,
      "outputs": [
        {
          "output_type": "execute_result",
          "data": {
            "text/plain": [
              "0.0"
            ]
          },
          "metadata": {},
          "execution_count": 23
        }
      ]
    },
    {
      "cell_type": "code",
      "source": [
        "mergings = linkage(normalized_movements, method='complete')"
      ],
      "metadata": {
        "id": "Fwz-4kzTx_0B"
      },
      "execution_count": 24,
      "outputs": []
    },
    {
      "cell_type": "code",
      "source": [
        "plt.figure(figsize=(16, 16))\n",
        "\n",
        "dendrogram(\n",
        "    mergings,\n",
        "    labels=companies,\n",
        "    leaf_rotation=90,\n",
        "    leaf_font_size=12\n",
        ")\n",
        "\n",
        "plt.show()"
      ],
      "metadata": {
        "colab": {
          "base_uri": "https://localhost:8080/",
          "height": 1000
        },
        "id": "71KHltmVyjAF",
        "outputId": "25a65722-4587-466b-e71d-88b28313fd75"
      },
      "execution_count": 25,
      "outputs": [
        {
          "output_type": "display_data",
          "data": {
            "text/plain": [
              "<Figure size 1600x1600 with 1 Axes>"
            ],
            "image/png": "[encoded data removed]"
          },
          "metadata": {}
        }
      ]
    }
  ]
}