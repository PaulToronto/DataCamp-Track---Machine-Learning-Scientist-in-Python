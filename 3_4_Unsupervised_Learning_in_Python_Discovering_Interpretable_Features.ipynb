{
  "nbformat": 4,
  "nbformat_minor": 0,
  "metadata": {
    "colab": {
      "provenance": [],
      "toc_visible": true,
      "authorship_tag": "ABX9TyOA0lzOAMo9w07257c8WxoG",
      "include_colab_link": true
    },
    "kernelspec": {
      "name": "python3",
      "display_name": "Python 3"
    },
    "language_info": {
      "name": "python"
    }
  },
  "cells": [
    {
      "cell_type": "markdown",
      "metadata": {
        "id": "view-in-github",
        "colab_type": "text"
      },
      "source": [
        "<a href=\"https://colab.research.google.com/github/PaulToronto/DataCamp-Track---Machine-Learning-Scientist-in-Python/blob/main/3_4_Unsupervised_Learning_in_Python_Discovering_Interpretable_Features.ipynb\" target=\"_parent\"><img src=\"https://colab.research.google.com/assets/colab-badge.svg\" alt=\"Open In Colab\"/></a>"
      ]
    },
    {
      "cell_type": "markdown",
      "source": [
        "# 3-4 Unsupervised Learning in Python - Discovering Interpretable Features"
      ],
      "metadata": {
        "id": "eFiU7AoJajDi"
      }
    },
    {
      "cell_type": "markdown",
      "source": [
        "## Imports"
      ],
      "metadata": {
        "id": "wOdUTC08apx4"
      }
    },
    {
      "cell_type": "code",
      "execution_count": null,
      "metadata": {
        "id": "o2X_HDdtaYZx"
      },
      "outputs": [],
      "source": []
    },
    {
      "cell_type": "markdown",
      "source": [
        "## Data"
      ],
      "metadata": {
        "id": "5TIoaFdpasLL"
      }
    },
    {
      "cell_type": "code",
      "source": [
        "data_base_url = 'https://drive.google.com/uc?id='"
      ],
      "metadata": {
        "id": "qU-5A1hhayKB"
      },
      "execution_count": 1,
      "outputs": []
    },
    {
      "cell_type": "markdown",
      "source": [
        "## Non-negative matrix factorization (NMF)"
      ],
      "metadata": {
        "id": "Z906axKLa0pJ"
      }
    }
  ]
}