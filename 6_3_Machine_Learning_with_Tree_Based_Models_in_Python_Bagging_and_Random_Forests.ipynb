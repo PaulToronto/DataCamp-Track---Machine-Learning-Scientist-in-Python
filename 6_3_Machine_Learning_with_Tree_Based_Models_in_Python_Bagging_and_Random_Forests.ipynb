{
  "nbformat": 4,
  "nbformat_minor": 0,
  "metadata": {
    "colab": {
      "provenance": [],
      "toc_visible": true,
      "authorship_tag": "ABX9TyMfRDaHskTOQD7s/sdo6vX/",
      "include_colab_link": true
    },
    "kernelspec": {
      "name": "python3",
      "display_name": "Python 3"
    },
    "language_info": {
      "name": "python"
    }
  },
  "cells": [
    {
      "cell_type": "markdown",
      "metadata": {
        "id": "view-in-github",
        "colab_type": "text"
      },
      "source": [
        "<a href=\"https://colab.research.google.com/github/PaulToronto/DataCamp-Track---Machine-Learning-Scientist-in-Python/blob/main/6_3_Machine_Learning_with_Tree_Based_Models_in_Python_Bagging_and_Random_Forests.ipynb\" target=\"_parent\"><img src=\"https://colab.research.google.com/assets/colab-badge.svg\" alt=\"Open In Colab\"/></a>"
      ]
    },
    {
      "cell_type": "markdown",
      "source": [
        "# 6-3 Machine Learning with Tree-Based Models in Python - Bagging and Random Forests"
      ],
      "metadata": {
        "id": "rwXSGbtGejtC"
      }
    },
    {
      "cell_type": "markdown",
      "source": [
        "## Imports"
      ],
      "metadata": {
        "id": "6MAmU5ZYeqOi"
      }
    },
    {
      "cell_type": "code",
      "execution_count": null,
      "metadata": {
        "id": "_cDx5rEheau9"
      },
      "outputs": [],
      "source": []
    },
    {
      "cell_type": "markdown",
      "source": [
        "## Data"
      ],
      "metadata": {
        "id": "R8P32TWceuDz"
      }
    },
    {
      "cell_type": "code",
      "source": [],
      "metadata": {
        "id": "S6Di9WDzewMi"
      },
      "execution_count": null,
      "outputs": []
    },
    {
      "cell_type": "markdown",
      "source": [
        "## Bagging\n",
        "\n",
        "- Bagging is an ensemble method\n",
        "- Bagging is also known as Bootstrap aggregation"
      ],
      "metadata": {
        "id": "NbsR0WdtewuQ"
      }
    },
    {
      "cell_type": "markdown",
      "source": [
        "### Ensemble Methods\n",
        "\n",
        "- Voting Classifier\n",
        "  - *same training set*\n",
        "  - *uses different algorithms*\n",
        "- Bagging\n",
        "  - *different subsets of the traing set*(\n",
        "  - *one algorithm*"
      ],
      "metadata": {
        "id": "idHY55qNgK8e"
      }
    },
    {
      "cell_type": "markdown",
      "source": [
        "### Bagging\n",
        "\n",
        "- stands for **Bootstrap Aggregation**\n",
        "- Using a technique known as teh **bootstrap**\n",
        "- Bagging has the effect of **reducing the variance of individual models in the ensemble**"
      ],
      "metadata": {
        "id": "PGV7aKmahXgh"
      }
    },
    {
      "cell_type": "markdown",
      "source": [
        "### Bootstrap\n",
        "\n",
        "<img src='https://drive.google.com/uc?export=view&id=1NmalHUHte1C4sTjGqwS3jkvMFvQV3j3E'>\n",
        "\n",
        "- Consider the case where you have 3 balls, labeled A, B and C\n",
        "- A bootstrop is a sample drawo from this **with replacement**\n",
        "  - \"With replacement\" means any ball can be drawn many times"
      ],
      "metadata": {
        "id": "LYs4EoNchi_L"
      }
    },
    {
      "cell_type": "markdown",
      "source": [
        "### Bagging: Training"
      ],
      "metadata": {
        "id": "Zf57Ejk1j6fn"
      }
    }
  ]
}