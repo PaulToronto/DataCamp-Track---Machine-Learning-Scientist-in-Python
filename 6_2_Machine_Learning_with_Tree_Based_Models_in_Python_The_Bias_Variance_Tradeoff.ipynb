{
  "nbformat": 4,
  "nbformat_minor": 0,
  "metadata": {
    "colab": {
      "provenance": [],
      "toc_visible": true,
      "authorship_tag": "ABX9TyNcSeN1nJxG1zepnxqo1pTK",
      "include_colab_link": true
    },
    "kernelspec": {
      "name": "python3",
      "display_name": "Python 3"
    },
    "language_info": {
      "name": "python"
    }
  },
  "cells": [
    {
      "cell_type": "markdown",
      "metadata": {
        "id": "view-in-github",
        "colab_type": "text"
      },
      "source": [
        "<a href=\"https://colab.research.google.com/github/PaulToronto/DataCamp-Track---Machine-Learning-Scientist-in-Python/blob/main/6_2_Machine_Learning_with_Tree_Based_Models_in_Python_The_Bias_Variance_Tradeoff.ipynb\" target=\"_parent\"><img src=\"https://colab.research.google.com/assets/colab-badge.svg\" alt=\"Open In Colab\"/></a>"
      ]
    },
    {
      "cell_type": "markdown",
      "source": [
        "# 6-2 Machine Learning with Tree-Based Models in Python - The Bias-Variance Tradeoff."
      ],
      "metadata": {
        "id": "S0KoK_X5NxT9"
      }
    },
    {
      "cell_type": "markdown",
      "source": [
        "## Imports"
      ],
      "metadata": {
        "id": "y_nCXq14NzN6"
      }
    },
    {
      "cell_type": "code",
      "execution_count": null,
      "metadata": {
        "id": "ecZa2DtaNoXB"
      },
      "outputs": [],
      "source": []
    },
    {
      "cell_type": "markdown",
      "source": [
        "## Data"
      ],
      "metadata": {
        "id": "ZEuVw8VZN1q5"
      }
    },
    {
      "cell_type": "code",
      "source": [],
      "metadata": {
        "id": "ksElC_6dN3F-"
      },
      "execution_count": null,
      "outputs": []
    },
    {
      "cell_type": "markdown",
      "source": [
        "## Generalization Error"
      ],
      "metadata": {
        "id": "Hpy3aO07N3uB"
      }
    }
  ]
}