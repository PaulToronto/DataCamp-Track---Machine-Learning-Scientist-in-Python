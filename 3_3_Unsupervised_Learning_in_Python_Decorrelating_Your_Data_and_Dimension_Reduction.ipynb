{
  "nbformat": 4,
  "nbformat_minor": 0,
  "metadata": {
    "colab": {
      "provenance": [],
      "toc_visible": true,
      "authorship_tag": "ABX9TyNd+WQnr25nZag6j16uucVf",
      "include_colab_link": true
    },
    "kernelspec": {
      "name": "python3",
      "display_name": "Python 3"
    },
    "language_info": {
      "name": "python"
    }
  },
  "cells": [
    {
      "cell_type": "markdown",
      "metadata": {
        "id": "view-in-github",
        "colab_type": "text"
      },
      "source": [
        "<a href=\"https://colab.research.google.com/github/PaulToronto/DataCamp-Track---Machine-Learning-Scientist-in-Python/blob/main/3_3_Unsupervised_Learning_in_Python_Decorrelating_Your_Data_and_Dimension_Reduction.ipynb\" target=\"_parent\"><img src=\"https://colab.research.google.com/assets/colab-badge.svg\" alt=\"Open In Colab\"/></a>"
      ]
    },
    {
      "cell_type": "markdown",
      "source": [
        "# 3-3 Unsupervised Learning in Python - Decorrelating Your Data and Dimension Reduction"
      ],
      "metadata": {
        "id": "dn50dNdDYm2J"
      }
    },
    {
      "cell_type": "markdown",
      "source": [
        "## Imports"
      ],
      "metadata": {
        "id": "ch_D1G9lYq8X"
      }
    },
    {
      "cell_type": "code",
      "execution_count": null,
      "metadata": {
        "id": "IKsw4th8YM3n"
      },
      "outputs": [],
      "source": []
    },
    {
      "cell_type": "markdown",
      "source": [
        "## Data"
      ],
      "metadata": {
        "id": "SW6d4rukYsxW"
      }
    },
    {
      "cell_type": "code",
      "source": [],
      "metadata": {
        "id": "llsQxWDRYthz"
      },
      "execution_count": null,
      "outputs": []
    },
    {
      "cell_type": "markdown",
      "source": [
        "## Visualizing the PCA transformation"
      ],
      "metadata": {
        "id": "5Se5Ose7Yy_C"
      }
    }
  ]
}