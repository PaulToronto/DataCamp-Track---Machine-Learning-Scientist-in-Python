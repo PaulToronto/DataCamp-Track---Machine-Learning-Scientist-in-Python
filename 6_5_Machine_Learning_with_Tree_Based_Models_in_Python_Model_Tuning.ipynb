{
  "nbformat": 4,
  "nbformat_minor": 0,
  "metadata": {
    "colab": {
      "provenance": [],
      "toc_visible": true,
      "authorship_tag": "ABX9TyOyNF9nZmdGOlh0d9M23kAz",
      "include_colab_link": true
    },
    "kernelspec": {
      "name": "python3",
      "display_name": "Python 3"
    },
    "language_info": {
      "name": "python"
    }
  },
  "cells": [
    {
      "cell_type": "markdown",
      "metadata": {
        "id": "view-in-github",
        "colab_type": "text"
      },
      "source": [
        "<a href=\"https://colab.research.google.com/github/PaulToronto/DataCamp-Track---Machine-Learning-Scientist-in-Python/blob/main/6_5_Machine_Learning_with_Tree_Based_Models_in_Python_Model_Tuning.ipynb\" target=\"_parent\"><img src=\"https://colab.research.google.com/assets/colab-badge.svg\" alt=\"Open In Colab\"/></a>"
      ]
    },
    {
      "cell_type": "markdown",
      "source": [
        "# 6-5 Machine Learning with Tree-Based Models in Python - Model Tuning."
      ],
      "metadata": {
        "id": "qtgMOYtiOn4a"
      }
    },
    {
      "cell_type": "markdown",
      "source": [
        "## Imports"
      ],
      "metadata": {
        "id": "1zHWjCNoOqMo"
      }
    },
    {
      "cell_type": "code",
      "execution_count": 1,
      "metadata": {
        "id": "TIwi1jTLOf0C"
      },
      "outputs": [],
      "source": [
        "import pandas as pd"
      ]
    },
    {
      "cell_type": "markdown",
      "source": [
        "## Data"
      ],
      "metadata": {
        "id": "j1flFF64OsCi"
      }
    },
    {
      "cell_type": "code",
      "source": [
        "base_url = 'https://drive.google.com/uc?id='"
      ],
      "metadata": {
        "id": "iUkT_7l6OuCm"
      },
      "execution_count": 2,
      "outputs": []
    },
    {
      "cell_type": "markdown",
      "source": [
        "## Tuning a CART's Hyperparameters"
      ],
      "metadata": {
        "id": "jGMMTpPSO2rv"
      }
    }
  ]
}