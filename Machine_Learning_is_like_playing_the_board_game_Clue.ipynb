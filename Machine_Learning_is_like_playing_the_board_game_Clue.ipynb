{
  "nbformat": 4,
  "nbformat_minor": 0,
  "metadata": {
    "colab": {
      "provenance": [],
      "authorship_tag": "ABX9TyOp2gHTI3lGvfyM/cqs2ViH",
      "include_colab_link": true
    },
    "kernelspec": {
      "name": "python3",
      "display_name": "Python 3"
    },
    "language_info": {
      "name": "python"
    }
  },
  "cells": [
    {
      "cell_type": "markdown",
      "metadata": {
        "id": "view-in-github",
        "colab_type": "text"
      },
      "source": [
        "<a href=\"https://colab.research.google.com/github/PaulToronto/DataCamp-Track---Machine-Learning-Scientist-in-Python/blob/main/Machine_Learning_is_like_playing_the_board_game_Clue.ipynb\" target=\"_parent\"><img src=\"https://colab.research.google.com/assets/colab-badge.svg\" alt=\"Open In Colab\"/></a>"
      ]
    },
    {
      "cell_type": "markdown",
      "source": [
        "     +----------------------+\n",
        "     | 1. Define Goal        |\n",
        "     | (Accuracy? RMSE?)     |\n",
        "     +----------+-----------+\n",
        "                |\n",
        "                v\n",
        "     +----------------------+\n",
        "     | 2. Make Baseline      |\n",
        "     | (Simple Model)        |\n",
        "     +----------+-----------+\n",
        "                |\n",
        "                v\n",
        "     +----------------------+\n",
        "     | 3. Change ONE Thing   |\n",
        "     | (Hyperparameter)      |\n",
        "     +----------+-----------+\n",
        "                |\n",
        "                v\n",
        "     +----------------------+\n",
        "     | 4. Predict Outcome    |\n",
        "     | (What do you expect?) |\n",
        "     +----------+-----------+\n",
        "                |\n",
        "                v\n",
        "     +----------------------+\n",
        "     | 5. Test Systematically|\n",
        "     | (Cross-validation)    |\n",
        "     +----------+-----------+\n",
        "                |\n",
        "                v\n",
        "     +----------------------+\n",
        "     | 6. Record Observations|\n",
        "     | (Better? Worse?)      |\n",
        "     +----------+-----------+\n",
        "                |\n",
        "                v\n",
        "     +----------------------+\n",
        "     | 7. Plan Next Move     |\n",
        "     | (New experiment)      |\n",
        "     +----------+-----------+\n",
        "                |\n",
        "                v\n",
        "     +----------------------+\n",
        "     | 8. Stop When Flatline |\n",
        "     | (No more gains)       |\n",
        "     +----------------------+"
      ],
      "metadata": {
        "id": "qcBLAAtHbs-1"
      }
    }
  ]
}